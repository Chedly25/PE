{
 "cells": [
  {
   "cell_type": "code",
   "execution_count": 1,
   "outputs": [],
   "source": [
    "import collections.abc\n",
    "#hyper needs the four following aliases to be done manually.\\n\",\n",
    "collections.Iterable = collections.abc.Iterable\n",
    "collections.Mapping = collections.abc.Mapping\n",
    "collections.MutableSet = collections.abc.MutableSet\n",
    "collections.MutableMapping = collections.abc.MutableMapping"
   ],
   "metadata": {
    "collapsed": false
   }
  },
  {
   "cell_type": "code",
   "execution_count": 2,
   "outputs": [],
   "source": [
    "EEG_channels = ['Fp1', 'AF3', 'F3', 'F7', 'FC5', 'FC1', 'C3', 'T7', 'CP5', 'CP1', 'P3',\n",
    "                'P7', 'PO3', 'O1', 'Oz', 'Pz', 'Fp2', 'AF4', 'Fz', 'F4', 'F8', 'FC6',\n",
    "                'FC2', 'Cz', 'C4', 'T8', 'CP6', 'CP2', 'P4', 'P8', 'PO4', 'O2']"
   ],
   "metadata": {
    "collapsed": false
   }
  },
  {
   "cell_type": "code",
   "execution_count": 3,
   "outputs": [
    {
     "name": "stderr",
     "output_type": "stream",
     "text": [
      "C:\\Users\\chedl\\AppData\\Local\\Programs\\Python\\Python39\\lib\\site-packages\\scipy\\__init__.py:173: UserWarning: A NumPy version >=1.19.5 and <1.27.0 is required for this version of SciPy (detected version 1.19.3)\n",
      "  warnings.warn(f\"A NumPy version >={np_minversion} and <{np_maxversion}\"\n"
     ]
    }
   ],
   "source": [
    "from dn3.configuratron import ExperimentConfig, DatasetConfig\n",
    "from dn3.trainable.processes import StandardClassification\n",
    "from dn3.trainable.models import TIDNet, BENDRClassifier\n",
    "# Since we are doing a lot of loading, this is nice to suppress some tedious information\\n\",\n",
    "import mne\n",
    "mne.set_log_level(False)"
   ],
   "metadata": {
    "collapsed": false
   }
  },
  {
   "cell_type": "code",
   "execution_count": null,
   "outputs": [],
   "source": [
    "config_filename = 'privateEEG_config.yml'\n",
    "experiment = ExperimentConfig(config_filename)\n",
    "ds_config = experiment.datasets['privateEEG']\n",
    "dataset = ds_config.auto_construct_dataset()"
   ],
   "metadata": {
    "collapsed": false,
    "pycharm": {
     "is_executing": true
    }
   }
  },
  {
   "cell_type": "code",
   "execution_count": 20,
   "outputs": [],
   "source": [
    "def make_model_and_process():\n",
    "    tidnet = TIDNet.from_dataset(ds_config)\n",
    "    return StandardClassification(tidnet, cuda=experiment.use_gpu, learning_rate=ds_config.train_params.lr)"
   ],
   "metadata": {
    "collapsed": false
   }
  },
  {
   "cell_type": "code",
   "execution_count": 21,
   "outputs": [
    {
     "ename": "AttributeError",
     "evalue": "'DatasetConfig' object has no attribute 'lmso'",
     "output_type": "error",
     "traceback": [
      "\u001B[1;31m---------------------------------------------------------------------------\u001B[0m",
      "\u001B[1;31mAttributeError\u001B[0m                            Traceback (most recent call last)",
      "Cell \u001B[1;32mIn[21], line 2\u001B[0m\n\u001B[0;32m      1\u001B[0m results \u001B[38;5;241m=\u001B[39m \u001B[38;5;28mlist\u001B[39m()\n\u001B[1;32m----> 2\u001B[0m \u001B[38;5;28;01mfor\u001B[39;00m training, validation, test \u001B[38;5;129;01min\u001B[39;00m \u001B[43mds_config\u001B[49m\u001B[38;5;241;43m.\u001B[39;49m\u001B[43mlmso\u001B[49m(ds_config\u001B[38;5;241m.\u001B[39mtrain_params\u001B[38;5;241m.\u001B[39mfolds):\n\u001B[0;32m      3\u001B[0m     process \u001B[38;5;241m=\u001B[39m make_model_and_process()\n\u001B[0;32m      4\u001B[0m     process\u001B[38;5;241m.\u001B[39mfit(training_dataset\u001B[38;5;241m=\u001B[39mtraining, validation_dataset\u001B[38;5;241m=\u001B[39mvalidation)\n",
      "\u001B[1;31mAttributeError\u001B[0m: 'DatasetConfig' object has no attribute 'lmso'"
     ]
    }
   ],
   "source": [
    "results = list()\n",
    "for training, validation, test in ds_config.lmso(ds_config.train_params.folds):\n",
    "    process = make_model_and_process()\n",
    "    process.fit(training_dataset=training, validation_dataset=validation)\n",
    "    results.append(process.evaluate(test)['Accuracy'])\n",
    "    print(results)\n",
    "    print(\"Average accuracy: {:.2%}\".format(sum(results)/len(results)))"
   ],
   "metadata": {
    "collapsed": false
   }
  }
 ],
 "metadata": {
  "kernelspec": {
   "display_name": "Python 3",
   "language": "python",
   "name": "python3"
  },
  "language_info": {
   "codemirror_mode": {
    "name": "ipython",
    "version": 2
   },
   "file_extension": ".py",
   "mimetype": "text/x-python",
   "name": "python",
   "nbconvert_exporter": "python",
   "pygments_lexer": "ipython2",
   "version": "2.7.6"
  }
 },
 "nbformat": 4,
 "nbformat_minor": 0
}
