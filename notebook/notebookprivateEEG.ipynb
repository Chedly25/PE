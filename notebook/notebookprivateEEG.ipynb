{
 "cells": [
  {
   "cell_type": "code",
   "execution_count": 1,
   "outputs": [],
   "source": [
    "import collections.abc\n",
    "#hyper needs the four following aliases to be done manually.\\n\",\n",
    "collections.Iterable = collections.abc.Iterable\n",
    "collections.Mapping = collections.abc.Mapping\n",
    "collections.MutableSet = collections.abc.MutableSet\n",
    "collections.MutableMapping = collections.abc.MutableMapping"
   ],
   "metadata": {
    "collapsed": false
   }
  },
  {
   "cell_type": "code",
   "execution_count": 2,
   "outputs": [],
   "source": [
    "EEG_channels = ['Fp1', 'AF3', 'F3', 'F7', 'FC5', 'FC1', 'C3', 'T7', 'CP5', 'CP1', 'P3',\n",
    "                'P7', 'PO3', 'O1', 'Oz', 'Pz', 'Fp2', 'AF4', 'Fz', 'F4', 'F8', 'FC6',\n",
    "                'FC2', 'Cz', 'C4', 'T8', 'CP6', 'CP2', 'P4', 'P8', 'PO4', 'O2']"
   ],
   "metadata": {
    "collapsed": false
   }
  },
  {
   "cell_type": "code",
   "execution_count": 3,
   "outputs": [
    {
     "name": "stderr",
     "output_type": "stream",
     "text": [
      "C:\\Users\\chedl\\AppData\\Local\\Programs\\Python\\Python39\\lib\\site-packages\\scipy\\__init__.py:173: UserWarning: A NumPy version >=1.19.5 and <1.27.0 is required for this version of SciPy (detected version 1.19.3)\n",
      "  warnings.warn(f\"A NumPy version >={np_minversion} and <{np_maxversion}\"\n"
     ]
    }
   ],
   "source": [
    "from dn3.configuratron import ExperimentConfig, DatasetConfig\n",
    "from dn3.trainable.processes import StandardClassification\n",
    "from dn3.trainable.models import TIDNet, BENDRClassifier\n",
    "# Since we are doing a lot of loading, this is nice to suppress some tedious information\\n\",\n",
    "import mne\n",
    "mne.set_log_level(False)"
   ],
   "metadata": {
    "collapsed": false
   }
  },
  {
   "cell_type": "code",
   "execution_count": 23,
   "outputs": [
    {
     "name": "stdout",
     "output_type": "stream",
     "text": [
      "Adding additional configuration entries: dict_keys(['extensions', 'train_params'])\n",
      "Configuratron found 1 datasets.\n"
     ]
    },
    {
     "name": "stderr",
     "output_type": "stream",
     "text": [
      "Scanning C:\\Users\\chedl\\OneDrive\\Bureau\\EMSE\\3A\\PE\\essai. If there are a lot of files, this may take a while...: 100%|██████████| 1/1 [00:00<00:00, 71.18it/s, extension=.raw.fif]\n"
     ]
    },
    {
     "name": "stdout",
     "output_type": "stream",
     "text": [
      "Creating dataset of 547 Epoched recordings from 28 people.\n"
     ]
    },
    {
     "name": "stderr",
     "output_type": "stream",
     "text": [
      "Loading EEG MAHNOB:   4%|▎         | 1/28 [00:00<00:03,  7.22person/s]"
     ]
    },
    {
     "name": "stdout",
     "output_type": "stream",
     "text": [
      "Skipping recording_10.raw.fif. Exception: (\"No stim channels found. Consider specifying them manually using the 'stim_channel' parameter.\",).\n",
      "Skipping recording_12.raw.fif. Exception: (\"No stim channels found. Consider specifying them manually using the 'stim_channel' parameter.\",).\n",
      "Skipping recording_14.raw.fif. Exception: (\"No stim channels found. Consider specifying them manually using the 'stim_channel' parameter.\",).\n",
      "Skipping recording_16.raw.fif. Exception: (\"No stim channels found. Consider specifying them manually using the 'stim_channel' parameter.\",).\n",
      "Skipping recording_18.raw.fif. Exception: (\"No stim channels found. Consider specifying them manually using the 'stim_channel' parameter.\",).\n",
      "Skipping recording_2.raw.fif. Exception: (\"No stim channels found. Consider specifying them manually using the 'stim_channel' parameter.\",).\n",
      "Skipping recording_20.raw.fif. Exception: (\"No stim channels found. Consider specifying them manually using the 'stim_channel' parameter.\",).\n",
      "Skipping recording_22.raw.fif. Exception: (\"No stim channels found. Consider specifying them manually using the 'stim_channel' parameter.\",).\n",
      "Skipping recording_24.raw.fif. Exception: (\"No stim channels found. Consider specifying them manually using the 'stim_channel' parameter.\",).\n",
      "Skipping recording_26.raw.fif. Exception: (\"No stim channels found. Consider specifying them manually using the 'stim_channel' parameter.\",).\n",
      "Skipping recording_28.raw.fif. Exception: (\"No stim channels found. Consider specifying them manually using the 'stim_channel' parameter.\",).\n",
      "Skipping recording_30.raw.fif. Exception: (\"No stim channels found. Consider specifying them manually using the 'stim_channel' parameter.\",).\n",
      "Skipping recording_32.raw.fif. Exception: (\"No stim channels found. Consider specifying them manually using the 'stim_channel' parameter.\",).\n",
      "Skipping recording_34.raw.fif. Exception: (\"No stim channels found. Consider specifying them manually using the 'stim_channel' parameter.\",).\n",
      "Skipping recording_36.raw.fif. Exception: (\"No stim channels found. Consider specifying them manually using the 'stim_channel' parameter.\",).\n",
      "Skipping recording_38.raw.fif. Exception: (\"No stim channels found. Consider specifying them manually using the 'stim_channel' parameter.\",).\n",
      "Skipping recording_4.raw.fif. Exception: (\"No stim channels found. Consider specifying them manually using the 'stim_channel' parameter.\",).\n",
      "Skipping recording_40.raw.fif. Exception: (\"No stim channels found. Consider specifying them manually using the 'stim_channel' parameter.\",).\n",
      "Skipping recording_6.raw.fif. Exception: (\"No stim channels found. Consider specifying them manually using the 'stim_channel' parameter.\",).\n",
      "Skipping recording_8.raw.fif. Exception: (\"No stim channels found. Consider specifying them manually using the 'stim_channel' parameter.\",).\n",
      "None of the sessions for 1 were usable. Skipping...\n",
      "Skipping recording_1172.raw.fif. Exception: (\"No stim channels found. Consider specifying them manually using the 'stim_channel' parameter.\",).\n",
      "Skipping recording_1174.raw.fif. Exception: (\"No stim channels found. Consider specifying them manually using the 'stim_channel' parameter.\",).\n"
     ]
    },
    {
     "name": "stderr",
     "output_type": "stream",
     "text": [
      "Loading EEG MAHNOB:   4%|▎         | 1/28 [00:00<00:03,  7.22person/s]"
     ]
    },
    {
     "name": "stdout",
     "output_type": "stream",
     "text": [
      "Skipping recording_1176.raw.fif. Exception: (\"No stim channels found. Consider specifying them manually using the 'stim_channel' parameter.\",).\n",
      "Skipping recording_1178.raw.fif. Exception: (\"No stim channels found. Consider specifying them manually using the 'stim_channel' parameter.\",).\n"
     ]
    },
    {
     "name": "stderr",
     "output_type": "stream",
     "text": [
      "Loading EEG MAHNOB:   4%|▎         | 1/28 [00:00<00:03,  7.22person/s]"
     ]
    },
    {
     "name": "stdout",
     "output_type": "stream",
     "text": [
      "Skipping recording_1180.raw.fif. Exception: (\"No stim channels found. Consider specifying them manually using the 'stim_channel' parameter.\",).\n",
      "Skipping recording_1182.raw.fif. Exception: (\"No stim channels found. Consider specifying them manually using the 'stim_channel' parameter.\",).\n"
     ]
    },
    {
     "name": "stderr",
     "output_type": "stream",
     "text": [
      "Loading EEG MAHNOB:   7%|▋         | 2/28 [00:00<00:03,  6.77person/s]"
     ]
    },
    {
     "name": "stdout",
     "output_type": "stream",
     "text": [
      "Skipping recording_1184.raw.fif. Exception: (\"No stim channels found. Consider specifying them manually using the 'stim_channel' parameter.\",).\n",
      "Skipping recording_1186.raw.fif. Exception: (\"No stim channels found. Consider specifying them manually using the 'stim_channel' parameter.\",).\n",
      "Skipping recording_1188.raw.fif. Exception: (\"No stim channels found. Consider specifying them manually using the 'stim_channel' parameter.\",).\n",
      "Skipping recording_1190.raw.fif. Exception: (\"No stim channels found. Consider specifying them manually using the 'stim_channel' parameter.\",).\n",
      "Skipping recording_1192.raw.fif. Exception: (\"No stim channels found. Consider specifying them manually using the 'stim_channel' parameter.\",).\n",
      "Skipping recording_1194.raw.fif. Exception: (\"No stim channels found. Consider specifying them manually using the 'stim_channel' parameter.\",).\n",
      "Skipping recording_1196.raw.fif. Exception: (\"No stim channels found. Consider specifying them manually using the 'stim_channel' parameter.\",).\n",
      "Skipping recording_1198.raw.fif. Exception: (\"No stim channels found. Consider specifying them manually using the 'stim_channel' parameter.\",).\n",
      "Skipping recording_1200.raw.fif. Exception: (\"No stim channels found. Consider specifying them manually using the 'stim_channel' parameter.\",).\n",
      "Skipping recording_1202.raw.fif. Exception: (\"No stim channels found. Consider specifying them manually using the 'stim_channel' parameter.\",).\n",
      "Skipping recording_1204.raw.fif. Exception: (\"No stim channels found. Consider specifying them manually using the 'stim_channel' parameter.\",).\n",
      "Skipping recording_1206.raw.fif. Exception: (\"No stim channels found. Consider specifying them manually using the 'stim_channel' parameter.\",).\n",
      "Skipping recording_1208.raw.fif. Exception: (\"No stim channels found. Consider specifying them manually using the 'stim_channel' parameter.\",).\n",
      "Skipping recording_1210.raw.fif. Exception: (\"No stim channels found. Consider specifying them manually using the 'stim_channel' parameter.\",).\n",
      "None of the sessions for 10 were usable. Skipping...\n",
      "Skipping recording_1302.raw.fif. Exception: (\"No stim channels found. Consider specifying them manually using the 'stim_channel' parameter.\",).\n",
      "Skipping recording_1304.raw.fif. Exception: (\"No stim channels found. Consider specifying them manually using the 'stim_channel' parameter.\",).\n",
      "Skipping recording_1306.raw.fif. Exception: (\"No stim channels found. Consider specifying them manually using the 'stim_channel' parameter.\",).\n",
      "Skipping recording_1308.raw.fif. Exception: (\"No stim channels found. Consider specifying them manually using the 'stim_channel' parameter.\",).\n",
      "Skipping recording_1310.raw.fif. Exception: (\"No stim channels found. Consider specifying them manually using the 'stim_channel' parameter.\",).\n",
      "Skipping recording_1312.raw.fif. Exception: (\"No stim channels found. Consider specifying them manually using the 'stim_channel' parameter.\",).\n",
      "Skipping recording_1314.raw.fif. Exception: (\"No stim channels found. Consider specifying them manually using the 'stim_channel' parameter.\",).\n"
     ]
    },
    {
     "name": "stderr",
     "output_type": "stream",
     "text": [
      "Loading EEG MAHNOB:   7%|▋         | 2/28 [00:00<00:03,  6.77person/s]"
     ]
    },
    {
     "name": "stdout",
     "output_type": "stream",
     "text": [
      "Skipping recording_1316.raw.fif. Exception: (\"No stim channels found. Consider specifying them manually using the 'stim_channel' parameter.\",).\n",
      "Skipping recording_1318.raw.fif. Exception: (\"No stim channels found. Consider specifying them manually using the 'stim_channel' parameter.\",).\n"
     ]
    },
    {
     "name": "stderr",
     "output_type": "stream",
     "text": [
      "Loading EEG MAHNOB:   7%|▋         | 2/28 [00:00<00:03,  6.77person/s]"
     ]
    },
    {
     "name": "stdout",
     "output_type": "stream",
     "text": [
      "Skipping recording_1320.raw.fif. Exception: (\"No stim channels found. Consider specifying them manually using the 'stim_channel' parameter.\",).\n",
      "Skipping recording_1322.raw.fif. Exception: (\"No stim channels found. Consider specifying them manually using the 'stim_channel' parameter.\",).\n"
     ]
    },
    {
     "name": "stderr",
     "output_type": "stream",
     "text": [
      "Loading EEG MAHNOB:  11%|█         | 3/28 [00:00<00:03,  6.72person/s]"
     ]
    },
    {
     "name": "stdout",
     "output_type": "stream",
     "text": [
      "Skipping recording_1324.raw.fif. Exception: (\"No stim channels found. Consider specifying them manually using the 'stim_channel' parameter.\",).\n",
      "Skipping recording_1326.raw.fif. Exception: (\"No stim channels found. Consider specifying them manually using the 'stim_channel' parameter.\",).\n",
      "Skipping recording_1328.raw.fif. Exception: (\"No stim channels found. Consider specifying them manually using the 'stim_channel' parameter.\",).\n",
      "Skipping recording_1330.raw.fif. Exception: (\"No stim channels found. Consider specifying them manually using the 'stim_channel' parameter.\",).\n",
      "Skipping recording_1332.raw.fif. Exception: (\"No stim channels found. Consider specifying them manually using the 'stim_channel' parameter.\",).\n",
      "Skipping recording_1334.raw.fif. Exception: (\"No stim channels found. Consider specifying them manually using the 'stim_channel' parameter.\",).\n",
      "Skipping recording_1336.raw.fif. Exception: (\"No stim channels found. Consider specifying them manually using the 'stim_channel' parameter.\",).\n",
      "Skipping recording_1338.raw.fif. Exception: (\"No stim channels found. Consider specifying them manually using the 'stim_channel' parameter.\",).\n",
      "Skipping recording_1340.raw.fif. Exception: (\"No stim channels found. Consider specifying them manually using the 'stim_channel' parameter.\",).\n",
      "None of the sessions for 11 were usable. Skipping...\n",
      "Skipping recording_1562.raw.fif. Exception: (\"No stim channels found. Consider specifying them manually using the 'stim_channel' parameter.\",).\n",
      "Skipping recording_1564.raw.fif. Exception: (\"No stim channels found. Consider specifying them manually using the 'stim_channel' parameter.\",).\n",
      "Skipping recording_1566.raw.fif. Exception: (\"No stim channels found. Consider specifying them manually using the 'stim_channel' parameter.\",).\n",
      "Skipping recording_1568.raw.fif. Exception: (\"No stim channels found. Consider specifying them manually using the 'stim_channel' parameter.\",).\n",
      "Skipping recording_1570.raw.fif. Exception: (\"No stim channels found. Consider specifying them manually using the 'stim_channel' parameter.\",).\n",
      "Skipping recording_1572.raw.fif. Exception: (\"No stim channels found. Consider specifying them manually using the 'stim_channel' parameter.\",).\n",
      "Skipping recording_1574.raw.fif. Exception: (\"No stim channels found. Consider specifying them manually using the 'stim_channel' parameter.\",).\n",
      "Skipping recording_1576.raw.fif. Exception: (\"No stim channels found. Consider specifying them manually using the 'stim_channel' parameter.\",).\n",
      "Skipping recording_1578.raw.fif. Exception: (\"No stim channels found. Consider specifying them manually using the 'stim_channel' parameter.\",).\n",
      "Skipping recording_1580.raw.fif. Exception: (\"No stim channels found. Consider specifying them manually using the 'stim_channel' parameter.\",).\n",
      "Skipping recording_1582.raw.fif. Exception: (\"No stim channels found. Consider specifying them manually using the 'stim_channel' parameter.\",).\n",
      "Skipping recording_1584.raw.fif. Exception: (\"No stim channels found. Consider specifying them manually using the 'stim_channel' parameter.\",).\n"
     ]
    },
    {
     "name": "stderr",
     "output_type": "stream",
     "text": [
      "Loading EEG MAHNOB:  11%|█         | 3/28 [00:00<00:03,  6.72person/s]"
     ]
    },
    {
     "name": "stdout",
     "output_type": "stream",
     "text": [
      "Skipping recording_1586.raw.fif. Exception: (\"No stim channels found. Consider specifying them manually using the 'stim_channel' parameter.\",).\n",
      "Skipping recording_1588.raw.fif. Exception: (\"No stim channels found. Consider specifying them manually using the 'stim_channel' parameter.\",).\n",
      "Skipping recording_1590.raw.fif. Exception: (\"No stim channels found. Consider specifying them manually using the 'stim_channel' parameter.\",).\n"
     ]
    },
    {
     "name": "stderr",
     "output_type": "stream",
     "text": [
      "                                                                      \r"
     ]
    },
    {
     "name": "stdout",
     "output_type": "stream",
     "text": [
      "Skipping recording_1592.raw.fif. Exception: (\"No stim channels found. Consider specifying them manually using the 'stim_channel' parameter.\",).\n"
     ]
    },
    {
     "name": "stderr",
     "output_type": "stream",
     "text": [
      "Loading EEG MAHNOB:  14%|█▍        | 4/28 [00:00<00:03,  6.84person/s]"
     ]
    },
    {
     "name": "stdout",
     "output_type": "stream",
     "text": [
      "Skipping recording_1594.raw.fif. Exception: (\"No stim channels found. Consider specifying them manually using the 'stim_channel' parameter.\",).\n",
      "Skipping recording_1596.raw.fif. Exception: (\"No stim channels found. Consider specifying them manually using the 'stim_channel' parameter.\",).\n",
      "Skipping recording_1598.raw.fif. Exception: (\"No stim channels found. Consider specifying them manually using the 'stim_channel' parameter.\",).\n",
      "Skipping recording_1600.raw.fif. Exception: (\"No stim channels found. Consider specifying them manually using the 'stim_channel' parameter.\",).\n",
      "None of the sessions for 13 were usable. Skipping...\n",
      "Skipping recording_1692.raw.fif. Exception: (\"No stim channels found. Consider specifying them manually using the 'stim_channel' parameter.\",).\n",
      "Skipping recording_1694.raw.fif. Exception: (\"No stim channels found. Consider specifying them manually using the 'stim_channel' parameter.\",).\n",
      "Skipping recording_1696.raw.fif. Exception: (\"No stim channels found. Consider specifying them manually using the 'stim_channel' parameter.\",).\n",
      "Skipping recording_1698.raw.fif. Exception: (\"No stim channels found. Consider specifying them manually using the 'stim_channel' parameter.\",).\n",
      "Skipping recording_1700.raw.fif. Exception: (\"No stim channels found. Consider specifying them manually using the 'stim_channel' parameter.\",).\n",
      "Skipping recording_1702.raw.fif. Exception: (\"No stim channels found. Consider specifying them manually using the 'stim_channel' parameter.\",).\n",
      "Skipping recording_1704.raw.fif. Exception: (\"No stim channels found. Consider specifying them manually using the 'stim_channel' parameter.\",).\n",
      "Skipping recording_1706.raw.fif. Exception: (\"No stim channels found. Consider specifying them manually using the 'stim_channel' parameter.\",).\n",
      "Skipping recording_1708.raw.fif. Exception: (\"No stim channels found. Consider specifying them manually using the 'stim_channel' parameter.\",).\n",
      "Skipping recording_1710.raw.fif. Exception: (\"No stim channels found. Consider specifying them manually using the 'stim_channel' parameter.\",).\n",
      "Skipping recording_1712.raw.fif. Exception: (\"No stim channels found. Consider specifying them manually using the 'stim_channel' parameter.\",).\n",
      "Skipping recording_1714.raw.fif. Exception: (\"No stim channels found. Consider specifying them manually using the 'stim_channel' parameter.\",).\n",
      "Skipping recording_1716.raw.fif. Exception: (\"No stim channels found. Consider specifying them manually using the 'stim_channel' parameter.\",).\n",
      "Skipping recording_1718.raw.fif. Exception: (\"No stim channels found. Consider specifying them manually using the 'stim_channel' parameter.\",).\n",
      "Skipping recording_1720.raw.fif. Exception: (\"No stim channels found. Consider specifying them manually using the 'stim_channel' parameter.\",).\n",
      "Skipping recording_1722.raw.fif. Exception: (\"No stim channels found. Consider specifying them manually using the 'stim_channel' parameter.\",).\n",
      "Skipping recording_1724.raw.fif. Exception: (\"No stim channels found. Consider specifying them manually using the 'stim_channel' parameter.\",).\n",
      "Skipping recording_1726.raw.fif. Exception: (\"No stim channels found. Consider specifying them manually using the 'stim_channel' parameter.\",).\n"
     ]
    },
    {
     "name": "stderr",
     "output_type": "stream",
     "text": [
      "Loading EEG MAHNOB:  18%|█▊        | 5/28 [00:00<00:03,  6.86person/s]"
     ]
    },
    {
     "name": "stdout",
     "output_type": "stream",
     "text": [
      "Skipping recording_1728.raw.fif. Exception: (\"No stim channels found. Consider specifying them manually using the 'stim_channel' parameter.\",).\n",
      "Skipping recording_1730.raw.fif. Exception: (\"No stim channels found. Consider specifying them manually using the 'stim_channel' parameter.\",).\n",
      "None of the sessions for 14 were usable. Skipping...\n"
     ]
    },
    {
     "name": "stderr",
     "output_type": "stream",
     "text": [
      "Loading EEG MAHNOB:  18%|█▊        | 5/28 [00:00<00:03,  6.86person/s]"
     ]
    },
    {
     "name": "stdout",
     "output_type": "stream",
     "text": [
      "Skipping recording_1952.raw.fif. Exception: (\"No stim channels found. Consider specifying them manually using the 'stim_channel' parameter.\",).\n",
      "Skipping recording_1954.raw.fif. Exception: (\"No stim channels found. Consider specifying them manually using the 'stim_channel' parameter.\",).\n"
     ]
    },
    {
     "name": "stderr",
     "output_type": "stream",
     "text": [
      "                                                                      "
     ]
    },
    {
     "name": "stdout",
     "output_type": "stream",
     "text": [
      "Skipping recording_1956.raw.fif. Exception: (\"No stim channels found. Consider specifying them manually using the 'stim_channel' parameter.\",).\n",
      "Skipping recording_1958.raw.fif. Exception: (\"No stim channels found. Consider specifying them manually using the 'stim_channel' parameter.\",).\n",
      "Skipping recording_1960.raw.fif. Exception: (\"No stim channels found. Consider specifying them manually using the 'stim_channel' parameter.\",).\n",
      "Skipping recording_1962.raw.fif. Exception: (\"No stim channels found. Consider specifying them manually using the 'stim_channel' parameter.\",).\n",
      "Skipping recording_1964.raw.fif. Exception: (\"No stim channels found. Consider specifying them manually using the 'stim_channel' parameter.\",).\n",
      "Skipping recording_1966.raw.fif. Exception: (\"No stim channels found. Consider specifying them manually using the 'stim_channel' parameter.\",).\n",
      "Skipping recording_1968.raw.fif. Exception: (\"No stim channels found. Consider specifying them manually using the 'stim_channel' parameter.\",).\n",
      "Skipping recording_1970.raw.fif. Exception: (\"No stim channels found. Consider specifying them manually using the 'stim_channel' parameter.\",).\n",
      "Skipping recording_1972.raw.fif. Exception: (\"No stim channels found. Consider specifying them manually using the 'stim_channel' parameter.\",).\n",
      "Skipping recording_1974.raw.fif. Exception: (\"No stim channels found. Consider specifying them manually using the 'stim_channel' parameter.\",).\n",
      "Skipping recording_1976.raw.fif. Exception: (\"No stim channels found. Consider specifying them manually using the 'stim_channel' parameter.\",).\n",
      "Skipping recording_1978.raw.fif. Exception: (\"No stim channels found. Consider specifying them manually using the 'stim_channel' parameter.\",).\n",
      "Skipping recording_1980.raw.fif. Exception: (\"No stim channels found. Consider specifying them manually using the 'stim_channel' parameter.\",).\n",
      "Skipping recording_1982.raw.fif. Exception: (\"No stim channels found. Consider specifying them manually using the 'stim_channel' parameter.\",).\n",
      "None of the sessions for 16 were usable. Skipping...\n",
      "Skipping recording_2082.raw.fif. Exception: (\"No stim channels found. Consider specifying them manually using the 'stim_channel' parameter.\",).\n",
      "Skipping recording_2084.raw.fif. Exception: (\"No stim channels found. Consider specifying them manually using the 'stim_channel' parameter.\",).\n",
      "Skipping recording_2086.raw.fif. Exception: (\"No stim channels found. Consider specifying them manually using the 'stim_channel' parameter.\",).\n",
      "Skipping recording_2088.raw.fif. Exception: (\"No stim channels found. Consider specifying them manually using the 'stim_channel' parameter.\",).\n",
      "Skipping recording_2090.raw.fif. Exception: (\"No stim channels found. Consider specifying them manually using the 'stim_channel' parameter.\",).\n"
     ]
    },
    {
     "name": "stderr",
     "output_type": "stream",
     "text": [
      "Loading EEG MAHNOB:  21%|██▏       | 6/28 [00:00<00:03,  7.21person/s]"
     ]
    },
    {
     "name": "stdout",
     "output_type": "stream",
     "text": [
      "Skipping recording_2092.raw.fif. Exception: (\"No stim channels found. Consider specifying them manually using the 'stim_channel' parameter.\",).\n",
      "Skipping recording_2094.raw.fif. Exception: (\"No stim channels found. Consider specifying them manually using the 'stim_channel' parameter.\",).\n"
     ]
    },
    {
     "name": "stderr",
     "output_type": "stream",
     "text": [
      "Loading EEG MAHNOB:  21%|██▏       | 6/28 [00:00<00:03,  7.21person/s]"
     ]
    },
    {
     "name": "stdout",
     "output_type": "stream",
     "text": [
      "Skipping recording_2096.raw.fif. Exception: (\"No stim channels found. Consider specifying them manually using the 'stim_channel' parameter.\",).\n",
      "Skipping recording_2098.raw.fif. Exception: (\"No stim channels found. Consider specifying them manually using the 'stim_channel' parameter.\",).\n"
     ]
    },
    {
     "name": "stderr",
     "output_type": "stream",
     "text": [
      "Loading EEG MAHNOB:  25%|██▌       | 7/28 [00:01<00:03,  6.64person/s]"
     ]
    },
    {
     "name": "stdout",
     "output_type": "stream",
     "text": [
      "Skipping recording_2100.raw.fif. Exception: (\"No stim channels found. Consider specifying them manually using the 'stim_channel' parameter.\",).\n",
      "Skipping recording_2102.raw.fif. Exception: (\"No stim channels found. Consider specifying them manually using the 'stim_channel' parameter.\",).\n",
      "Skipping recording_2104.raw.fif. Exception: (\"No stim channels found. Consider specifying them manually using the 'stim_channel' parameter.\",).\n",
      "Skipping recording_2106.raw.fif. Exception: (\"No stim channels found. Consider specifying them manually using the 'stim_channel' parameter.\",).\n",
      "Skipping recording_2108.raw.fif. Exception: (\"No stim channels found. Consider specifying them manually using the 'stim_channel' parameter.\",).\n",
      "Skipping recording_2110.raw.fif. Exception: (\"No stim channels found. Consider specifying them manually using the 'stim_channel' parameter.\",).\n",
      "Skipping recording_2112.raw.fif. Exception: (\"No stim channels found. Consider specifying them manually using the 'stim_channel' parameter.\",).\n",
      "Skipping recording_2114.raw.fif. Exception: (\"No stim channels found. Consider specifying them manually using the 'stim_channel' parameter.\",).\n",
      "Skipping recording_2116.raw.fif. Exception: (\"No stim channels found. Consider specifying them manually using the 'stim_channel' parameter.\",).\n",
      "Skipping recording_2118.raw.fif. Exception: (\"No stim channels found. Consider specifying them manually using the 'stim_channel' parameter.\",).\n",
      "Skipping recording_2120.raw.fif. Exception: (\"No stim channels found. Consider specifying them manually using the 'stim_channel' parameter.\",).\n",
      "None of the sessions for 17 were usable. Skipping...\n",
      "Skipping recording_2212.raw.fif. Exception: (\"No stim channels found. Consider specifying them manually using the 'stim_channel' parameter.\",).\n",
      "Skipping recording_2214.raw.fif. Exception: (\"No stim channels found. Consider specifying them manually using the 'stim_channel' parameter.\",).\n",
      "Skipping recording_2216.raw.fif. Exception: (\"No stim channels found. Consider specifying them manually using the 'stim_channel' parameter.\",).\n",
      "Skipping recording_2218.raw.fif. Exception: (\"No stim channels found. Consider specifying them manually using the 'stim_channel' parameter.\",).\n",
      "Skipping recording_2220.raw.fif. Exception: (\"No stim channels found. Consider specifying them manually using the 'stim_channel' parameter.\",).\n",
      "Skipping recording_2222.raw.fif. Exception: (\"No stim channels found. Consider specifying them manually using the 'stim_channel' parameter.\",).\n",
      "Skipping recording_2224.raw.fif. Exception: (\"No stim channels found. Consider specifying them manually using the 'stim_channel' parameter.\",).\n"
     ]
    },
    {
     "name": "stderr",
     "output_type": "stream",
     "text": [
      "Loading EEG MAHNOB:  25%|██▌       | 7/28 [00:01<00:03,  6.64person/s]"
     ]
    },
    {
     "name": "stdout",
     "output_type": "stream",
     "text": [
      "Skipping recording_2226.raw.fif. Exception: (\"No stim channels found. Consider specifying them manually using the 'stim_channel' parameter.\",).\n",
      "Skipping recording_2228.raw.fif. Exception: (\"No stim channels found. Consider specifying them manually using the 'stim_channel' parameter.\",).\n"
     ]
    },
    {
     "name": "stderr",
     "output_type": "stream",
     "text": [
      "Loading EEG MAHNOB:  25%|██▌       | 7/28 [00:01<00:03,  6.64person/s]"
     ]
    },
    {
     "name": "stdout",
     "output_type": "stream",
     "text": [
      "Skipping recording_2230.raw.fif. Exception: (\"No stim channels found. Consider specifying them manually using the 'stim_channel' parameter.\",).\n",
      "Skipping recording_2232.raw.fif. Exception: (\"No stim channels found. Consider specifying them manually using the 'stim_channel' parameter.\",).\n"
     ]
    },
    {
     "name": "stderr",
     "output_type": "stream",
     "text": [
      "                                                                      "
     ]
    },
    {
     "name": "stdout",
     "output_type": "stream",
     "text": [
      "Skipping recording_2234.raw.fif. Exception: (\"No stim channels found. Consider specifying them manually using the 'stim_channel' parameter.\",).\n",
      "Skipping recording_2236.raw.fif. Exception: (\"No stim channels found. Consider specifying them manually using the 'stim_channel' parameter.\",).\n",
      "Skipping recording_2238.raw.fif. Exception: (\"No stim channels found. Consider specifying them manually using the 'stim_channel' parameter.\",).\n",
      "Skipping recording_2240.raw.fif. Exception: (\"No stim channels found. Consider specifying them manually using the 'stim_channel' parameter.\",).\n",
      "Skipping recording_2242.raw.fif. Exception: (\"No stim channels found. Consider specifying them manually using the 'stim_channel' parameter.\",).\n",
      "Skipping recording_2244.raw.fif. Exception: (\"No stim channels found. Consider specifying them manually using the 'stim_channel' parameter.\",).\n",
      "Skipping recording_2246.raw.fif. Exception: (\"No stim channels found. Consider specifying them manually using the 'stim_channel' parameter.\",).\n",
      "Skipping recording_2248.raw.fif. Exception: (\"No stim channels found. Consider specifying them manually using the 'stim_channel' parameter.\",).\n",
      "Skipping recording_2250.raw.fif. Exception: (\"No stim channels found. Consider specifying them manually using the 'stim_channel' parameter.\",).\n",
      "None of the sessions for 18 were usable. Skipping...\n",
      "Skipping recording_2342.raw.fif. Exception: (\"No stim channels found. Consider specifying them manually using the 'stim_channel' parameter.\",).\n",
      "Skipping recording_2344.raw.fif. Exception: (\"No stim channels found. Consider specifying them manually using the 'stim_channel' parameter.\",).\n",
      "Skipping recording_2346.raw.fif. Exception: (\"No stim channels found. Consider specifying them manually using the 'stim_channel' parameter.\",).\n",
      "Skipping recording_2348.raw.fif. Exception: (\"No stim channels found. Consider specifying them manually using the 'stim_channel' parameter.\",).\n",
      "Skipping recording_2350.raw.fif. Exception: (\"No stim channels found. Consider specifying them manually using the 'stim_channel' parameter.\",).\n",
      "Skipping recording_2352.raw.fif. Exception: (\"No stim channels found. Consider specifying them manually using the 'stim_channel' parameter.\",).\n",
      "Skipping recording_2354.raw.fif. Exception: (\"No stim channels found. Consider specifying them manually using the 'stim_channel' parameter.\",).\n"
     ]
    },
    {
     "name": "stderr",
     "output_type": "stream",
     "text": [
      "Loading EEG MAHNOB:  29%|██▊       | 8/28 [00:01<00:03,  6.28person/s]"
     ]
    },
    {
     "name": "stdout",
     "output_type": "stream",
     "text": [
      "Skipping recording_2356.raw.fif. Exception: (\"No stim channels found. Consider specifying them manually using the 'stim_channel' parameter.\",).\n",
      "Skipping recording_2358.raw.fif. Exception: (\"No stim channels found. Consider specifying them manually using the 'stim_channel' parameter.\",).\n"
     ]
    },
    {
     "name": "stderr",
     "output_type": "stream",
     "text": [
      "Loading EEG MAHNOB:  29%|██▊       | 8/28 [00:01<00:03,  6.28person/s]"
     ]
    },
    {
     "name": "stdout",
     "output_type": "stream",
     "text": [
      "Skipping recording_2360.raw.fif. Exception: (\"No stim channels found. Consider specifying them manually using the 'stim_channel' parameter.\",).\n",
      "Skipping recording_2362.raw.fif. Exception: (\"No stim channels found. Consider specifying them manually using the 'stim_channel' parameter.\",).\n"
     ]
    },
    {
     "name": "stderr",
     "output_type": "stream",
     "text": [
      "Loading EEG MAHNOB:  32%|███▏      | 9/28 [00:01<00:03,  5.96person/s]"
     ]
    },
    {
     "name": "stdout",
     "output_type": "stream",
     "text": [
      "Skipping recording_2364.raw.fif. Exception: (\"No stim channels found. Consider specifying them manually using the 'stim_channel' parameter.\",).\n",
      "Skipping recording_2366.raw.fif. Exception: (\"No stim channels found. Consider specifying them manually using the 'stim_channel' parameter.\",).\n",
      "Skipping recording_2368.raw.fif. Exception: (\"No stim channels found. Consider specifying them manually using the 'stim_channel' parameter.\",).\n",
      "Skipping recording_2370.raw.fif. Exception: (\"No stim channels found. Consider specifying them manually using the 'stim_channel' parameter.\",).\n",
      "Skipping recording_2372.raw.fif. Exception: (\"No stim channels found. Consider specifying them manually using the 'stim_channel' parameter.\",).\n",
      "Skipping recording_2374.raw.fif. Exception: (\"No stim channels found. Consider specifying them manually using the 'stim_channel' parameter.\",).\n",
      "Skipping recording_2376.raw.fif. Exception: (\"No stim channels found. Consider specifying them manually using the 'stim_channel' parameter.\",).\n",
      "Skipping recording_2378.raw.fif. Exception: (\"No stim channels found. Consider specifying them manually using the 'stim_channel' parameter.\",).\n",
      "Skipping recording_2380.raw.fif. Exception: (\"No stim channels found. Consider specifying them manually using the 'stim_channel' parameter.\",).\n",
      "None of the sessions for 19 were usable. Skipping...\n",
      "Skipping recording_132.raw.fif. Exception: (\"No stim channels found. Consider specifying them manually using the 'stim_channel' parameter.\",).\n",
      "Skipping recording_134.raw.fif. Exception: (\"No stim channels found. Consider specifying them manually using the 'stim_channel' parameter.\",).\n",
      "Skipping recording_136.raw.fif. Exception: (\"No stim channels found. Consider specifying them manually using the 'stim_channel' parameter.\",).\n",
      "Skipping recording_138.raw.fif. Exception: (\"No stim channels found. Consider specifying them manually using the 'stim_channel' parameter.\",).\n",
      "Skipping recording_140.raw.fif. Exception: (\"No stim channels found. Consider specifying them manually using the 'stim_channel' parameter.\",).\n",
      "Skipping recording_142.raw.fif. Exception: (\"No stim channels found. Consider specifying them manually using the 'stim_channel' parameter.\",).\n",
      "Skipping recording_144.raw.fif. Exception: (\"No stim channels found. Consider specifying them manually using the 'stim_channel' parameter.\",).\n",
      "Skipping recording_146.raw.fif. Exception: (\"No stim channels found. Consider specifying them manually using the 'stim_channel' parameter.\",).\n"
     ]
    },
    {
     "name": "stderr",
     "output_type": "stream",
     "text": [
      "Loading EEG MAHNOB:  32%|███▏      | 9/28 [00:01<00:03,  5.96person/s]"
     ]
    },
    {
     "name": "stdout",
     "output_type": "stream",
     "text": [
      "Skipping recording_148.raw.fif. Exception: (\"No stim channels found. Consider specifying them manually using the 'stim_channel' parameter.\",).\n"
     ]
    },
    {
     "name": "stderr",
     "output_type": "stream",
     "text": [
      "Loading EEG MAHNOB:  32%|███▏      | 9/28 [00:01<00:03,  5.96person/s]"
     ]
    },
    {
     "name": "stdout",
     "output_type": "stream",
     "text": [
      "Skipping recording_150.raw.fif. Exception: (\"No stim channels found. Consider specifying them manually using the 'stim_channel' parameter.\",).\n",
      "Skipping recording_152.raw.fif. Exception: (\"No stim channels found. Consider specifying them manually using the 'stim_channel' parameter.\",).\n"
     ]
    },
    {
     "name": "stderr",
     "output_type": "stream",
     "text": [
      "Loading EEG MAHNOB:  36%|███▌      | 10/28 [00:01<00:03,  5.80person/s]"
     ]
    },
    {
     "name": "stdout",
     "output_type": "stream",
     "text": [
      "Skipping recording_154.raw.fif. Exception: (\"No stim channels found. Consider specifying them manually using the 'stim_channel' parameter.\",).\n",
      "Skipping recording_156.raw.fif. Exception: (\"No stim channels found. Consider specifying them manually using the 'stim_channel' parameter.\",).\n",
      "Skipping recording_158.raw.fif. Exception: (\"No stim channels found. Consider specifying them manually using the 'stim_channel' parameter.\",).\n",
      "Skipping recording_160.raw.fif. Exception: (\"No stim channels found. Consider specifying them manually using the 'stim_channel' parameter.\",).\n",
      "Skipping recording_162.raw.fif. Exception: (\"No stim channels found. Consider specifying them manually using the 'stim_channel' parameter.\",).\n",
      "Skipping recording_164.raw.fif. Exception: (\"No stim channels found. Consider specifying them manually using the 'stim_channel' parameter.\",).\n",
      "Skipping recording_166.raw.fif. Exception: (\"No stim channels found. Consider specifying them manually using the 'stim_channel' parameter.\",).\n",
      "Skipping recording_168.raw.fif. Exception: (\"No stim channels found. Consider specifying them manually using the 'stim_channel' parameter.\",).\n",
      "Skipping recording_170.raw.fif. Exception: (\"No stim channels found. Consider specifying them manually using the 'stim_channel' parameter.\",).\n",
      "None of the sessions for 2 were usable. Skipping...\n",
      "Skipping recording_2472.raw.fif. Exception: (\"No stim channels found. Consider specifying them manually using the 'stim_channel' parameter.\",).\n",
      "Skipping recording_2474.raw.fif. Exception: (\"No stim channels found. Consider specifying them manually using the 'stim_channel' parameter.\",).\n",
      "Skipping recording_2476.raw.fif. Exception: (\"No stim channels found. Consider specifying them manually using the 'stim_channel' parameter.\",).\n",
      "Skipping recording_2478.raw.fif. Exception: (\"No stim channels found. Consider specifying them manually using the 'stim_channel' parameter.\",).\n",
      "Skipping recording_2480.raw.fif. Exception: (\"No stim channels found. Consider specifying them manually using the 'stim_channel' parameter.\",).\n",
      "Skipping recording_2482.raw.fif. Exception: (\"No stim channels found. Consider specifying them manually using the 'stim_channel' parameter.\",).\n",
      "Skipping recording_2484.raw.fif. Exception: (\"No stim channels found. Consider specifying them manually using the 'stim_channel' parameter.\",).\n",
      "Skipping recording_2486.raw.fif. Exception: (\"No stim channels found. Consider specifying them manually using the 'stim_channel' parameter.\",).\n"
     ]
    },
    {
     "name": "stderr",
     "output_type": "stream",
     "text": [
      "                                                                       \r"
     ]
    },
    {
     "name": "stdout",
     "output_type": "stream",
     "text": [
      "Skipping recording_2488.raw.fif. Exception: (\"No stim channels found. Consider specifying them manually using the 'stim_channel' parameter.\",).\n"
     ]
    },
    {
     "name": "stderr",
     "output_type": "stream",
     "text": [
      "Loading EEG MAHNOB:  36%|███▌      | 10/28 [00:01<00:03,  5.80person/s]"
     ]
    },
    {
     "name": "stdout",
     "output_type": "stream",
     "text": [
      "Skipping recording_2490.raw.fif. Exception: (\"No stim channels found. Consider specifying them manually using the 'stim_channel' parameter.\",).\n",
      "Skipping recording_2492.raw.fif. Exception: (\"No stim channels found. Consider specifying them manually using the 'stim_channel' parameter.\",).\n"
     ]
    },
    {
     "name": "stderr",
     "output_type": "stream",
     "text": [
      "Loading EEG MAHNOB:  39%|███▉      | 11/28 [00:01<00:03,  5.59person/s]"
     ]
    },
    {
     "name": "stdout",
     "output_type": "stream",
     "text": [
      "Skipping recording_2494.raw.fif. Exception: (\"No stim channels found. Consider specifying them manually using the 'stim_channel' parameter.\",).\n",
      "Skipping recording_2496.raw.fif. Exception: (\"No stim channels found. Consider specifying them manually using the 'stim_channel' parameter.\",).\n",
      "Skipping recording_2498.raw.fif. Exception: (\"No stim channels found. Consider specifying them manually using the 'stim_channel' parameter.\",).\n",
      "Skipping recording_2500.raw.fif. Exception: (\"No stim channels found. Consider specifying them manually using the 'stim_channel' parameter.\",).\n",
      "Skipping recording_2502.raw.fif. Exception: (\"No stim channels found. Consider specifying them manually using the 'stim_channel' parameter.\",).\n",
      "Skipping recording_2504.raw.fif. Exception: (\"No stim channels found. Consider specifying them manually using the 'stim_channel' parameter.\",).\n",
      "Skipping recording_2506.raw.fif. Exception: (\"No stim channels found. Consider specifying them manually using the 'stim_channel' parameter.\",).\n",
      "Skipping recording_2508.raw.fif. Exception: (\"No stim channels found. Consider specifying them manually using the 'stim_channel' parameter.\",).\n",
      "Skipping recording_2510.raw.fif. Exception: (\"No stim channels found. Consider specifying them manually using the 'stim_channel' parameter.\",).\n",
      "None of the sessions for 20 were usable. Skipping...\n",
      "Skipping recording_2602.raw.fif. Exception: (\"No stim channels found. Consider specifying them manually using the 'stim_channel' parameter.\",).\n",
      "Skipping recording_2604.raw.fif. Exception: (\"No stim channels found. Consider specifying them manually using the 'stim_channel' parameter.\",).\n",
      "Skipping recording_2606.raw.fif. Exception: (\"No stim channels found. Consider specifying them manually using the 'stim_channel' parameter.\",).\n",
      "Skipping recording_2608.raw.fif. Exception: (\"No stim channels found. Consider specifying them manually using the 'stim_channel' parameter.\",).\n",
      "Skipping recording_2610.raw.fif. Exception: (\"No stim channels found. Consider specifying them manually using the 'stim_channel' parameter.\",).\n",
      "Skipping recording_2612.raw.fif. Exception: (\"No stim channels found. Consider specifying them manually using the 'stim_channel' parameter.\",).\n",
      "Skipping recording_2614.raw.fif. Exception: (\"No stim channels found. Consider specifying them manually using the 'stim_channel' parameter.\",).\n",
      "Skipping recording_2616.raw.fif. Exception: (\"No stim channels found. Consider specifying them manually using the 'stim_channel' parameter.\",).\n"
     ]
    },
    {
     "name": "stderr",
     "output_type": "stream",
     "text": [
      "Loading EEG MAHNOB:  39%|███▉      | 11/28 [00:01<00:03,  5.59person/s]"
     ]
    },
    {
     "name": "stdout",
     "output_type": "stream",
     "text": [
      "Skipping recording_2618.raw.fif. Exception: (\"No stim channels found. Consider specifying them manually using the 'stim_channel' parameter.\",).\n",
      "Skipping recording_2620.raw.fif. Exception: (\"No stim channels found. Consider specifying them manually using the 'stim_channel' parameter.\",).\n"
     ]
    },
    {
     "name": "stderr",
     "output_type": "stream",
     "text": [
      "Loading EEG MAHNOB:  39%|███▉      | 11/28 [00:01<00:03,  5.59person/s]"
     ]
    },
    {
     "name": "stdout",
     "output_type": "stream",
     "text": [
      "Skipping recording_2622.raw.fif. Exception: (\"No stim channels found. Consider specifying them manually using the 'stim_channel' parameter.\",).\n",
      "Skipping recording_2624.raw.fif. Exception: (\"No stim channels found. Consider specifying them manually using the 'stim_channel' parameter.\",).\n"
     ]
    },
    {
     "name": "stderr",
     "output_type": "stream",
     "text": [
      "Loading EEG MAHNOB:  43%|████▎     | 12/28 [00:02<00:02,  5.73person/s]"
     ]
    },
    {
     "name": "stdout",
     "output_type": "stream",
     "text": [
      "Skipping recording_2626.raw.fif. Exception: (\"No stim channels found. Consider specifying them manually using the 'stim_channel' parameter.\",).\n",
      "Skipping recording_2628.raw.fif. Exception: (\"No stim channels found. Consider specifying them manually using the 'stim_channel' parameter.\",).\n",
      "Skipping recording_2630.raw.fif. Exception: (\"No stim channels found. Consider specifying them manually using the 'stim_channel' parameter.\",).\n",
      "Skipping recording_2632.raw.fif. Exception: (\"No stim channels found. Consider specifying them manually using the 'stim_channel' parameter.\",).\n",
      "Skipping recording_2634.raw.fif. Exception: (\"No stim channels found. Consider specifying them manually using the 'stim_channel' parameter.\",).\n",
      "Skipping recording_2636.raw.fif. Exception: (\"No stim channels found. Consider specifying them manually using the 'stim_channel' parameter.\",).\n",
      "Skipping recording_2638.raw.fif. Exception: (\"No stim channels found. Consider specifying them manually using the 'stim_channel' parameter.\",).\n",
      "Skipping recording_2640.raw.fif. Exception: (\"No stim channels found. Consider specifying them manually using the 'stim_channel' parameter.\",).\n",
      "None of the sessions for 21 were usable. Skipping...\n",
      "Skipping recording_2732.raw.fif. Exception: (\"No stim channels found. Consider specifying them manually using the 'stim_channel' parameter.\",).\n",
      "Skipping recording_2734.raw.fif. Exception: (\"No stim channels found. Consider specifying them manually using the 'stim_channel' parameter.\",).\n",
      "Skipping recording_2736.raw.fif. Exception: (\"No stim channels found. Consider specifying them manually using the 'stim_channel' parameter.\",).\n",
      "Skipping recording_2738.raw.fif. Exception: (\"No stim channels found. Consider specifying them manually using the 'stim_channel' parameter.\",).\n",
      "Skipping recording_2740.raw.fif. Exception: (\"No stim channels found. Consider specifying them manually using the 'stim_channel' parameter.\",).\n",
      "Skipping recording_2742.raw.fif. Exception: (\"No stim channels found. Consider specifying them manually using the 'stim_channel' parameter.\",).\n",
      "Skipping recording_2744.raw.fif. Exception: (\"No stim channels found. Consider specifying them manually using the 'stim_channel' parameter.\",).\n",
      "Skipping recording_2746.raw.fif. Exception: (\"No stim channels found. Consider specifying them manually using the 'stim_channel' parameter.\",).\n",
      "Skipping recording_2748.raw.fif. Exception: (\"No stim channels found. Consider specifying them manually using the 'stim_channel' parameter.\",).\n",
      "Skipping recording_2750.raw.fif. Exception: (\"No stim channels found. Consider specifying them manually using the 'stim_channel' parameter.\",).\n",
      "Skipping recording_2752.raw.fif. Exception: (\"No stim channels found. Consider specifying them manually using the 'stim_channel' parameter.\",).\n"
     ]
    },
    {
     "name": "stderr",
     "output_type": "stream",
     "text": [
      "                                                                       "
     ]
    },
    {
     "name": "stdout",
     "output_type": "stream",
     "text": [
      "Skipping recording_2754.raw.fif. Exception: (\"No stim channels found. Consider specifying them manually using the 'stim_channel' parameter.\",).\n"
     ]
    },
    {
     "name": "stderr",
     "output_type": "stream",
     "text": [
      "Loading EEG MAHNOB:  43%|████▎     | 12/28 [00:02<00:02,  5.73person/s]"
     ]
    },
    {
     "name": "stdout",
     "output_type": "stream",
     "text": [
      "Skipping recording_2756.raw.fif. Exception: (\"No stim channels found. Consider specifying them manually using the 'stim_channel' parameter.\",).\n",
      "Skipping recording_2758.raw.fif. Exception: (\"No stim channels found. Consider specifying them manually using the 'stim_channel' parameter.\",).\n"
     ]
    },
    {
     "name": "stderr",
     "output_type": "stream",
     "text": [
      "Loading EEG MAHNOB:  46%|████▋     | 13/28 [00:02<00:02,  5.77person/s]"
     ]
    },
    {
     "name": "stdout",
     "output_type": "stream",
     "text": [
      "Skipping recording_2760.raw.fif. Exception: (\"No stim channels found. Consider specifying them manually using the 'stim_channel' parameter.\",).\n",
      "Skipping recording_2762.raw.fif. Exception: (\"No stim channels found. Consider specifying them manually using the 'stim_channel' parameter.\",).\n",
      "Skipping recording_2764.raw.fif. Exception: (\"No stim channels found. Consider specifying them manually using the 'stim_channel' parameter.\",).\n",
      "Skipping recording_2766.raw.fif. Exception: (\"No stim channels found. Consider specifying them manually using the 'stim_channel' parameter.\",).\n",
      "Skipping recording_2768.raw.fif. Exception: (\"No stim channels found. Consider specifying them manually using the 'stim_channel' parameter.\",).\n",
      "Skipping recording_2770.raw.fif. Exception: (\"No stim channels found. Consider specifying them manually using the 'stim_channel' parameter.\",).\n",
      "None of the sessions for 22 were usable. Skipping...\n",
      "Skipping recording_2862.raw.fif. Exception: (\"No stim channels found. Consider specifying them manually using the 'stim_channel' parameter.\",).\n",
      "Skipping recording_2864.raw.fif. Exception: (\"No stim channels found. Consider specifying them manually using the 'stim_channel' parameter.\",).\n",
      "Skipping recording_2866.raw.fif. Exception: (\"No stim channels found. Consider specifying them manually using the 'stim_channel' parameter.\",).\n",
      "Skipping recording_2868.raw.fif. Exception: (\"No stim channels found. Consider specifying them manually using the 'stim_channel' parameter.\",).\n",
      "Skipping recording_2870.raw.fif. Exception: (\"No stim channels found. Consider specifying them manually using the 'stim_channel' parameter.\",).\n",
      "Skipping recording_2872.raw.fif. Exception: (\"No stim channels found. Consider specifying them manually using the 'stim_channel' parameter.\",).\n",
      "Skipping recording_2874.raw.fif. Exception: (\"No stim channels found. Consider specifying them manually using the 'stim_channel' parameter.\",).\n",
      "Skipping recording_2876.raw.fif. Exception: (\"No stim channels found. Consider specifying them manually using the 'stim_channel' parameter.\",).\n",
      "Skipping recording_2878.raw.fif. Exception: (\"No stim channels found. Consider specifying them manually using the 'stim_channel' parameter.\",).\n",
      "Skipping recording_2880.raw.fif. Exception: (\"No stim channels found. Consider specifying them manually using the 'stim_channel' parameter.\",).\n",
      "Skipping recording_2882.raw.fif. Exception: (\"No stim channels found. Consider specifying them manually using the 'stim_channel' parameter.\",).\n",
      "Skipping recording_2884.raw.fif. Exception: (\"No stim channels found. Consider specifying them manually using the 'stim_channel' parameter.\",).\n",
      "Skipping recording_2886.raw.fif. Exception: (\"No stim channels found. Consider specifying them manually using the 'stim_channel' parameter.\",).\n",
      "Skipping recording_2888.raw.fif. Exception: (\"No stim channels found. Consider specifying them manually using the 'stim_channel' parameter.\",).\n"
     ]
    },
    {
     "name": "stderr",
     "output_type": "stream",
     "text": [
      "Loading EEG MAHNOB:  46%|████▋     | 13/28 [00:02<00:02,  5.77person/s]"
     ]
    },
    {
     "name": "stdout",
     "output_type": "stream",
     "text": [
      "Skipping recording_2890.raw.fif. Exception: (\"No stim channels found. Consider specifying them manually using the 'stim_channel' parameter.\",).\n"
     ]
    },
    {
     "name": "stderr",
     "output_type": "stream",
     "text": [
      "Loading EEG MAHNOB:  46%|████▋     | 13/28 [00:02<00:02,  5.77person/s]"
     ]
    },
    {
     "name": "stdout",
     "output_type": "stream",
     "text": [
      "Skipping recording_2892.raw.fif. Exception: (\"No stim channels found. Consider specifying them manually using the 'stim_channel' parameter.\",).\n",
      "Skipping recording_2894.raw.fif. Exception: (\"No stim channels found. Consider specifying them manually using the 'stim_channel' parameter.\",).\n"
     ]
    },
    {
     "name": "stderr",
     "output_type": "stream",
     "text": [
      "Loading EEG MAHNOB:  50%|█████     | 14/28 [00:02<00:02,  5.80person/s]"
     ]
    },
    {
     "name": "stdout",
     "output_type": "stream",
     "text": [
      "Skipping recording_2896.raw.fif. Exception: (\"No stim channels found. Consider specifying them manually using the 'stim_channel' parameter.\",).\n",
      "Skipping recording_2898.raw.fif. Exception: (\"No stim channels found. Consider specifying them manually using the 'stim_channel' parameter.\",).\n",
      "Skipping recording_2900.raw.fif. Exception: (\"No stim channels found. Consider specifying them manually using the 'stim_channel' parameter.\",).\n",
      "None of the sessions for 23 were usable. Skipping...\n",
      "Skipping recording_2992.raw.fif. Exception: (\"No stim channels found. Consider specifying them manually using the 'stim_channel' parameter.\",).\n",
      "Skipping recording_2994.raw.fif. Exception: (\"No stim channels found. Consider specifying them manually using the 'stim_channel' parameter.\",).\n",
      "Skipping recording_2996.raw.fif. Exception: (\"No stim channels found. Consider specifying them manually using the 'stim_channel' parameter.\",).\n",
      "Skipping recording_2998.raw.fif. Exception: (\"No stim channels found. Consider specifying them manually using the 'stim_channel' parameter.\",).\n",
      "Skipping recording_3000.raw.fif. Exception: (\"No stim channels found. Consider specifying them manually using the 'stim_channel' parameter.\",).\n",
      "Skipping recording_3002.raw.fif. Exception: (\"No stim channels found. Consider specifying them manually using the 'stim_channel' parameter.\",).\n",
      "Skipping recording_3004.raw.fif. Exception: (\"No stim channels found. Consider specifying them manually using the 'stim_channel' parameter.\",).\n",
      "Skipping recording_3006.raw.fif. Exception: (\"No stim channels found. Consider specifying them manually using the 'stim_channel' parameter.\",).\n",
      "Skipping recording_3008.raw.fif. Exception: (\"No stim channels found. Consider specifying them manually using the 'stim_channel' parameter.\",).\n",
      "Skipping recording_3010.raw.fif. Exception: (\"No stim channels found. Consider specifying them manually using the 'stim_channel' parameter.\",).\n",
      "Skipping recording_3012.raw.fif. Exception: (\"No stim channels found. Consider specifying them manually using the 'stim_channel' parameter.\",).\n",
      "Skipping recording_3014.raw.fif. Exception: (\"No stim channels found. Consider specifying them manually using the 'stim_channel' parameter.\",).\n",
      "Skipping recording_3016.raw.fif. Exception: (\"No stim channels found. Consider specifying them manually using the 'stim_channel' parameter.\",).\n",
      "Skipping recording_3018.raw.fif. Exception: (\"No stim channels found. Consider specifying them manually using the 'stim_channel' parameter.\",).\n",
      "Skipping recording_3020.raw.fif. Exception: (\"No stim channels found. Consider specifying them manually using the 'stim_channel' parameter.\",).\n"
     ]
    },
    {
     "name": "stderr",
     "output_type": "stream",
     "text": [
      "Loading EEG MAHNOB:  50%|█████     | 14/28 [00:02<00:02,  5.80person/s]"
     ]
    },
    {
     "name": "stdout",
     "output_type": "stream",
     "text": [
      "Skipping recording_3022.raw.fif. Exception: (\"No stim channels found. Consider specifying them manually using the 'stim_channel' parameter.\",).\n",
      "Skipping recording_3024.raw.fif. Exception: (\"No stim channels found. Consider specifying them manually using the 'stim_channel' parameter.\",).\n"
     ]
    },
    {
     "name": "stderr",
     "output_type": "stream",
     "text": [
      "Loading EEG MAHNOB:  50%|█████     | 14/28 [00:02<00:02,  5.80person/s]"
     ]
    },
    {
     "name": "stdout",
     "output_type": "stream",
     "text": [
      "Skipping recording_3026.raw.fif. Exception: (\"No stim channels found. Consider specifying them manually using the 'stim_channel' parameter.\",).\n"
     ]
    },
    {
     "name": "stderr",
     "output_type": "stream",
     "text": [
      "Loading EEG MAHNOB:  54%|█████▎    | 15/28 [00:02<00:02,  5.81person/s]"
     ]
    },
    {
     "name": "stdout",
     "output_type": "stream",
     "text": [
      "Skipping recording_3028.raw.fif. Exception: (\"No stim channels found. Consider specifying them manually using the 'stim_channel' parameter.\",).\n",
      "Skipping recording_3030.raw.fif. Exception: (\"No stim channels found. Consider specifying them manually using the 'stim_channel' parameter.\",).\n",
      "None of the sessions for 24 were usable. Skipping...\n",
      "Skipping recording_3122.raw.fif. Exception: (\"No stim channels found. Consider specifying them manually using the 'stim_channel' parameter.\",).\n",
      "Skipping recording_3124.raw.fif. Exception: (\"No stim channels found. Consider specifying them manually using the 'stim_channel' parameter.\",).\n",
      "Skipping recording_3126.raw.fif. Exception: (\"No stim channels found. Consider specifying them manually using the 'stim_channel' parameter.\",).\n",
      "Skipping recording_3128.raw.fif. Exception: (\"No stim channels found. Consider specifying them manually using the 'stim_channel' parameter.\",).\n",
      "Skipping recording_3130.raw.fif. Exception: (\"No stim channels found. Consider specifying them manually using the 'stim_channel' parameter.\",).\n",
      "Skipping recording_3132.raw.fif. Exception: (\"No stim channels found. Consider specifying them manually using the 'stim_channel' parameter.\",).\n",
      "Skipping recording_3134.raw.fif. Exception: (\"No stim channels found. Consider specifying them manually using the 'stim_channel' parameter.\",).\n",
      "Skipping recording_3136.raw.fif. Exception: (\"No stim channels found. Consider specifying them manually using the 'stim_channel' parameter.\",).\n",
      "Skipping recording_3138.raw.fif. Exception: (\"No stim channels found. Consider specifying them manually using the 'stim_channel' parameter.\",).\n",
      "Skipping recording_3140.raw.fif. Exception: (\"No stim channels found. Consider specifying them manually using the 'stim_channel' parameter.\",).\n",
      "Skipping recording_3142.raw.fif. Exception: (\"No stim channels found. Consider specifying them manually using the 'stim_channel' parameter.\",).\n",
      "Skipping recording_3144.raw.fif. Exception: (\"No stim channels found. Consider specifying them manually using the 'stim_channel' parameter.\",).\n",
      "Skipping recording_3146.raw.fif. Exception: (\"No stim channels found. Consider specifying them manually using the 'stim_channel' parameter.\",).\n",
      "Skipping recording_3148.raw.fif. Exception: (\"No stim channels found. Consider specifying them manually using the 'stim_channel' parameter.\",).\n",
      "Skipping recording_3150.raw.fif. Exception: (\"No stim channels found. Consider specifying them manually using the 'stim_channel' parameter.\",).\n",
      "Skipping recording_3152.raw.fif. Exception: (\"No stim channels found. Consider specifying them manually using the 'stim_channel' parameter.\",).\n",
      "Skipping recording_3154.raw.fif. Exception: (\"No stim channels found. Consider specifying them manually using the 'stim_channel' parameter.\",).\n",
      "Skipping recording_3156.raw.fif. Exception: (\"No stim channels found. Consider specifying them manually using the 'stim_channel' parameter.\",).\n"
     ]
    },
    {
     "name": "stderr",
     "output_type": "stream",
     "text": [
      "Loading EEG MAHNOB:  57%|█████▋    | 16/28 [00:02<00:02,  5.92person/s]"
     ]
    },
    {
     "name": "stdout",
     "output_type": "stream",
     "text": [
      "Skipping recording_3158.raw.fif. Exception: (\"No stim channels found. Consider specifying them manually using the 'stim_channel' parameter.\",).\n",
      "Skipping recording_3160.raw.fif. Exception: (\"No stim channels found. Consider specifying them manually using the 'stim_channel' parameter.\",).\n",
      "None of the sessions for 25 were usable. Skipping...\n"
     ]
    },
    {
     "name": "stderr",
     "output_type": "stream",
     "text": [
      "Loading EEG MAHNOB:  57%|█████▋    | 16/28 [00:02<00:02,  5.92person/s]"
     ]
    },
    {
     "name": "stdout",
     "output_type": "stream",
     "text": [
      "Skipping recording_3252.raw.fif. Exception: (\"No stim channels found. Consider specifying them manually using the 'stim_channel' parameter.\",).\n",
      "Skipping recording_3254.raw.fif. Exception: (\"No stim channels found. Consider specifying them manually using the 'stim_channel' parameter.\",).\n"
     ]
    },
    {
     "name": "stderr",
     "output_type": "stream",
     "text": [
      "                                                                       \r"
     ]
    },
    {
     "name": "stdout",
     "output_type": "stream",
     "text": [
      "Skipping recording_3256.raw.fif. Exception: (\"No stim channels found. Consider specifying them manually using the 'stim_channel' parameter.\",).\n",
      "Skipping recording_3258.raw.fif. Exception: (\"No stim channels found. Consider specifying them manually using the 'stim_channel' parameter.\",).\n",
      "Skipping recording_3260.raw.fif. Exception: (\"No stim channels found. Consider specifying them manually using the 'stim_channel' parameter.\",).\n",
      "Skipping recording_3262.raw.fif. Exception: (\"No stim channels found. Consider specifying them manually using the 'stim_channel' parameter.\",).\n",
      "Skipping recording_3264.raw.fif. Exception: (\"No stim channels found. Consider specifying them manually using the 'stim_channel' parameter.\",).\n",
      "Skipping recording_3266.raw.fif. Exception: (\"No stim channels found. Consider specifying them manually using the 'stim_channel' parameter.\",).\n",
      "Skipping recording_3268.raw.fif. Exception: (\"No stim channels found. Consider specifying them manually using the 'stim_channel' parameter.\",).\n",
      "Skipping recording_3270.raw.fif. Exception: (\"No stim channels found. Consider specifying them manually using the 'stim_channel' parameter.\",).\n",
      "Skipping recording_3272.raw.fif. Exception: (\"No stim channels found. Consider specifying them manually using the 'stim_channel' parameter.\",).\n",
      "Skipping recording_3274.raw.fif. Exception: (\"No stim channels found. Consider specifying them manually using the 'stim_channel' parameter.\",).\n",
      "Skipping recording_3276.raw.fif. Exception: (\"No stim channels found. Consider specifying them manually using the 'stim_channel' parameter.\",).\n",
      "Skipping recording_3278.raw.fif. Exception: (\"No stim channels found. Consider specifying them manually using the 'stim_channel' parameter.\",).\n",
      "Skipping recording_3280.raw.fif. Exception: (\"No stim channels found. Consider specifying them manually using the 'stim_channel' parameter.\",).\n",
      "Skipping recording_3282.raw.fif. Exception: (\"No stim channels found. Consider specifying them manually using the 'stim_channel' parameter.\",).\n",
      "Skipping recording_3284.raw.fif. Exception: (\"No stim channels found. Consider specifying them manually using the 'stim_channel' parameter.\",).\n",
      "Skipping recording_3286.raw.fif. Exception: (\"No stim channels found. Consider specifying them manually using the 'stim_channel' parameter.\",).\n",
      "Skipping recording_3288.raw.fif. Exception: (\"No stim channels found. Consider specifying them manually using the 'stim_channel' parameter.\",).\n",
      "Skipping recording_3290.raw.fif. Exception: (\"No stim channels found. Consider specifying them manually using the 'stim_channel' parameter.\",).\n",
      "None of the sessions for 26 were usable. Skipping...\n"
     ]
    },
    {
     "name": "stderr",
     "output_type": "stream",
     "text": [
      "Loading EEG MAHNOB:  61%|██████    | 17/28 [00:02<00:01,  5.98person/s]"
     ]
    },
    {
     "name": "stdout",
     "output_type": "stream",
     "text": [
      "Skipping recording_3382.raw.fif. Exception: (\"No stim channels found. Consider specifying them manually using the 'stim_channel' parameter.\",).\n",
      "Skipping recording_3384.raw.fif. Exception: (\"No stim channels found. Consider specifying them manually using the 'stim_channel' parameter.\",).\n"
     ]
    },
    {
     "name": "stderr",
     "output_type": "stream",
     "text": [
      "Loading EEG MAHNOB:  61%|██████    | 17/28 [00:02<00:01,  5.98person/s]"
     ]
    },
    {
     "name": "stdout",
     "output_type": "stream",
     "text": [
      "Skipping recording_3386.raw.fif. Exception: (\"No stim channels found. Consider specifying them manually using the 'stim_channel' parameter.\",).\n",
      "Skipping recording_3388.raw.fif. Exception: (\"No stim channels found. Consider specifying them manually using the 'stim_channel' parameter.\",).\n",
      "Skipping recording_3390.raw.fif. Exception: (\"No stim channels found. Consider specifying them manually using the 'stim_channel' parameter.\",).\n"
     ]
    },
    {
     "name": "stderr",
     "output_type": "stream",
     "text": [
      "                                                                       "
     ]
    },
    {
     "name": "stdout",
     "output_type": "stream",
     "text": [
      "Skipping recording_3392.raw.fif. Exception: (\"No stim channels found. Consider specifying them manually using the 'stim_channel' parameter.\",).\n",
      "Skipping recording_3394.raw.fif. Exception: (\"No stim channels found. Consider specifying them manually using the 'stim_channel' parameter.\",).\n",
      "Skipping recording_3396.raw.fif. Exception: (\"No stim channels found. Consider specifying them manually using the 'stim_channel' parameter.\",).\n",
      "Skipping recording_3398.raw.fif. Exception: (\"No stim channels found. Consider specifying them manually using the 'stim_channel' parameter.\",).\n",
      "Skipping recording_3400.raw.fif. Exception: (\"No stim channels found. Consider specifying them manually using the 'stim_channel' parameter.\",).\n",
      "Skipping recording_3402.raw.fif. Exception: (\"No stim channels found. Consider specifying them manually using the 'stim_channel' parameter.\",).\n",
      "Skipping recording_3404.raw.fif. Exception: (\"No stim channels found. Consider specifying them manually using the 'stim_channel' parameter.\",).\n",
      "Skipping recording_3406.raw.fif. Exception: (\"No stim channels found. Consider specifying them manually using the 'stim_channel' parameter.\",).\n",
      "Skipping recording_3408.raw.fif. Exception: (\"No stim channels found. Consider specifying them manually using the 'stim_channel' parameter.\",).\n",
      "Skipping recording_3410.raw.fif. Exception: (\"No stim channels found. Consider specifying them manually using the 'stim_channel' parameter.\",).\n",
      "Skipping recording_3412.raw.fif. Exception: (\"No stim channels found. Consider specifying them manually using the 'stim_channel' parameter.\",).\n",
      "Skipping recording_3414.raw.fif. Exception: (\"No stim channels found. Consider specifying them manually using the 'stim_channel' parameter.\",).\n",
      "Skipping recording_3416.raw.fif. Exception: (\"No stim channels found. Consider specifying them manually using the 'stim_channel' parameter.\",).\n",
      "Skipping recording_3418.raw.fif. Exception: (\"No stim channels found. Consider specifying them manually using the 'stim_channel' parameter.\",).\n",
      "Skipping recording_3420.raw.fif. Exception: (\"No stim channels found. Consider specifying them manually using the 'stim_channel' parameter.\",).\n",
      "None of the sessions for 27 were usable. Skipping...\n",
      "Skipping recording_3512.raw.fif. Exception: (\"No stim channels found. Consider specifying them manually using the 'stim_channel' parameter.\",).\n",
      "Skipping recording_3514.raw.fif. Exception: (\"No stim channels found. Consider specifying them manually using the 'stim_channel' parameter.\",).\n",
      "Skipping recording_3516.raw.fif. Exception: (\"No stim channels found. Consider specifying them manually using the 'stim_channel' parameter.\",).\n",
      "Skipping recording_3518.raw.fif. Exception: (\"No stim channels found. Consider specifying them manually using the 'stim_channel' parameter.\",).\n"
     ]
    },
    {
     "name": "stderr",
     "output_type": "stream",
     "text": [
      "                                                                       "
     ]
    },
    {
     "name": "stdout",
     "output_type": "stream",
     "text": [
      "Skipping recording_3520.raw.fif. Exception: (\"No stim channels found. Consider specifying them manually using the 'stim_channel' parameter.\",).\n",
      "Skipping recording_3522.raw.fif. Exception: (\"No stim channels found. Consider specifying them manually using the 'stim_channel' parameter.\",).\n"
     ]
    },
    {
     "name": "stderr",
     "output_type": "stream",
     "text": [
      "Loading EEG MAHNOB:  64%|██████▍   | 18/28 [00:02<00:01,  6.05person/s]"
     ]
    },
    {
     "name": "stdout",
     "output_type": "stream",
     "text": [
      "Skipping recording_3524.raw.fif. Exception: (\"No stim channels found. Consider specifying them manually using the 'stim_channel' parameter.\",).\n",
      "Skipping recording_3526.raw.fif. Exception: (\"No stim channels found. Consider specifying them manually using the 'stim_channel' parameter.\",).\n"
     ]
    },
    {
     "name": "stderr",
     "output_type": "stream",
     "text": [
      "Loading EEG MAHNOB:  68%|██████▊   | 19/28 [00:03<00:01,  6.12person/s]"
     ]
    },
    {
     "name": "stdout",
     "output_type": "stream",
     "text": [
      "Skipping recording_3528.raw.fif. Exception: (\"No stim channels found. Consider specifying them manually using the 'stim_channel' parameter.\",).\n",
      "Skipping recording_3530.raw.fif. Exception: (\"No stim channels found. Consider specifying them manually using the 'stim_channel' parameter.\",).\n",
      "Skipping recording_3532.raw.fif. Exception: (\"No stim channels found. Consider specifying them manually using the 'stim_channel' parameter.\",).\n",
      "Skipping recording_3534.raw.fif. Exception: (\"No stim channels found. Consider specifying them manually using the 'stim_channel' parameter.\",).\n",
      "Skipping recording_3536.raw.fif. Exception: (\"No stim channels found. Consider specifying them manually using the 'stim_channel' parameter.\",).\n",
      "Skipping recording_3538.raw.fif. Exception: (\"No stim channels found. Consider specifying them manually using the 'stim_channel' parameter.\",).\n",
      "Skipping recording_3540.raw.fif. Exception: (\"No stim channels found. Consider specifying them manually using the 'stim_channel' parameter.\",).\n",
      "Skipping recording_3542.raw.fif. Exception: (\"No stim channels found. Consider specifying them manually using the 'stim_channel' parameter.\",).\n",
      "Skipping recording_3544.raw.fif. Exception: (\"No stim channels found. Consider specifying them manually using the 'stim_channel' parameter.\",).\n",
      "Skipping recording_3546.raw.fif. Exception: (\"No stim channels found. Consider specifying them manually using the 'stim_channel' parameter.\",).\n",
      "Skipping recording_3548.raw.fif. Exception: (\"No stim channels found. Consider specifying them manually using the 'stim_channel' parameter.\",).\n",
      "Skipping recording_3550.raw.fif. Exception: (\"No stim channels found. Consider specifying them manually using the 'stim_channel' parameter.\",).\n",
      "None of the sessions for 28 were usable. Skipping...\n",
      "Skipping recording_3642.raw.fif. Exception: (\"No stim channels found. Consider specifying them manually using the 'stim_channel' parameter.\",).\n",
      "Skipping recording_3644.raw.fif. Exception: (\"No stim channels found. Consider specifying them manually using the 'stim_channel' parameter.\",).\n",
      "Skipping recording_3646.raw.fif. Exception: (\"No stim channels found. Consider specifying them manually using the 'stim_channel' parameter.\",).\n",
      "Skipping recording_3648.raw.fif. Exception: (\"No stim channels found. Consider specifying them manually using the 'stim_channel' parameter.\",).\n",
      "Skipping recording_3650.raw.fif. Exception: (\"No stim channels found. Consider specifying them manually using the 'stim_channel' parameter.\",).\n",
      "Skipping recording_3652.raw.fif. Exception: (\"No stim channels found. Consider specifying them manually using the 'stim_channel' parameter.\",).\n",
      "Skipping recording_3654.raw.fif. Exception: (\"No stim channels found. Consider specifying them manually using the 'stim_channel' parameter.\",).\n"
     ]
    },
    {
     "name": "stderr",
     "output_type": "stream",
     "text": [
      "Loading EEG MAHNOB:  68%|██████▊   | 19/28 [00:03<00:01,  6.12person/s]"
     ]
    },
    {
     "name": "stdout",
     "output_type": "stream",
     "text": [
      "Skipping recording_3656.raw.fif. Exception: (\"No stim channels found. Consider specifying them manually using the 'stim_channel' parameter.\",).\n",
      "Skipping recording_3658.raw.fif. Exception: (\"No stim channels found. Consider specifying them manually using the 'stim_channel' parameter.\",).\n"
     ]
    },
    {
     "name": "stderr",
     "output_type": "stream",
     "text": [
      "Loading EEG MAHNOB:  68%|██████▊   | 19/28 [00:03<00:01,  6.12person/s]"
     ]
    },
    {
     "name": "stdout",
     "output_type": "stream",
     "text": [
      "Skipping recording_3660.raw.fif. Exception: (\"No stim channels found. Consider specifying them manually using the 'stim_channel' parameter.\",).\n",
      "Skipping recording_3662.raw.fif. Exception: (\"No stim channels found. Consider specifying them manually using the 'stim_channel' parameter.\",).\n"
     ]
    },
    {
     "name": "stderr",
     "output_type": "stream",
     "text": [
      "                                                                       \r"
     ]
    },
    {
     "name": "stdout",
     "output_type": "stream",
     "text": [
      "Skipping recording_3664.raw.fif. Exception: (\"No stim channels found. Consider specifying them manually using the 'stim_channel' parameter.\",).\n",
      "Skipping recording_3666.raw.fif. Exception: (\"No stim channels found. Consider specifying them manually using the 'stim_channel' parameter.\",).\n",
      "Skipping recording_3668.raw.fif. Exception: (\"No stim channels found. Consider specifying them manually using the 'stim_channel' parameter.\",).\n",
      "Skipping recording_3670.raw.fif. Exception: (\"No stim channels found. Consider specifying them manually using the 'stim_channel' parameter.\",).\n",
      "Skipping recording_3672.raw.fif. Exception: (\"No stim channels found. Consider specifying them manually using the 'stim_channel' parameter.\",).\n",
      "Skipping recording_3674.raw.fif. Exception: (\"No stim channels found. Consider specifying them manually using the 'stim_channel' parameter.\",).\n",
      "Skipping recording_3676.raw.fif. Exception: (\"No stim channels found. Consider specifying them manually using the 'stim_channel' parameter.\",).\n",
      "Skipping recording_3678.raw.fif. Exception: (\"No stim channels found. Consider specifying them manually using the 'stim_channel' parameter.\",).\n",
      "Skipping recording_3680.raw.fif. Exception: (\"No stim channels found. Consider specifying them manually using the 'stim_channel' parameter.\",).\n",
      "None of the sessions for 29 were usable. Skipping...\n",
      "Skipping recording_262.raw.fif. Exception: (\"No stim channels found. Consider specifying them manually using the 'stim_channel' parameter.\",).\n",
      "Skipping recording_264.raw.fif. Exception: (\"No stim channels found. Consider specifying them manually using the 'stim_channel' parameter.\",).\n",
      "Skipping recording_266.raw.fif. Exception: (\"No stim channels found. Consider specifying them manually using the 'stim_channel' parameter.\",).\n",
      "Skipping recording_268.raw.fif. Exception: (\"No stim channels found. Consider specifying them manually using the 'stim_channel' parameter.\",).\n",
      "Skipping recording_270.raw.fif. Exception: (\"No stim channels found. Consider specifying them manually using the 'stim_channel' parameter.\",).\n",
      "Skipping recording_272.raw.fif. Exception: (\"No stim channels found. Consider specifying them manually using the 'stim_channel' parameter.\",).\n",
      "Skipping recording_274.raw.fif. Exception: (\"No stim channels found. Consider specifying them manually using the 'stim_channel' parameter.\",).\n",
      "Skipping recording_276.raw.fif. Exception: (\"No stim channels found. Consider specifying them manually using the 'stim_channel' parameter.\",).\n"
     ]
    },
    {
     "name": "stderr",
     "output_type": "stream",
     "text": [
      "Loading EEG MAHNOB:  71%|███████▏  | 20/28 [00:03<00:01,  6.01person/s]"
     ]
    },
    {
     "name": "stdout",
     "output_type": "stream",
     "text": [
      "Skipping recording_278.raw.fif. Exception: (\"No stim channels found. Consider specifying them manually using the 'stim_channel' parameter.\",).\n",
      "Skipping recording_280.raw.fif. Exception: (\"No stim channels found. Consider specifying them manually using the 'stim_channel' parameter.\",).\n",
      "Skipping recording_282.raw.fif. Exception: (\"No stim channels found. Consider specifying them manually using the 'stim_channel' parameter.\",).\n"
     ]
    },
    {
     "name": "stderr",
     "output_type": "stream",
     "text": [
      "Loading EEG MAHNOB:  71%|███████▏  | 20/28 [00:03<00:01,  6.01person/s]"
     ]
    },
    {
     "name": "stdout",
     "output_type": "stream",
     "text": [
      "Skipping recording_284.raw.fif. Exception: (\"No stim channels found. Consider specifying them manually using the 'stim_channel' parameter.\",).\n"
     ]
    },
    {
     "name": "stderr",
     "output_type": "stream",
     "text": [
      "Loading EEG MAHNOB:  75%|███████▌  | 21/28 [00:03<00:01,  6.22person/s]"
     ]
    },
    {
     "name": "stdout",
     "output_type": "stream",
     "text": [
      "Skipping recording_286.raw.fif. Exception: (\"No stim channels found. Consider specifying them manually using the 'stim_channel' parameter.\",).\n",
      "Skipping recording_288.raw.fif. Exception: (\"No stim channels found. Consider specifying them manually using the 'stim_channel' parameter.\",).\n",
      "Skipping recording_290.raw.fif. Exception: (\"No stim channels found. Consider specifying them manually using the 'stim_channel' parameter.\",).\n",
      "Skipping recording_292.raw.fif. Exception: (\"No stim channels found. Consider specifying them manually using the 'stim_channel' parameter.\",).\n",
      "Skipping recording_294.raw.fif. Exception: (\"No stim channels found. Consider specifying them manually using the 'stim_channel' parameter.\",).\n",
      "None of the sessions for 3 were usable. Skipping...\n",
      "Skipping recording_3772.raw.fif. Exception: (\"No stim channels found. Consider specifying them manually using the 'stim_channel' parameter.\",).\n",
      "Skipping recording_3774.raw.fif. Exception: (\"No stim channels found. Consider specifying them manually using the 'stim_channel' parameter.\",).\n",
      "Skipping recording_3776.raw.fif. Exception: (\"No stim channels found. Consider specifying them manually using the 'stim_channel' parameter.\",).\n",
      "Skipping recording_3778.raw.fif. Exception: (\"No stim channels found. Consider specifying them manually using the 'stim_channel' parameter.\",).\n",
      "Skipping recording_3780.raw.fif. Exception: (\"No stim channels found. Consider specifying them manually using the 'stim_channel' parameter.\",).\n",
      "Skipping recording_3782.raw.fif. Exception: (\"No stim channels found. Consider specifying them manually using the 'stim_channel' parameter.\",).\n",
      "Skipping recording_3784.raw.fif. Exception: (\"No stim channels found. Consider specifying them manually using the 'stim_channel' parameter.\",).\n",
      "Skipping recording_3786.raw.fif. Exception: (\"No stim channels found. Consider specifying them manually using the 'stim_channel' parameter.\",).\n",
      "Skipping recording_3788.raw.fif. Exception: (\"No stim channels found. Consider specifying them manually using the 'stim_channel' parameter.\",).\n",
      "Skipping recording_3790.raw.fif. Exception: (\"No stim channels found. Consider specifying them manually using the 'stim_channel' parameter.\",).\n",
      "Skipping recording_3792.raw.fif. Exception: (\"No stim channels found. Consider specifying them manually using the 'stim_channel' parameter.\",).\n",
      "Skipping recording_3794.raw.fif. Exception: (\"No stim channels found. Consider specifying them manually using the 'stim_channel' parameter.\",).\n",
      "Skipping recording_3796.raw.fif. Exception: (\"No stim channels found. Consider specifying them manually using the 'stim_channel' parameter.\",).\n",
      "Skipping recording_3798.raw.fif. Exception: (\"No stim channels found. Consider specifying them manually using the 'stim_channel' parameter.\",).\n"
     ]
    },
    {
     "name": "stderr",
     "output_type": "stream",
     "text": [
      "Loading EEG MAHNOB:  75%|███████▌  | 21/28 [00:03<00:01,  6.22person/s]"
     ]
    },
    {
     "name": "stdout",
     "output_type": "stream",
     "text": [
      "Skipping recording_3800.raw.fif. Exception: (\"No stim channels found. Consider specifying them manually using the 'stim_channel' parameter.\",).\n",
      "Skipping recording_3802.raw.fif. Exception: (\"No stim channels found. Consider specifying them manually using the 'stim_channel' parameter.\",).\n"
     ]
    },
    {
     "name": "stderr",
     "output_type": "stream",
     "text": [
      "Loading EEG MAHNOB:  75%|███████▌  | 21/28 [00:03<00:01,  6.22person/s]"
     ]
    },
    {
     "name": "stdout",
     "output_type": "stream",
     "text": [
      "Skipping recording_3804.raw.fif. Exception: (\"No stim channels found. Consider specifying them manually using the 'stim_channel' parameter.\",).\n",
      "Skipping recording_3806.raw.fif. Exception: (\"No stim channels found. Consider specifying them manually using the 'stim_channel' parameter.\",).\n"
     ]
    },
    {
     "name": "stderr",
     "output_type": "stream",
     "text": [
      "Loading EEG MAHNOB:  79%|███████▊  | 22/28 [00:03<00:00,  6.19person/s]"
     ]
    },
    {
     "name": "stdout",
     "output_type": "stream",
     "text": [
      "Skipping recording_3808.raw.fif. Exception: (\"No stim channels found. Consider specifying them manually using the 'stim_channel' parameter.\",).\n",
      "Skipping recording_3810.raw.fif. Exception: (\"No stim channels found. Consider specifying them manually using the 'stim_channel' parameter.\",).\n",
      "None of the sessions for 30 were usable. Skipping...\n",
      "Skipping recording_392.raw.fif. Exception: (\"No stim channels found. Consider specifying them manually using the 'stim_channel' parameter.\",).\n",
      "Skipping recording_394.raw.fif. Exception: (\"No stim channels found. Consider specifying them manually using the 'stim_channel' parameter.\",).\n",
      "Skipping recording_396.raw.fif. Exception: (\"No stim channels found. Consider specifying them manually using the 'stim_channel' parameter.\",).\n",
      "Skipping recording_398.raw.fif. Exception: (\"No stim channels found. Consider specifying them manually using the 'stim_channel' parameter.\",).\n",
      "Skipping recording_400.raw.fif. Exception: (\"No stim channels found. Consider specifying them manually using the 'stim_channel' parameter.\",).\n",
      "Skipping recording_402.raw.fif. Exception: (\"No stim channels found. Consider specifying them manually using the 'stim_channel' parameter.\",).\n",
      "Skipping recording_404.raw.fif. Exception: (\"No stim channels found. Consider specifying them manually using the 'stim_channel' parameter.\",).\n",
      "Skipping recording_406.raw.fif. Exception: (\"No stim channels found. Consider specifying them manually using the 'stim_channel' parameter.\",).\n",
      "Skipping recording_408.raw.fif. Exception: (\"No stim channels found. Consider specifying them manually using the 'stim_channel' parameter.\",).\n",
      "Skipping recording_410.raw.fif. Exception: (\"No stim channels found. Consider specifying them manually using the 'stim_channel' parameter.\",).\n",
      "Skipping recording_412.raw.fif. Exception: (\"No stim channels found. Consider specifying them manually using the 'stim_channel' parameter.\",).\n",
      "Skipping recording_414.raw.fif. Exception: (\"No stim channels found. Consider specifying them manually using the 'stim_channel' parameter.\",).\n",
      "Skipping recording_416.raw.fif. Exception: (\"No stim channels found. Consider specifying them manually using the 'stim_channel' parameter.\",).\n",
      "Skipping recording_418.raw.fif. Exception: (\"No stim channels found. Consider specifying them manually using the 'stim_channel' parameter.\",).\n",
      "Skipping recording_420.raw.fif. Exception: (\"No stim channels found. Consider specifying them manually using the 'stim_channel' parameter.\",).\n",
      "Skipping recording_422.raw.fif. Exception: (\"No stim channels found. Consider specifying them manually using the 'stim_channel' parameter.\",).\n",
      "Skipping recording_424.raw.fif. Exception: (\"No stim channels found. Consider specifying them manually using the 'stim_channel' parameter.\",).\n"
     ]
    },
    {
     "name": "stderr",
     "output_type": "stream",
     "text": [
      "Loading EEG MAHNOB:  79%|███████▊  | 22/28 [00:03<00:00,  6.19person/s]"
     ]
    },
    {
     "name": "stdout",
     "output_type": "stream",
     "text": [
      "Skipping recording_426.raw.fif. Exception: (\"No stim channels found. Consider specifying them manually using the 'stim_channel' parameter.\",).\n",
      "Skipping recording_428.raw.fif. Exception: (\"No stim channels found. Consider specifying them manually using the 'stim_channel' parameter.\",).\n"
     ]
    },
    {
     "name": "stderr",
     "output_type": "stream",
     "text": [
      "                                                                       "
     ]
    },
    {
     "name": "stdout",
     "output_type": "stream",
     "text": [
      "Skipping recording_430.raw.fif. Exception: (\"No stim channels found. Consider specifying them manually using the 'stim_channel' parameter.\",).\n",
      "None of the sessions for 4 were usable. Skipping...\n"
     ]
    },
    {
     "name": "stderr",
     "output_type": "stream",
     "text": [
      "Loading EEG MAHNOB:  86%|████████▌ | 24/28 [00:03<00:00,  6.17person/s]"
     ]
    },
    {
     "name": "stdout",
     "output_type": "stream",
     "text": [
      "Skipping recording_522.raw.fif. Exception: (\"No stim channels found. Consider specifying them manually using the 'stim_channel' parameter.\",).\n",
      "Skipping recording_524.raw.fif. Exception: (\"No stim channels found. Consider specifying them manually using the 'stim_channel' parameter.\",).\n",
      "Skipping recording_526.raw.fif. Exception: (\"No stim channels found. Consider specifying them manually using the 'stim_channel' parameter.\",).\n",
      "Skipping recording_528.raw.fif. Exception: (\"No stim channels found. Consider specifying them manually using the 'stim_channel' parameter.\",).\n",
      "Skipping recording_530.raw.fif. Exception: (\"No stim channels found. Consider specifying them manually using the 'stim_channel' parameter.\",).\n",
      "Skipping recording_532.raw.fif. Exception: (\"No stim channels found. Consider specifying them manually using the 'stim_channel' parameter.\",).\n",
      "Skipping recording_534.raw.fif. Exception: (\"No stim channels found. Consider specifying them manually using the 'stim_channel' parameter.\",).\n",
      "Skipping recording_536.raw.fif. Exception: (\"No stim channels found. Consider specifying them manually using the 'stim_channel' parameter.\",).\n",
      "Skipping recording_538.raw.fif. Exception: (\"No stim channels found. Consider specifying them manually using the 'stim_channel' parameter.\",).\n",
      "Skipping recording_540.raw.fif. Exception: (\"No stim channels found. Consider specifying them manually using the 'stim_channel' parameter.\",).\n",
      "Skipping recording_542.raw.fif. Exception: (\"No stim channels found. Consider specifying them manually using the 'stim_channel' parameter.\",).\n",
      "Skipping recording_544.raw.fif. Exception: (\"No stim channels found. Consider specifying them manually using the 'stim_channel' parameter.\",).\n",
      "Skipping recording_546.raw.fif. Exception: (\"No stim channels found. Consider specifying them manually using the 'stim_channel' parameter.\",).\n",
      "Skipping recording_548.raw.fif. Exception: (\"No stim channels found. Consider specifying them manually using the 'stim_channel' parameter.\",).\n",
      "Skipping recording_550.raw.fif. Exception: (\"No stim channels found. Consider specifying them manually using the 'stim_channel' parameter.\",).\n",
      "Skipping recording_552.raw.fif. Exception: (\"No stim channels found. Consider specifying them manually using the 'stim_channel' parameter.\",).\n",
      "Skipping recording_554.raw.fif. Exception: (\"No stim channels found. Consider specifying them manually using the 'stim_channel' parameter.\",).\n",
      "Skipping recording_556.raw.fif. Exception: (\"No stim channels found. Consider specifying them manually using the 'stim_channel' parameter.\",).\n",
      "Skipping recording_558.raw.fif. Exception: (\"No stim channels found. Consider specifying them manually using the 'stim_channel' parameter.\",).\n",
      "Skipping recording_560.raw.fif. Exception: (\"No stim channels found. Consider specifying them manually using the 'stim_channel' parameter.\",).\n",
      "None of the sessions for 5 were usable. Skipping...\n"
     ]
    },
    {
     "name": "stderr",
     "output_type": "stream",
     "text": [
      "Loading EEG MAHNOB:  86%|████████▌ | 24/28 [00:03<00:00,  6.17person/s]"
     ]
    },
    {
     "name": "stdout",
     "output_type": "stream",
     "text": [
      "Skipping recording_652.raw.fif. Exception: (\"No stim channels found. Consider specifying them manually using the 'stim_channel' parameter.\",).\n",
      "Skipping recording_654.raw.fif. Exception: (\"No stim channels found. Consider specifying them manually using the 'stim_channel' parameter.\",).\n"
     ]
    },
    {
     "name": "stderr",
     "output_type": "stream",
     "text": [
      "Loading EEG MAHNOB:  86%|████████▌ | 24/28 [00:03<00:00,  6.17person/s]"
     ]
    },
    {
     "name": "stdout",
     "output_type": "stream",
     "text": [
      "Skipping recording_656.raw.fif. Exception: (\"No stim channels found. Consider specifying them manually using the 'stim_channel' parameter.\",).\n",
      "Skipping recording_658.raw.fif. Exception: (\"No stim channels found. Consider specifying them manually using the 'stim_channel' parameter.\",).\n"
     ]
    },
    {
     "name": "stderr",
     "output_type": "stream",
     "text": [
      "Loading EEG MAHNOB:  89%|████████▉ | 25/28 [00:04<00:00,  6.10person/s]"
     ]
    },
    {
     "name": "stdout",
     "output_type": "stream",
     "text": [
      "Skipping recording_660.raw.fif. Exception: (\"No stim channels found. Consider specifying them manually using the 'stim_channel' parameter.\",).\n",
      "Skipping recording_662.raw.fif. Exception: (\"No stim channels found. Consider specifying them manually using the 'stim_channel' parameter.\",).\n",
      "Skipping recording_664.raw.fif. Exception: (\"No stim channels found. Consider specifying them manually using the 'stim_channel' parameter.\",).\n",
      "Skipping recording_666.raw.fif. Exception: (\"No stim channels found. Consider specifying them manually using the 'stim_channel' parameter.\",).\n",
      "Skipping recording_668.raw.fif. Exception: (\"No stim channels found. Consider specifying them manually using the 'stim_channel' parameter.\",).\n",
      "Skipping recording_670.raw.fif. Exception: (\"No stim channels found. Consider specifying them manually using the 'stim_channel' parameter.\",).\n",
      "Skipping recording_672.raw.fif. Exception: (\"No stim channels found. Consider specifying them manually using the 'stim_channel' parameter.\",).\n",
      "Skipping recording_674.raw.fif. Exception: (\"No stim channels found. Consider specifying them manually using the 'stim_channel' parameter.\",).\n",
      "Skipping recording_676.raw.fif. Exception: (\"No stim channels found. Consider specifying them manually using the 'stim_channel' parameter.\",).\n",
      "Skipping recording_678.raw.fif. Exception: (\"No stim channels found. Consider specifying them manually using the 'stim_channel' parameter.\",).\n",
      "Skipping recording_680.raw.fif. Exception: (\"No stim channels found. Consider specifying them manually using the 'stim_channel' parameter.\",).\n",
      "Skipping recording_682.raw.fif. Exception: (\"No stim channels found. Consider specifying them manually using the 'stim_channel' parameter.\",).\n",
      "Skipping recording_684.raw.fif. Exception: (\"No stim channels found. Consider specifying them manually using the 'stim_channel' parameter.\",).\n",
      "Skipping recording_686.raw.fif. Exception: (\"No stim channels found. Consider specifying them manually using the 'stim_channel' parameter.\",).\n",
      "Skipping recording_688.raw.fif. Exception: (\"No stim channels found. Consider specifying them manually using the 'stim_channel' parameter.\",).\n",
      "Skipping recording_690.raw.fif. Exception: (\"No stim channels found. Consider specifying them manually using the 'stim_channel' parameter.\",).\n",
      "None of the sessions for 6 were usable. Skipping...\n",
      "Skipping recording_782.raw.fif. Exception: (\"No stim channels found. Consider specifying them manually using the 'stim_channel' parameter.\",).\n",
      "Skipping recording_784.raw.fif. Exception: (\"No stim channels found. Consider specifying them manually using the 'stim_channel' parameter.\",).\n"
     ]
    },
    {
     "name": "stderr",
     "output_type": "stream",
     "text": [
      "Loading EEG MAHNOB:  89%|████████▉ | 25/28 [00:04<00:00,  6.10person/s]"
     ]
    },
    {
     "name": "stdout",
     "output_type": "stream",
     "text": [
      "Skipping recording_786.raw.fif. Exception: (\"No stim channels found. Consider specifying them manually using the 'stim_channel' parameter.\",).\n",
      "Skipping recording_788.raw.fif. Exception: (\"No stim channels found. Consider specifying them manually using the 'stim_channel' parameter.\",).\n"
     ]
    },
    {
     "name": "stderr",
     "output_type": "stream",
     "text": [
      "Loading EEG MAHNOB:  89%|████████▉ | 25/28 [00:04<00:00,  6.10person/s]"
     ]
    },
    {
     "name": "stdout",
     "output_type": "stream",
     "text": [
      "Skipping recording_790.raw.fif. Exception: (\"No stim channels found. Consider specifying them manually using the 'stim_channel' parameter.\",).\n",
      "Skipping recording_792.raw.fif. Exception: (\"No stim channels found. Consider specifying them manually using the 'stim_channel' parameter.\",).\n"
     ]
    },
    {
     "name": "stderr",
     "output_type": "stream",
     "text": [
      "Loading EEG MAHNOB:  93%|█████████▎| 26/28 [00:04<00:00,  6.03person/s]"
     ]
    },
    {
     "name": "stdout",
     "output_type": "stream",
     "text": [
      "Skipping recording_794.raw.fif. Exception: (\"No stim channels found. Consider specifying them manually using the 'stim_channel' parameter.\",).\n",
      "Skipping recording_796.raw.fif. Exception: (\"No stim channels found. Consider specifying them manually using the 'stim_channel' parameter.\",).\n",
      "Skipping recording_798.raw.fif. Exception: (\"No stim channels found. Consider specifying them manually using the 'stim_channel' parameter.\",).\n",
      "Skipping recording_800.raw.fif. Exception: (\"No stim channels found. Consider specifying them manually using the 'stim_channel' parameter.\",).\n",
      "Skipping recording_802.raw.fif. Exception: (\"No stim channels found. Consider specifying them manually using the 'stim_channel' parameter.\",).\n",
      "Skipping recording_804.raw.fif. Exception: (\"No stim channels found. Consider specifying them manually using the 'stim_channel' parameter.\",).\n",
      "Skipping recording_806.raw.fif. Exception: (\"No stim channels found. Consider specifying them manually using the 'stim_channel' parameter.\",).\n",
      "Skipping recording_808.raw.fif. Exception: (\"No stim channels found. Consider specifying them manually using the 'stim_channel' parameter.\",).\n",
      "Skipping recording_810.raw.fif. Exception: (\"No stim channels found. Consider specifying them manually using the 'stim_channel' parameter.\",).\n",
      "Skipping recording_812.raw.fif. Exception: (\"No stim channels found. Consider specifying them manually using the 'stim_channel' parameter.\",).\n",
      "Skipping recording_814.raw.fif. Exception: (\"No stim channels found. Consider specifying them manually using the 'stim_channel' parameter.\",).\n",
      "Skipping recording_816.raw.fif. Exception: (\"No stim channels found. Consider specifying them manually using the 'stim_channel' parameter.\",).\n",
      "Skipping recording_818.raw.fif. Exception: (\"No stim channels found. Consider specifying them manually using the 'stim_channel' parameter.\",).\n",
      "Skipping recording_820.raw.fif. Exception: (\"No stim channels found. Consider specifying them manually using the 'stim_channel' parameter.\",).\n",
      "None of the sessions for 7 were usable. Skipping...\n",
      "Skipping recording_912.raw.fif. Exception: (\"No stim channels found. Consider specifying them manually using the 'stim_channel' parameter.\",).\n",
      "Skipping recording_914.raw.fif. Exception: (\"No stim channels found. Consider specifying them manually using the 'stim_channel' parameter.\",).\n",
      "Skipping recording_916.raw.fif. Exception: (\"No stim channels found. Consider specifying them manually using the 'stim_channel' parameter.\",).\n"
     ]
    },
    {
     "name": "stderr",
     "output_type": "stream",
     "text": [
      "Loading EEG MAHNOB:  93%|█████████▎| 26/28 [00:04<00:00,  6.03person/s]"
     ]
    },
    {
     "name": "stdout",
     "output_type": "stream",
     "text": [
      "Skipping recording_918.raw.fif. Exception: (\"No stim channels found. Consider specifying them manually using the 'stim_channel' parameter.\",).\n",
      "Skipping recording_920.raw.fif. Exception: (\"No stim channels found. Consider specifying them manually using the 'stim_channel' parameter.\",).\n"
     ]
    },
    {
     "name": "stderr",
     "output_type": "stream",
     "text": [
      "Loading EEG MAHNOB:  93%|█████████▎| 26/28 [00:04<00:00,  6.03person/s]"
     ]
    },
    {
     "name": "stdout",
     "output_type": "stream",
     "text": [
      "Skipping recording_922.raw.fif. Exception: (\"No stim channels found. Consider specifying them manually using the 'stim_channel' parameter.\",).\n",
      "Skipping recording_924.raw.fif. Exception: (\"No stim channels found. Consider specifying them manually using the 'stim_channel' parameter.\",).\n"
     ]
    },
    {
     "name": "stderr",
     "output_type": "stream",
     "text": [
      "Loading EEG MAHNOB:  96%|█████████▋| 27/28 [00:04<00:00,  5.73person/s]"
     ]
    },
    {
     "name": "stdout",
     "output_type": "stream",
     "text": [
      "Skipping recording_926.raw.fif. Exception: (\"No stim channels found. Consider specifying them manually using the 'stim_channel' parameter.\",).\n",
      "Skipping recording_928.raw.fif. Exception: (\"No stim channels found. Consider specifying them manually using the 'stim_channel' parameter.\",).\n",
      "Skipping recording_930.raw.fif. Exception: (\"No stim channels found. Consider specifying them manually using the 'stim_channel' parameter.\",).\n",
      "Skipping recording_932.raw.fif. Exception: (\"No stim channels found. Consider specifying them manually using the 'stim_channel' parameter.\",).\n",
      "Skipping recording_934.raw.fif. Exception: (\"No stim channels found. Consider specifying them manually using the 'stim_channel' parameter.\",).\n",
      "Skipping recording_936.raw.fif. Exception: (\"No stim channels found. Consider specifying them manually using the 'stim_channel' parameter.\",).\n",
      "Skipping recording_938.raw.fif. Exception: (\"No stim channels found. Consider specifying them manually using the 'stim_channel' parameter.\",).\n",
      "Skipping recording_940.raw.fif. Exception: (\"No stim channels found. Consider specifying them manually using the 'stim_channel' parameter.\",).\n",
      "Skipping recording_942.raw.fif. Exception: (\"No stim channels found. Consider specifying them manually using the 'stim_channel' parameter.\",).\n",
      "Skipping recording_944.raw.fif. Exception: (\"No stim channels found. Consider specifying them manually using the 'stim_channel' parameter.\",).\n",
      "Skipping recording_946.raw.fif. Exception: (\"No stim channels found. Consider specifying them manually using the 'stim_channel' parameter.\",).\n",
      "Skipping recording_948.raw.fif. Exception: (\"No stim channels found. Consider specifying them manually using the 'stim_channel' parameter.\",).\n",
      "Skipping recording_950.raw.fif. Exception: (\"No stim channels found. Consider specifying them manually using the 'stim_channel' parameter.\",).\n",
      "None of the sessions for 8 were usable. Skipping...\n",
      "Skipping recording_1042.raw.fif. Exception: (\"No stim channels found. Consider specifying them manually using the 'stim_channel' parameter.\",).\n",
      "Skipping recording_1044.raw.fif. Exception: (\"No stim channels found. Consider specifying them manually using the 'stim_channel' parameter.\",).\n",
      "Skipping recording_1046.raw.fif. Exception: (\"No stim channels found. Consider specifying them manually using the 'stim_channel' parameter.\",).\n"
     ]
    },
    {
     "name": "stderr",
     "output_type": "stream",
     "text": [
      "Loading EEG MAHNOB:  96%|█████████▋| 27/28 [00:04<00:00,  5.73person/s]"
     ]
    },
    {
     "name": "stdout",
     "output_type": "stream",
     "text": [
      "Skipping recording_1048.raw.fif. Exception: (\"No stim channels found. Consider specifying them manually using the 'stim_channel' parameter.\",).\n"
     ]
    },
    {
     "name": "stderr",
     "output_type": "stream",
     "text": [
      "Loading EEG MAHNOB:  96%|█████████▋| 27/28 [00:04<00:00,  5.73person/s]"
     ]
    },
    {
     "name": "stdout",
     "output_type": "stream",
     "text": [
      "Skipping recording_1050.raw.fif. Exception: (\"No stim channels found. Consider specifying them manually using the 'stim_channel' parameter.\",).\n",
      "Skipping recording_1052.raw.fif. Exception: (\"No stim channels found. Consider specifying them manually using the 'stim_channel' parameter.\",).\n"
     ]
    },
    {
     "name": "stderr",
     "output_type": "stream",
     "text": [
      "Loading EEG MAHNOB: 100%|██████████| 28/28 [00:04<00:00,  6.12person/s]\n"
     ]
    },
    {
     "name": "stdout",
     "output_type": "stream",
     "text": [
      "Skipping recording_1054.raw.fif. Exception: (\"No stim channels found. Consider specifying them manually using the 'stim_channel' parameter.\",).\n",
      "Skipping recording_1056.raw.fif. Exception: (\"No stim channels found. Consider specifying them manually using the 'stim_channel' parameter.\",).\n",
      "Skipping recording_1058.raw.fif. Exception: (\"No stim channels found. Consider specifying them manually using the 'stim_channel' parameter.\",).\n",
      "Skipping recording_1060.raw.fif. Exception: (\"No stim channels found. Consider specifying them manually using the 'stim_channel' parameter.\",).\n",
      "Skipping recording_1062.raw.fif. Exception: (\"No stim channels found. Consider specifying them manually using the 'stim_channel' parameter.\",).\n",
      "Skipping recording_1064.raw.fif. Exception: (\"No stim channels found. Consider specifying them manually using the 'stim_channel' parameter.\",).\n",
      "Skipping recording_1066.raw.fif. Exception: (\"No stim channels found. Consider specifying them manually using the 'stim_channel' parameter.\",).\n",
      "Skipping recording_1068.raw.fif. Exception: (\"No stim channels found. Consider specifying them manually using the 'stim_channel' parameter.\",).\n",
      "None of the sessions for 9 were usable. Skipping...\n"
     ]
    },
    {
     "ename": "AssertionError",
     "evalue": "datasets should not be an empty iterable",
     "output_type": "error",
     "traceback": [
      "\u001B[1;31m---------------------------------------------------------------------------\u001B[0m",
      "\u001B[1;31mAssertionError\u001B[0m                            Traceback (most recent call last)",
      "Cell \u001B[1;32mIn[23], line 4\u001B[0m\n\u001B[0;32m      2\u001B[0m experiment \u001B[38;5;241m=\u001B[39m ExperimentConfig(config_filename)\n\u001B[0;32m      3\u001B[0m ds_config \u001B[38;5;241m=\u001B[39m experiment\u001B[38;5;241m.\u001B[39mdatasets[\u001B[38;5;124m'\u001B[39m\u001B[38;5;124mprivateEEG\u001B[39m\u001B[38;5;124m'\u001B[39m]\n\u001B[1;32m----> 4\u001B[0m dataset \u001B[38;5;241m=\u001B[39m \u001B[43mds_config\u001B[49m\u001B[38;5;241;43m.\u001B[39;49m\u001B[43mauto_construct_dataset\u001B[49m\u001B[43m(\u001B[49m\u001B[43m)\u001B[49m\n",
      "File \u001B[1;32m~\\AppData\\Local\\Programs\\Python\\Python39\\lib\\site-packages\\dn3\\configuratron\\config.py:728\u001B[0m, in \u001B[0;36mDatasetConfig.auto_construct_dataset\u001B[1;34m(self, mapping, **dsargs)\u001B[0m\n\u001B[0;32m    726\u001B[0m     \u001B[38;5;28mprint\u001B[39m(\u001B[38;5;124m\"\u001B[39m\u001B[38;5;124mConverting MOABB format to DN3\u001B[39m\u001B[38;5;124m\"\u001B[39m)\n\u001B[0;32m    727\u001B[0m \u001B[38;5;28;01mif\u001B[39;00m mapping \u001B[38;5;129;01mis\u001B[39;00m \u001B[38;5;28;01mNone\u001B[39;00m:\n\u001B[1;32m--> 728\u001B[0m     \u001B[38;5;28;01mreturn\u001B[39;00m \u001B[38;5;28mself\u001B[39m\u001B[38;5;241m.\u001B[39mauto_construct_dataset(\u001B[38;5;28mself\u001B[39m\u001B[38;5;241m.\u001B[39mauto_mapping(), \u001B[38;5;241m*\u001B[39m\u001B[38;5;241m*\u001B[39mdsargs)\n\u001B[0;32m    730\u001B[0m file_types \u001B[38;5;241m=\u001B[39m \u001B[38;5;124m\"\u001B[39m\u001B[38;5;124mRaw\u001B[39m\u001B[38;5;124m\"\u001B[39m \u001B[38;5;28;01mif\u001B[39;00m \u001B[38;5;28mself\u001B[39m\u001B[38;5;241m.\u001B[39m_create_raw_recordings \u001B[38;5;28;01melse\u001B[39;00m \u001B[38;5;124m\"\u001B[39m\u001B[38;5;124mEpoched\u001B[39m\u001B[38;5;124m\"\u001B[39m\n\u001B[0;32m    731\u001B[0m \u001B[38;5;28;01mif\u001B[39;00m \u001B[38;5;28mself\u001B[39m\u001B[38;5;241m.\u001B[39mpreload:\n",
      "File \u001B[1;32m~\\AppData\\Local\\Programs\\Python\\Python39\\lib\\site-packages\\dn3\\configuratron\\config.py:750\u001B[0m, in \u001B[0;36mDatasetConfig.auto_construct_dataset\u001B[1;34m(self, mapping, **dsargs)\u001B[0m\n\u001B[0;32m    748\u001B[0m dsargs\u001B[38;5;241m.\u001B[39msetdefault(\u001B[38;5;124m'\u001B[39m\u001B[38;5;124mdataset_id\u001B[39m\u001B[38;5;124m'\u001B[39m, \u001B[38;5;28mself\u001B[39m\u001B[38;5;241m.\u001B[39mdataset_id)\n\u001B[0;32m    749\u001B[0m dsargs\u001B[38;5;241m.\u001B[39msetdefault(\u001B[38;5;124m'\u001B[39m\u001B[38;5;124mreturn_trial_id\u001B[39m\u001B[38;5;124m'\u001B[39m, \u001B[38;5;28mself\u001B[39m\u001B[38;5;241m.\u001B[39mreturn_trial_ids)\n\u001B[1;32m--> 750\u001B[0m dataset \u001B[38;5;241m=\u001B[39m Dataset(thinkers, \u001B[38;5;241m*\u001B[39m\u001B[38;5;241m*\u001B[39mdsargs)\n\u001B[0;32m    751\u001B[0m \u001B[38;5;28mprint\u001B[39m(dataset)\n\u001B[0;32m    752\u001B[0m \u001B[38;5;28;01mif\u001B[39;00m \u001B[38;5;28mself\u001B[39m\u001B[38;5;241m.\u001B[39mdeep1010 \u001B[38;5;129;01mis\u001B[39;00m \u001B[38;5;129;01mnot\u001B[39;00m \u001B[38;5;28;01mNone\u001B[39;00m:\n",
      "File \u001B[1;32m~\\AppData\\Local\\Programs\\Python\\Python39\\lib\\site-packages\\dn3\\data\\dataset.py:768\u001B[0m, in \u001B[0;36mDataset.__init__\u001B[1;34m(self, thinkers, dataset_id, task_id, return_trial_id, return_session_id, return_person_id, return_dataset_id, return_task_id, dataset_info)\u001B[0m\n\u001B[0;32m    766\u001B[0m \u001B[38;5;28;01mfor\u001B[39;00m t \u001B[38;5;129;01min\u001B[39;00m \u001B[38;5;28msorted\u001B[39m(thinkers\u001B[38;5;241m.\u001B[39mkeys()):\n\u001B[0;32m    767\u001B[0m     \u001B[38;5;28mself\u001B[39m\u001B[38;5;241m.\u001B[39m\u001B[38;5;21m__add__\u001B[39m(thinkers[t], person_id\u001B[38;5;241m=\u001B[39mt, return_session_id\u001B[38;5;241m=\u001B[39mreturn_session_id, return_trial_id\u001B[38;5;241m=\u001B[39mreturn_trial_id)\n\u001B[1;32m--> 768\u001B[0m \u001B[38;5;28;43mself\u001B[39;49m\u001B[38;5;241;43m.\u001B[39;49m\u001B[43m_reset_dataset\u001B[49m\u001B[43m(\u001B[49m\u001B[43m)\u001B[49m\n\u001B[0;32m    770\u001B[0m \u001B[38;5;28mself\u001B[39m\u001B[38;5;241m.\u001B[39mdataset_id \u001B[38;5;241m=\u001B[39m torch\u001B[38;5;241m.\u001B[39mtensor(dataset_id)\u001B[38;5;241m.\u001B[39mlong() \u001B[38;5;28;01mif\u001B[39;00m dataset_id \u001B[38;5;129;01mis\u001B[39;00m \u001B[38;5;129;01mnot\u001B[39;00m \u001B[38;5;28;01mNone\u001B[39;00m \u001B[38;5;28;01melse\u001B[39;00m \u001B[38;5;28;01mNone\u001B[39;00m\n\u001B[0;32m    771\u001B[0m \u001B[38;5;28mself\u001B[39m\u001B[38;5;241m.\u001B[39mtask_id \u001B[38;5;241m=\u001B[39m torch\u001B[38;5;241m.\u001B[39mtensor(task_id)\u001B[38;5;241m.\u001B[39mlong() \u001B[38;5;28;01mif\u001B[39;00m task_id \u001B[38;5;129;01mis\u001B[39;00m \u001B[38;5;129;01mnot\u001B[39;00m \u001B[38;5;28;01mNone\u001B[39;00m \u001B[38;5;28;01melse\u001B[39;00m \u001B[38;5;28;01mNone\u001B[39;00m\n",
      "File \u001B[1;32m~\\AppData\\Local\\Programs\\Python\\Python39\\lib\\site-packages\\dn3\\data\\dataset.py:807\u001B[0m, in \u001B[0;36mDataset._reset_dataset\u001B[1;34m(self)\u001B[0m\n\u001B[0;32m    805\u001B[0m         \u001B[38;5;28mself\u001B[39m\u001B[38;5;241m.\u001B[39mthinkers[p_id]\u001B[38;5;241m.\u001B[39msessions[s_id]\u001B[38;5;241m.\u001B[39msession_id \u001B[38;5;241m=\u001B[39m s_id\n\u001B[0;32m    806\u001B[0m         \u001B[38;5;28mself\u001B[39m\u001B[38;5;241m.\u001B[39mthinkers[p_id]\u001B[38;5;241m.\u001B[39msessions[s_id]\u001B[38;5;241m.\u001B[39mperson_id \u001B[38;5;241m=\u001B[39m p_id\n\u001B[1;32m--> 807\u001B[0m \u001B[43mConcatDataset\u001B[49m\u001B[38;5;241;43m.\u001B[39;49m\u001B[38;5;21;43m__init__\u001B[39;49m\u001B[43m(\u001B[49m\u001B[38;5;28;43mself\u001B[39;49m\u001B[43m,\u001B[49m\u001B[43m \u001B[49m\u001B[38;5;28;43mself\u001B[39;49m\u001B[38;5;241;43m.\u001B[39;49m\u001B[43mthinkers\u001B[49m\u001B[38;5;241;43m.\u001B[39;49m\u001B[43mvalues\u001B[49m\u001B[43m(\u001B[49m\u001B[43m)\u001B[49m\u001B[43m)\u001B[49m\n",
      "File \u001B[1;32m~\\AppData\\Local\\Programs\\Python\\Python39\\lib\\site-packages\\torch\\utils\\data\\dataset.py:222\u001B[0m, in \u001B[0;36mConcatDataset.__init__\u001B[1;34m(self, datasets)\u001B[0m\n\u001B[0;32m    220\u001B[0m \u001B[38;5;28msuper\u001B[39m(ConcatDataset, \u001B[38;5;28mself\u001B[39m)\u001B[38;5;241m.\u001B[39m\u001B[38;5;21m__init__\u001B[39m()\n\u001B[0;32m    221\u001B[0m \u001B[38;5;28mself\u001B[39m\u001B[38;5;241m.\u001B[39mdatasets \u001B[38;5;241m=\u001B[39m \u001B[38;5;28mlist\u001B[39m(datasets)\n\u001B[1;32m--> 222\u001B[0m \u001B[38;5;28;01massert\u001B[39;00m \u001B[38;5;28mlen\u001B[39m(\u001B[38;5;28mself\u001B[39m\u001B[38;5;241m.\u001B[39mdatasets) \u001B[38;5;241m>\u001B[39m \u001B[38;5;241m0\u001B[39m, \u001B[38;5;124m'\u001B[39m\u001B[38;5;124mdatasets should not be an empty iterable\u001B[39m\u001B[38;5;124m'\u001B[39m  \u001B[38;5;66;03m# type: ignore[arg-type]\u001B[39;00m\n\u001B[0;32m    223\u001B[0m \u001B[38;5;28;01mfor\u001B[39;00m d \u001B[38;5;129;01min\u001B[39;00m \u001B[38;5;28mself\u001B[39m\u001B[38;5;241m.\u001B[39mdatasets:\n\u001B[0;32m    224\u001B[0m     \u001B[38;5;28;01massert\u001B[39;00m \u001B[38;5;129;01mnot\u001B[39;00m \u001B[38;5;28misinstance\u001B[39m(d, IterableDataset), \u001B[38;5;124m\"\u001B[39m\u001B[38;5;124mConcatDataset does not support IterableDataset\u001B[39m\u001B[38;5;124m\"\u001B[39m\n",
      "\u001B[1;31mAssertionError\u001B[0m: datasets should not be an empty iterable"
     ]
    }
   ],
   "source": [
    "config_filename = 'privateEEG_config.yml'\n",
    "experiment = ExperimentConfig(config_filename)\n",
    "ds_config = experiment.datasets['privateEEG']\n",
    "dataset = ds_config.auto_construct_dataset()"
   ],
   "metadata": {
    "collapsed": false
   }
  },
  {
   "cell_type": "code",
   "execution_count": 20,
   "outputs": [],
   "source": [
    "def make_model_and_process():\n",
    "    tidnet = TIDNet.from_dataset(ds_config)\n",
    "    return StandardClassification(tidnet, cuda=experiment.use_gpu, learning_rate=ds_config.train_params.lr)"
   ],
   "metadata": {
    "collapsed": false
   }
  },
  {
   "cell_type": "code",
   "execution_count": 21,
   "outputs": [
    {
     "ename": "AttributeError",
     "evalue": "'DatasetConfig' object has no attribute 'lmso'",
     "output_type": "error",
     "traceback": [
      "\u001B[1;31m---------------------------------------------------------------------------\u001B[0m",
      "\u001B[1;31mAttributeError\u001B[0m                            Traceback (most recent call last)",
      "Cell \u001B[1;32mIn[21], line 2\u001B[0m\n\u001B[0;32m      1\u001B[0m results \u001B[38;5;241m=\u001B[39m \u001B[38;5;28mlist\u001B[39m()\n\u001B[1;32m----> 2\u001B[0m \u001B[38;5;28;01mfor\u001B[39;00m training, validation, test \u001B[38;5;129;01min\u001B[39;00m \u001B[43mds_config\u001B[49m\u001B[38;5;241;43m.\u001B[39;49m\u001B[43mlmso\u001B[49m(ds_config\u001B[38;5;241m.\u001B[39mtrain_params\u001B[38;5;241m.\u001B[39mfolds):\n\u001B[0;32m      3\u001B[0m     process \u001B[38;5;241m=\u001B[39m make_model_and_process()\n\u001B[0;32m      4\u001B[0m     process\u001B[38;5;241m.\u001B[39mfit(training_dataset\u001B[38;5;241m=\u001B[39mtraining, validation_dataset\u001B[38;5;241m=\u001B[39mvalidation)\n",
      "\u001B[1;31mAttributeError\u001B[0m: 'DatasetConfig' object has no attribute 'lmso'"
     ]
    }
   ],
   "source": [
    "results = list()\n",
    "for training, validation, test in ds_config.lmso(ds_config.train_params.folds):\n",
    "    process = make_model_and_process()\n",
    "    process.fit(training_dataset=training, validation_dataset=validation)\n",
    "    results.append(process.evaluate(test)['Accuracy'])\n",
    "    print(results)\n",
    "    print(\"Average accuracy: {:.2%}\".format(sum(results)/len(results)))"
   ],
   "metadata": {
    "collapsed": false
   }
  }
 ],
 "metadata": {
  "kernelspec": {
   "display_name": "Python 3",
   "language": "python",
   "name": "python3"
  },
  "language_info": {
   "codemirror_mode": {
    "name": "ipython",
    "version": 2
   },
   "file_extension": ".py",
   "mimetype": "text/x-python",
   "name": "python",
   "nbconvert_exporter": "python",
   "pygments_lexer": "ipython2",
   "version": "2.7.6"
  }
 },
 "nbformat": 4,
 "nbformat_minor": 0
}
