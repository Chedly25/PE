{
 "cells": [
  {
   "cell_type": "code",
   "execution_count": 1,
   "metadata": {
    "collapsed": true
   },
   "outputs": [],
   "source": [
    "import collections.abc\n",
    "#hyper needs the four following aliases to be done manually.\n",
    "collections.Iterable = collections.abc.Iterable\n",
    "collections.Mapping = collections.abc.Mapping\n",
    "collections.MutableSet = collections.abc.MutableSet\n",
    "collections.MutableMapping = collections.abc.MutableMapping"
   ]
  },
  {
   "cell_type": "code",
   "execution_count": 2,
   "outputs": [],
   "source": [
    "from os import path\n",
    "import os\n",
    "import numpy as np\n",
    "import re\n",
    "#import pandas as pd\n",
    "import pickle\n",
    "import mne\n",
    "import matplotlib.pyplot as plt"
   ],
   "metadata": {
    "collapsed": false
   }
  },
  {
   "cell_type": "code",
   "execution_count": 3,
   "outputs": [],
   "source": [
    "def from_pickle(path):\n",
    "    with open(path, 'rb') as f:\n",
    "        obj = pickle.load(f)\n",
    "    return obj"
   ],
   "metadata": {
    "collapsed": false
   }
  },
  {
   "cell_type": "code",
   "execution_count": 4,
   "outputs": [],
   "source": [
    "path_raw_EEG = 'C:\\\\Users\\\\chedl\\\\OneDrive\\\\Bureau\\\\EMSE\\\\3A\\\\PE\\\\privateData\\\\EEG_MAHNOB_Dictinary.p'\n",
    "path_raw_data = 'C:\\\\Users\\\\chedl\\\\OneDrive\\\\Bureau\\\\EMSE\\\\3A\\\\PE\\\\privateData'\n",
    "all_eeg = from_pickle(path_raw_EEG)\n",
    "meta = from_pickle(path.join(path_raw_data, \"Metadata_dict.p\"))\n",
    "labels = from_pickle(path.join(path_raw_data, \"Label_Dict.p\"))"
   ],
   "metadata": {
    "collapsed": false
   }
  },
  {
   "cell_type": "code",
   "execution_count": 5,
   "outputs": [],
   "source": [
    "EEG_channels = ['Fp1', 'AF3', 'F3', 'F7', 'FC5', 'FC1', 'C3', 'T7', 'CP5', 'CP1', 'P3',\n",
    "                'P7', 'PO3', 'O1', 'Oz', 'Pz', 'Fp2', 'AF4', 'Fz', 'F4', 'F8', 'FC6',\n",
    "                'FC2', 'Cz', 'C4', 'T8', 'CP6', 'CP2', 'P4', 'P8', 'PO4', 'O2']"
   ],
   "metadata": {
    "collapsed": false
   }
  },
  {
   "cell_type": "code",
   "execution_count": 6,
   "outputs": [
    {
     "data": {
      "text/plain": "{2: array([4., 3.], dtype=float32),\n 4: array([6., 3.], dtype=float32),\n 6: array([8., 9.], dtype=float32),\n 8: array([7., 5.], dtype=float32),\n 10: array([6., 3.], dtype=float32),\n 12: array([7., 8.], dtype=float32),\n 14: array([6., 8.], dtype=float32),\n 16: array([4., 7.], dtype=float32),\n 18: array([9., 2.], dtype=float32),\n 20: array([3., 6.], dtype=float32),\n 22: array([9., 4.], dtype=float32),\n 24: array([7., 3.], dtype=float32),\n 26: array([7., 2.], dtype=float32),\n 28: array([6., 3.], dtype=float32),\n 30: array([6., 5.], dtype=float32),\n 32: array([6., 2.], dtype=float32),\n 34: array([2., 5.], dtype=float32),\n 36: array([7., 7.], dtype=float32),\n 38: array([6., 6.], dtype=float32),\n 40: array([8., 8.], dtype=float32),\n 132: array([3., 5.], dtype=float32),\n 134: array([6., 3.], dtype=float32),\n 136: array([2., 5.], dtype=float32),\n 138: array([7., 2.], dtype=float32),\n 140: array([4., 6.], dtype=float32),\n 142: array([7., 1.], dtype=float32),\n 144: array([5., 1.], dtype=float32),\n 146: array([4., 6.], dtype=float32),\n 148: array([7., 1.], dtype=float32),\n 150: array([3., 5.], dtype=float32),\n 152: array([6., 2.], dtype=float32),\n 154: array([1., 4.], dtype=float32),\n 156: array([3., 7.], dtype=float32),\n 158: array([2., 2.], dtype=float32),\n 160: array([4., 4.], dtype=float32),\n 162: array([5., 1.], dtype=float32),\n 164: array([6., 7.], dtype=float32),\n 166: array([6., 5.], dtype=float32),\n 168: array([6., 5.], dtype=float32),\n 170: array([6., 5.], dtype=float32),\n 262: array([2., 1.], dtype=float32),\n 264: array([1., 5.], dtype=float32),\n 266: array([6., 3.], dtype=float32),\n 268: array([7., 9.], dtype=float32),\n 270: array([5., 8.], dtype=float32),\n 272: array([5., 1.], dtype=float32),\n 274: array([2., 1.], dtype=float32),\n 276: array([8., 8.], dtype=float32),\n 278: array([5., 5.], dtype=float32),\n 280: array([1., 4.], dtype=float32),\n 282: array([2., 4.], dtype=float32),\n 284: array([1., 5.], dtype=float32),\n 286: array([5., 5.], dtype=float32),\n 288: array([7., 8.], dtype=float32),\n 290: array([1., 6.], dtype=float32),\n 292: array([1., 5.], dtype=float32),\n 294: array([3., 5.], dtype=float32),\n 392: array([6., 8.], dtype=float32),\n 394: array([1., 9.], dtype=float32),\n 396: array([8., 2.], dtype=float32),\n 398: array([8., 2.], dtype=float32),\n 400: array([7., 2.], dtype=float32),\n 402: array([7., 9.], dtype=float32),\n 404: array([2., 9.], dtype=float32),\n 406: array([1., 5.], dtype=float32),\n 408: array([8., 1.], dtype=float32),\n 410: array([1., 4.], dtype=float32),\n 412: array([1., 4.], dtype=float32),\n 414: array([2., 9.], dtype=float32),\n 416: array([2., 8.], dtype=float32),\n 418: array([5., 9.], dtype=float32),\n 420: array([1., 6.], dtype=float32),\n 422: array([1., 5.], dtype=float32),\n 424: array([6., 3.], dtype=float32),\n 426: array([8., 3.], dtype=float32),\n 428: array([8., 2.], dtype=float32),\n 430: array([7., 2.], dtype=float32),\n 522: array([5., 3.], dtype=float32),\n 524: array([7., 2.], dtype=float32),\n 526: array([3., 6.], dtype=float32),\n 528: array([5., 8.], dtype=float32),\n 530: array([7., 8.], dtype=float32),\n 532: array([5., 4.], dtype=float32),\n 534: array([3., 5.], dtype=float32),\n 536: array([8., 1.], dtype=float32),\n 538: array([7., 3.], dtype=float32),\n 540: array([7., 4.], dtype=float32),\n 542: array([6., 1.], dtype=float32),\n 544: array([5., 9.], dtype=float32),\n 546: array([5., 5.], dtype=float32),\n 548: array([7., 5.], dtype=float32),\n 550: array([3., 5.], dtype=float32),\n 552: array([4., 8.], dtype=float32),\n 554: array([5., 8.], dtype=float32),\n 556: array([6., 4.], dtype=float32),\n 558: array([6., 9.], dtype=float32),\n 560: array([1., 5.], dtype=float32),\n 652: array([3., 5.], dtype=float32),\n 654: array([5., 7.], dtype=float32),\n 656: array([1., 3.], dtype=float32),\n 658: array([5., 7.], dtype=float32),\n 660: array([5., 9.], dtype=float32),\n 662: array([3., 1.], dtype=float32),\n 664: array([5., 8.], dtype=float32),\n 666: array([3., 1.], dtype=float32),\n 668: array([5., 5.], dtype=float32),\n 670: array([6., 8.], dtype=float32),\n 672: array([7., 1.], dtype=float32),\n 674: array([6., 4.], dtype=float32),\n 676: array([6., 1.], dtype=float32),\n 678: array([7., 8.], dtype=float32),\n 680: array([6., 3.], dtype=float32),\n 682: array([5., 5.], dtype=float32),\n 684: array([1., 1.], dtype=float32),\n 686: array([1., 3.], dtype=float32),\n 688: array([7., 9.], dtype=float32),\n 690: array([7., 8.], dtype=float32),\n 782: array([5., 7.], dtype=float32),\n 784: array([7., 1.], dtype=float32),\n 786: array([7., 1.], dtype=float32),\n 788: array([7., 1.], dtype=float32),\n 790: array([6., 1.], dtype=float32),\n 792: array([7., 1.], dtype=float32),\n 794: array([3., 1.], dtype=float32),\n 796: array([6., 8.], dtype=float32),\n 798: array([5., 5.], dtype=float32),\n 800: array([7., 1.], dtype=float32),\n 802: array([2., 5.], dtype=float32),\n 804: array([4., 3.], dtype=float32),\n 806: array([8., 1.], dtype=float32),\n 808: array([5., 2.], dtype=float32),\n 810: array([6., 1.], dtype=float32),\n 812: array([3., 5.], dtype=float32),\n 814: array([5., 1.], dtype=float32),\n 816: array([7., 9.], dtype=float32),\n 818: array([2., 5.], dtype=float32),\n 820: array([4., 4.], dtype=float32),\n 912: array([4., 3.], dtype=float32),\n 914: array([8., 1.], dtype=float32),\n 916: array([3., 7.], dtype=float32),\n 918: array([5., 5.], dtype=float32),\n 920: array([6., 2.], dtype=float32),\n 922: array([1., 6.], dtype=float32),\n 924: array([5., 2.], dtype=float32),\n 926: array([4., 4.], dtype=float32),\n 928: array([1., 8.], dtype=float32),\n 930: array([4., 8.], dtype=float32),\n 932: array([3., 9.], dtype=float32),\n 934: array([5., 3.], dtype=float32),\n 936: array([1., 5.], dtype=float32),\n 938: array([1., 6.], dtype=float32),\n 940: array([5., 3.], dtype=float32),\n 942: array([4., 9.], dtype=float32),\n 944: array([7., 1.], dtype=float32),\n 946: array([3., 7.], dtype=float32),\n 948: array([3., 6.], dtype=float32),\n 950: array([2., 6.], dtype=float32),\n 1042: array([8., 3.], dtype=float32),\n 1044: array([9., 3.], dtype=float32),\n 1046: array([2., 5.], dtype=float32),\n 1048: array([6., 1.], dtype=float32),\n 1050: array([7., 1.], dtype=float32),\n 1052: array([9., 7.], dtype=float32),\n 1054: array([8., 2.], dtype=float32),\n 1056: array([5., 7.], dtype=float32),\n 1058: array([4., 1.], dtype=float32),\n 1060: array([3., 3.], dtype=float32),\n 1062: array([8., 8.], dtype=float32),\n 1064: array([1., 5.], dtype=float32),\n 1066: array([4., 6.], dtype=float32),\n 1068: array([8., 8.], dtype=float32),\n 1172: array([5., 3.], dtype=float32),\n 1174: array([6., 7.], dtype=float32),\n 1176: array([3., 2.], dtype=float32),\n 1178: array([3., 2.], dtype=float32),\n 1180: array([5., 5.], dtype=float32),\n 1182: array([7., 5.], dtype=float32),\n 1184: array([5., 7.], dtype=float32),\n 1186: array([3., 2.], dtype=float32),\n 1188: array([4., 2.], dtype=float32),\n 1190: array([2., 5.], dtype=float32),\n 1192: array([4., 3.], dtype=float32),\n 1194: array([6., 7.], dtype=float32),\n 1196: array([6., 6.], dtype=float32),\n 1198: array([5., 7.], dtype=float32),\n 1200: array([3., 5.], dtype=float32),\n 1202: array([2., 5.], dtype=float32),\n 1204: array([2., 5.], dtype=float32),\n 1206: array([6., 5.], dtype=float32),\n 1208: array([5., 5.], dtype=float32),\n 1210: array([5., 3.], dtype=float32),\n 1302: array([5., 1.], dtype=float32),\n 1304: array([7., 3.], dtype=float32),\n 1306: array([8., 8.], dtype=float32),\n 1308: array([3., 3.], dtype=float32),\n 1310: array([6., 5.], dtype=float32),\n 1312: array([5., 5.], dtype=float32),\n 1314: array([4., 3.], dtype=float32),\n 1316: array([9., 9.], dtype=float32),\n 1318: array([4., 4.], dtype=float32),\n 1320: array([7., 7.], dtype=float32),\n 1322: array([6., 8.], dtype=float32),\n 1324: array([4., 5.], dtype=float32),\n 1326: array([3., 2.], dtype=float32),\n 1328: array([1., 2.], dtype=float32),\n 1330: array([1., 1.], dtype=float32),\n 1332: array([2., 2.], dtype=float32),\n 1334: array([5., 4.], dtype=float32),\n 1336: array([7., 1.], dtype=float32),\n 1338: array([7., 8.], dtype=float32),\n 1340: array([4., 6.], dtype=float32),\n 1562: array([7., 4.], dtype=float32),\n 1564: array([5., 7.], dtype=float32),\n 1566: array([6., 7.], dtype=float32),\n 1568: array([4., 3.], dtype=float32),\n 1570: array([6., 4.], dtype=float32),\n 1572: array([3., 5.], dtype=float32),\n 1574: array([7., 2.], dtype=float32),\n 1576: array([8., 7.], dtype=float32),\n 1578: array([7., 6.], dtype=float32),\n 1580: array([6., 7.], dtype=float32),\n 1582: array([7., 8.], dtype=float32),\n 1584: array([3., 6.], dtype=float32),\n 1586: array([7., 3.], dtype=float32),\n 1588: array([7., 8.], dtype=float32),\n 1590: array([5., 3.], dtype=float32),\n 1592: array([7., 4.], dtype=float32),\n 1594: array([5., 7.], dtype=float32),\n 1596: array([8., 5.], dtype=float32),\n 1598: array([4., 5.], dtype=float32),\n 1600: array([3., 5.], dtype=float32),\n 1692: array([2., 6.], dtype=float32),\n 1694: array([1., 4.], dtype=float32),\n 1696: array([4., 7.], dtype=float32),\n 1698: array([5., 4.], dtype=float32),\n 1700: array([1., 3.], dtype=float32),\n 1702: array([3., 4.], dtype=float32),\n 1704: array([1., 4.], dtype=float32),\n 1706: array([5., 3.], dtype=float32),\n 1708: array([5., 7.], dtype=float32),\n 1710: array([2., 2.], dtype=float32),\n 1712: array([9., 1.], dtype=float32),\n 1714: array([2., 9.], dtype=float32),\n 1716: array([1., 9.], dtype=float32),\n 1718: array([2., 8.], dtype=float32),\n 1720: array([4., 2.], dtype=float32),\n 1722: array([1., 4.], dtype=float32),\n 1724: array([2., 4.], dtype=float32),\n 1726: array([2., 2.], dtype=float32),\n 1728: array([2., 5.], dtype=float32),\n 1730: array([2., 8.], dtype=float32),\n 1952: array([6., 4.], dtype=float32),\n 1954: array([4., 5.], dtype=float32),\n 1956: array([6., 7.], dtype=float32),\n 1958: array([1., 5.], dtype=float32),\n 1960: array([1., 4.], dtype=float32),\n 1962: array([3., 6.], dtype=float32),\n 1964: array([5., 7.], dtype=float32),\n 1966: array([3., 5.], dtype=float32),\n 1968: array([4., 6.], dtype=float32),\n 1970: array([4., 4.], dtype=float32),\n 1972: array([1., 5.], dtype=float32),\n 1974: array([6., 4.], dtype=float32),\n 1976: array([2., 4.], dtype=float32),\n 1978: array([7., 7.], dtype=float32),\n 1980: array([4., 6.], dtype=float32),\n 1982: array([4., 5.], dtype=float32),\n 2082: array([4., 3.], dtype=float32),\n 2084: array([1., 5.], dtype=float32),\n 2086: array([3., 2.], dtype=float32),\n 2088: array([3., 6.], dtype=float32),\n 2090: array([4., 5.], dtype=float32),\n 2092: array([2., 6.], dtype=float32),\n 2094: array([2., 6.], dtype=float32),\n 2096: array([4., 2.], dtype=float32),\n 2098: array([1., 6.], dtype=float32),\n 2100: array([6., 2.], dtype=float32),\n 2102: array([5., 8.], dtype=float32),\n 2104: array([2., 5.], dtype=float32),\n 2106: array([1., 6.], dtype=float32),\n 2108: array([3., 3.], dtype=float32),\n 2110: array([2., 3.], dtype=float32),\n 2112: array([4., 2.], dtype=float32),\n 2114: array([4., 5.], dtype=float32),\n 2116: array([3., 3.], dtype=float32),\n 2118: array([4., 2.], dtype=float32),\n 2120: array([1., 6.], dtype=float32),\n 2212: array([3., 6.], dtype=float32),\n 2214: array([5., 7.], dtype=float32),\n 2216: array([7., 4.], dtype=float32),\n 2218: array([3., 5.], dtype=float32),\n 2220: array([6., 3.], dtype=float32),\n 2222: array([4., 5.], dtype=float32),\n 2224: array([8., 4.], dtype=float32),\n 2226: array([6., 2.], dtype=float32),\n 2228: array([2., 6.], dtype=float32),\n 2230: array([5., 7.], dtype=float32),\n 2232: array([4., 8.], dtype=float32),\n 2234: array([7., 4.], dtype=float32),\n 2236: array([5., 8.], dtype=float32),\n 2238: array([7., 2.], dtype=float32),\n 2240: array([2., 5.], dtype=float32),\n 2242: array([6., 4.], dtype=float32),\n 2244: array([3., 5.], dtype=float32),\n 2246: array([2., 6.], dtype=float32),\n 2248: array([8., 6.], dtype=float32),\n 2250: array([6., 4.], dtype=float32),\n 2342: array([6., 7.], dtype=float32),\n 2344: array([3., 5.], dtype=float32),\n 2346: array([3., 3.], dtype=float32),\n 2348: array([6., 4.], dtype=float32),\n 2350: array([6., 3.], dtype=float32),\n 2352: array([7., 3.], dtype=float32),\n 2354: array([6., 2.], dtype=float32),\n 2356: array([6., 8.], dtype=float32),\n 2358: array([4., 3.], dtype=float32),\n 2360: array([7., 2.], dtype=float32),\n 2362: array([4., 4.], dtype=float32),\n 2364: array([7., 1.], dtype=float32),\n 2366: array([3., 5.], dtype=float32),\n 2368: array([6., 6.], dtype=float32),\n 2370: array([6., 7.], dtype=float32),\n 2372: array([5., 5.], dtype=float32),\n 2374: array([4., 5.], dtype=float32),\n 2376: array([7., 2.], dtype=float32),\n 2378: array([7., 3.], dtype=float32),\n 2380: array([7., 8.], dtype=float32),\n 2472: array([2., 6.], dtype=float32),\n 2474: array([6., 2.], dtype=float32),\n 2476: array([2., 7.], dtype=float32),\n 2478: array([4., 1.], dtype=float32),\n 2480: array([1., 5.], dtype=float32),\n 2482: array([6., 7.], dtype=float32),\n 2484: array([7., 1.], dtype=float32),\n 2486: array([5., 1.], dtype=float32),\n 2488: array([7., 2.], dtype=float32),\n 2490: array([7., 1.], dtype=float32),\n 2492: array([3., 2.], dtype=float32),\n 2494: array([2., 2.], dtype=float32),\n 2496: array([1., 1.], dtype=float32),\n 2498: array([2., 7.], dtype=float32),\n 2500: array([4., 6.], dtype=float32),\n 2502: array([7., 1.], dtype=float32),\n 2504: array([3., 7.], dtype=float32),\n 2506: array([1., 3.], dtype=float32),\n 2508: array([1., 1.], dtype=float32),\n 2510: array([3., 1.], dtype=float32),\n 2602: array([6., 3.], dtype=float32),\n 2604: array([7., 2.], dtype=float32),\n 2606: array([3., 7.], dtype=float32),\n 2608: array([5., 7.], dtype=float32),\n 2610: array([7., 8.], dtype=float32),\n 2612: array([7., 4.], dtype=float32),\n 2614: array([1., 5.], dtype=float32),\n 2616: array([7., 1.], dtype=float32),\n 2618: array([8., 3.], dtype=float32),\n 2620: array([4., 5.], dtype=float32),\n 2622: array([6., 3.], dtype=float32),\n 2624: array([3., 7.], dtype=float32),\n 2626: array([7., 4.], dtype=float32),\n 2628: array([8., 2.], dtype=float32),\n 2630: array([2., 5.], dtype=float32),\n 2632: array([6., 8.], dtype=float32),\n 2634: array([3., 6.], dtype=float32),\n 2636: array([4., 4.], dtype=float32),\n 2638: array([5., 8.], dtype=float32),\n 2640: array([1., 6.], dtype=float32),\n 2732: array([3., 3.], dtype=float32),\n 2734: array([5., 8.], dtype=float32),\n 2736: array([3., 5.], dtype=float32),\n 2738: array([6., 2.], dtype=float32),\n 2740: array([4., 6.], dtype=float32),\n 2742: array([8., 1.], dtype=float32),\n 2744: array([8., 9.], dtype=float32),\n 2746: array([9., 7.], dtype=float32),\n 2748: array([3., 5.], dtype=float32),\n 2750: array([6., 9.], dtype=float32),\n 2752: array([9., 2.], dtype=float32),\n 2754: array([8., 2.], dtype=float32),\n 2756: array([7., 2.], dtype=float32),\n 2758: array([4., 5.], dtype=float32),\n 2760: array([7., 1.], dtype=float32),\n 2762: array([6., 2.], dtype=float32),\n 2764: array([2., 5.], dtype=float32),\n 2766: array([2., 5.], dtype=float32),\n 2768: array([4., 8.], dtype=float32),\n 2770: array([5., 8.], dtype=float32),\n 2862: array([2., 7.], dtype=float32),\n 2864: array([4., 3.], dtype=float32),\n 2866: array([8., 1.], dtype=float32),\n 2868: array([5., 1.], dtype=float32),\n 2870: array([2., 4.], dtype=float32),\n 2872: array([2., 3.], dtype=float32),\n 2874: array([1., 6.], dtype=float32),\n 2876: array([2., 7.], dtype=float32),\n 2878: array([1., 6.], dtype=float32),\n 2880: array([7., 2.], dtype=float32),\n 2882: array([1., 5.], dtype=float32),\n 2884: array([3., 7.], dtype=float32),\n 2886: array([3., 4.], dtype=float32),\n 2888: array([2., 3.], dtype=float32),\n 2890: array([4., 2.], dtype=float32),\n 2892: array([1., 5.], dtype=float32),\n 2894: array([4., 5.], dtype=float32),\n 2896: array([2., 8.], dtype=float32),\n 2898: array([1., 5.], dtype=float32),\n 2900: array([1., 6.], dtype=float32),\n 2992: array([6., 4.], dtype=float32),\n 2994: array([7., 2.], dtype=float32),\n 2996: array([5., 7.], dtype=float32),\n 2998: array([3., 6.], dtype=float32),\n 3000: array([6., 3.], dtype=float32),\n 3002: array([3., 9.], dtype=float32),\n 3004: array([6., 2.], dtype=float32),\n 3006: array([9., 1.], dtype=float32),\n 3008: array([2., 8.], dtype=float32),\n 3010: array([5., 6.], dtype=float32),\n 3012: array([4., 9.], dtype=float32),\n 3014: array([2., 4.], dtype=float32),\n 3016: array([1., 7.], dtype=float32),\n 3018: array([1., 7.], dtype=float32),\n 3020: array([8., 2.], dtype=float32),\n 3022: array([6., 9.], dtype=float32),\n 3024: array([7., 2.], dtype=float32),\n 3026: array([3., 8.], dtype=float32),\n 3028: array([6., 3.], dtype=float32),\n 3030: array([2., 7.], dtype=float32),\n 3122: array([7., 2.], dtype=float32),\n 3124: array([7., 3.], dtype=float32),\n 3126: array([2., 5.], dtype=float32),\n 3128: array([1., 5.], dtype=float32),\n 3130: array([7., 9.], dtype=float32),\n 3132: array([5., 6.], dtype=float32),\n 3134: array([9., 1.], dtype=float32),\n 3136: array([9., 8.], dtype=float32),\n 3138: array([8., 1.], dtype=float32),\n 3140: array([1., 5.], dtype=float32),\n 3142: array([7., 8.], dtype=float32),\n 3144: array([1., 4.], dtype=float32),\n 3146: array([5., 8.], dtype=float32),\n 3148: array([8., 8.], dtype=float32),\n 3150: array([2., 5.], dtype=float32),\n 3152: array([3., 7.], dtype=float32),\n 3154: array([8., 6.], dtype=float32),\n 3156: array([2., 5.], dtype=float32),\n 3158: array([8., 1.], dtype=float32),\n 3160: array([8., 9.], dtype=float32),\n 3252: array([9., 2.], dtype=float32),\n 3254: array([4., 4.], dtype=float32),\n 3256: array([8., 1.], dtype=float32),\n 3258: array([3., 3.], dtype=float32),\n 3260: array([4., 5.], dtype=float32),\n 3262: array([7., 7.], dtype=float32),\n 3264: array([7., 8.], dtype=float32),\n 3266: array([3., 4.], dtype=float32),\n 3268: array([4., 3.], dtype=float32),\n 3270: array([5., 5.], dtype=float32),\n 3272: array([4., 3.], dtype=float32),\n 3274: array([3., 7.], dtype=float32),\n 3276: array([6., 8.], dtype=float32),\n 3278: array([3., 8.], dtype=float32),\n 3280: array([6., 8.], dtype=float32),\n 3282: array([2., 5.], dtype=float32),\n 3284: array([4., 3.], dtype=float32),\n 3286: array([4., 4.], dtype=float32),\n 3288: array([4., 3.], dtype=float32),\n 3290: array([3., 2.], dtype=float32),\n 3382: array([5., 7.], dtype=float32),\n 3384: array([4., 3.], dtype=float32),\n 3386: array([2., 5.], dtype=float32),\n 3388: array([6., 6.], dtype=float32),\n 3390: array([7., 1.], dtype=float32),\n 3392: array([4., 3.], dtype=float32),\n 3394: array([7., 1.], dtype=float32),\n 3396: array([3., 5.], dtype=float32),\n 3398: array([5., 7.], dtype=float32),\n 3400: array([7., 8.], dtype=float32),\n 3402: array([7., 2.], dtype=float32),\n 3404: array([3., 6.], dtype=float32),\n 3406: array([4., 3.], dtype=float32),\n 3408: array([1., 5.], dtype=float32),\n 3410: array([3., 6.], dtype=float32),\n 3412: array([6., 6.], dtype=float32),\n 3414: array([7., 7.], dtype=float32),\n 3416: array([8., 2.], dtype=float32),\n 3418: array([1., 5.], dtype=float32),\n 3420: array([7., 2.], dtype=float32),\n 3512: array([6., 1.], dtype=float32),\n 3514: array([3., 6.], dtype=float32),\n 3516: array([1., 8.], dtype=float32),\n 3518: array([2., 1.], dtype=float32),\n 3520: array([5., 1.], dtype=float32),\n 3522: array([1., 4.], dtype=float32),\n 3524: array([8., 1.], dtype=float32),\n 3526: array([7., 9.], dtype=float32),\n 3528: array([5., 3.], dtype=float32),\n 3530: array([4., 8.], dtype=float32),\n 3532: array([8., 9.], dtype=float32),\n 3534: array([1., 4.], dtype=float32),\n 3536: array([5., 1.], dtype=float32),\n 3538: array([6., 7.], dtype=float32),\n 3540: array([3., 3.], dtype=float32),\n 3542: array([4., 1.], dtype=float32),\n 3544: array([4., 9.], dtype=float32),\n 3546: array([8., 2.], dtype=float32),\n 3548: array([1., 5.], dtype=float32),\n 3550: array([1., 3.], dtype=float32),\n 3642: array([5., 7.], dtype=float32),\n 3644: array([6., 3.], dtype=float32),\n 3646: array([4., 4.], dtype=float32),\n 3648: array([2., 5.], dtype=float32),\n 3650: array([4., 6.], dtype=float32),\n 3652: array([2., 6.], dtype=float32),\n 3654: array([6., 2.], dtype=float32),\n 3656: array([3., 7.], dtype=float32),\n 3658: array([8., 2.], dtype=float32),\n 3660: array([1., 5.], dtype=float32),\n 3662: array([4., 4.], dtype=float32),\n 3664: array([5., 4.], dtype=float32),\n 3666: array([3., 6.], dtype=float32),\n 3668: array([8., 2.], dtype=float32),\n 3670: array([8., 3.], dtype=float32),\n 3672: array([4., 5.], dtype=float32),\n 3674: array([4., 3.], dtype=float32),\n 3676: array([1., 5.], dtype=float32),\n 3678: array([3., 6.], dtype=float32),\n 3680: array([6., 6.], dtype=float32),\n 3772: array([2., 4.], dtype=float32),\n 3774: array([1., 5.], dtype=float32),\n 3776: array([4., 7.], dtype=float32),\n 3778: array([4., 6.], dtype=float32),\n 3780: array([6., 3.], dtype=float32),\n 3782: array([5., 8.], dtype=float32),\n 3784: array([2., 6.], dtype=float32),\n 3786: array([1., 5.], dtype=float32),\n 3788: array([6., 6.], dtype=float32),\n 3790: array([6., 3.], dtype=float32),\n 3792: array([5., 2.], dtype=float32),\n 3794: array([4., 3.], dtype=float32),\n 3796: array([2., 5.], dtype=float32),\n 3798: array([2., 5.], dtype=float32),\n 3800: array([3., 6.], dtype=float32),\n 3802: array([1., 5.], dtype=float32),\n 3804: array([3., 4.], dtype=float32),\n 3806: array([4., 6.], dtype=float32),\n 3808: array([3., 4.], dtype=float32),\n 3810: array([4., 7.], dtype=float32)}"
     },
     "execution_count": 6,
     "metadata": {},
     "output_type": "execute_result"
    }
   ],
   "source": [
    "labels"
   ],
   "metadata": {
    "collapsed": false
   }
  },
  {
   "cell_type": "code",
   "execution_count": 21,
   "outputs": [],
   "source": [
    "path = 'C:\\\\Users\\\\chedl\\\\OneDrive\\\\Bureau\\\\EMSE\\\\3A\\\\PE\\\\essai'"
   ],
   "metadata": {
    "collapsed": false
   }
  },
  {
   "cell_type": "code",
   "execution_count": 7,
   "outputs": [],
   "source": [
    "# Set the path of the directory where you want to create the new directories\n",
    "# Create 30 directories with names corresponding to their numbers in the specified directory\\n\",\n",
    "for i in range(1, 31):\n",
    "    dir_name = f'{i}'\n",
    "    os.mkdir(os.path.join(path, dir_name))"
   ],
   "metadata": {
    "collapsed": false
   }
  },
  {
   "cell_type": "code",
   "execution_count": 8,
   "outputs": [
    {
     "ename": "ValueError",
     "evalue": "Data must be a 3D array of shape (n_epochs, n_channels, n_samples)",
     "output_type": "error",
     "traceback": [
      "\u001B[1;31m---------------------------------------------------------------------------\u001B[0m",
      "\u001B[1;31mValueError\u001B[0m                                Traceback (most recent call last)",
      "Cell \u001B[1;32mIn[8], line 13\u001B[0m\n\u001B[0;32m     11\u001B[0m session_data \u001B[38;5;241m=\u001B[39m session_data\u001B[38;5;241m.\u001B[39mreshape(\u001B[38;5;241m32\u001B[39m, \u001B[38;5;241m-\u001B[39m\u001B[38;5;241m1\u001B[39m)\n\u001B[0;32m     12\u001B[0m \u001B[38;5;66;03m# Create a Raw object from the preprocessed data\u001B[39;00m\n\u001B[1;32m---> 13\u001B[0m epochs \u001B[38;5;241m=\u001B[39m \u001B[43mmne\u001B[49m\u001B[38;5;241;43m.\u001B[39;49m\u001B[43mEpochsArray\u001B[49m\u001B[43m(\u001B[49m\u001B[43msession_data\u001B[49m\u001B[43m,\u001B[49m\u001B[43m \u001B[49m\u001B[43minfo\u001B[49m\u001B[38;5;241;43m=\u001B[39;49m\u001B[43mmne\u001B[49m\u001B[38;5;241;43m.\u001B[39;49m\u001B[43mcreate_info\u001B[49m\u001B[43m(\u001B[49m\u001B[43mch_names\u001B[49m\u001B[38;5;241;43m=\u001B[39;49m\u001B[43mEEG_channels\u001B[49m\u001B[43m,\u001B[49m\u001B[43m \u001B[49m\u001B[43msfreq\u001B[49m\u001B[38;5;241;43m=\u001B[39;49m\u001B[38;5;241;43m128\u001B[39;49m\u001B[43m)\u001B[49m\u001B[43m)\u001B[49m\n\u001B[0;32m     14\u001B[0m \u001B[38;5;66;03m# Create the filename for the EDF file\u001B[39;00m\n\u001B[0;32m     15\u001B[0m edf_filename \u001B[38;5;241m=\u001B[39m \u001B[38;5;124mf\u001B[39m\u001B[38;5;124m\"\u001B[39m\u001B[38;5;124mrecording_\u001B[39m\u001B[38;5;132;01m{\u001B[39;00msession\u001B[38;5;132;01m}\u001B[39;00m\u001B[38;5;124m.edf\u001B[39m\u001B[38;5;124m\"\u001B[39m\n",
      "File \u001B[1;32m<decorator-gen-280>:12\u001B[0m, in \u001B[0;36m__init__\u001B[1;34m(self, data, info, events, tmin, event_id, reject, flat, reject_tmin, reject_tmax, baseline, proj, on_missing, metadata, selection, drop_log, raw_sfreq, verbose)\u001B[0m\n",
      "File \u001B[1;32m~\\AppData\\Local\\Programs\\Python\\Python39\\lib\\site-packages\\mne\\epochs.py:2776\u001B[0m, in \u001B[0;36mEpochsArray.__init__\u001B[1;34m(self, data, info, events, tmin, event_id, reject, flat, reject_tmin, reject_tmax, baseline, proj, on_missing, metadata, selection, drop_log, raw_sfreq, verbose)\u001B[0m\n\u001B[0;32m   2774\u001B[0m data \u001B[38;5;241m=\u001B[39m np\u001B[38;5;241m.\u001B[39masanyarray(data, dtype\u001B[38;5;241m=\u001B[39mdtype)\n\u001B[0;32m   2775\u001B[0m \u001B[38;5;28;01mif\u001B[39;00m data\u001B[38;5;241m.\u001B[39mndim \u001B[38;5;241m!=\u001B[39m \u001B[38;5;241m3\u001B[39m:\n\u001B[1;32m-> 2776\u001B[0m     \u001B[38;5;28;01mraise\u001B[39;00m \u001B[38;5;167;01mValueError\u001B[39;00m(\u001B[38;5;124m'\u001B[39m\u001B[38;5;124mData must be a 3D array of shape (n_epochs, \u001B[39m\u001B[38;5;124m'\u001B[39m\n\u001B[0;32m   2777\u001B[0m                      \u001B[38;5;124m'\u001B[39m\u001B[38;5;124mn_channels, n_samples)\u001B[39m\u001B[38;5;124m'\u001B[39m)\n\u001B[0;32m   2779\u001B[0m \u001B[38;5;28;01mif\u001B[39;00m \u001B[38;5;28mlen\u001B[39m(info[\u001B[38;5;124m'\u001B[39m\u001B[38;5;124mch_names\u001B[39m\u001B[38;5;124m'\u001B[39m]) \u001B[38;5;241m!=\u001B[39m data\u001B[38;5;241m.\u001B[39mshape[\u001B[38;5;241m1\u001B[39m]:\n\u001B[0;32m   2780\u001B[0m     \u001B[38;5;28;01mraise\u001B[39;00m \u001B[38;5;167;01mValueError\u001B[39;00m(\u001B[38;5;124m'\u001B[39m\u001B[38;5;124mInfo and data must have same number of \u001B[39m\u001B[38;5;124m'\u001B[39m\n\u001B[0;32m   2781\u001B[0m                      \u001B[38;5;124m'\u001B[39m\u001B[38;5;124mchannels.\u001B[39m\u001B[38;5;124m'\u001B[39m)\n",
      "\u001B[1;31mValueError\u001B[0m: Data must be a 3D array of shape (n_epochs, n_channels, n_samples)"
     ]
    }
   ],
   "source": [
    "# Iterate through the subject IDs and their corresponding data dictionaries\n",
    "for subject_id, subject_session in meta.items():\n",
    "    # Create the path to the subject directory\n",
    "    subject_dir_path = os.path.join(path, str(subject_id))\n",
    "    # Open the subject directory\n",
    "    os.startfile(subject_dir_path)\n",
    "\n",
    "    # Iterate through the session IDs and their corresponding data dictionaries for the current subject\n",
    "    for session in subject_session['sessionId']:\n",
    "        session_data = all_eeg[session]\n",
    "        session_data = session_data.reshape(32, -1)\n",
    "        # Create a Raw object from the preprocessed data\n",
    "        raw = mne.io.RawArray(session_data, info=mne.create_info(ch_names=EEG_channels, sfreq=256))        # Create the filename for the EDF file\n",
    "        edf_filename = f\"recording_{session}.edf\"\n",
    "        # Write the Raw object to an EDF file in the current session's directory\n",
    "        edf_path = os.path.join(subject_dir_path, edf_filename)\n",
    "        raw.export(edf_path, overwrite=True)"
   ],
   "metadata": {
    "collapsed": false
   }
  },
  {
   "cell_type": "code",
   "execution_count": null,
   "outputs": [],
   "source": [
    "number = 2\n",
    "for directory in range(1, 31):\n",
    "    dir_path = os.path.join(path, str(directory))\n",
    "    print(dir_path)\n",
    "    for filename in os.listdir(dir_path):\n",
    "        file_path = os.path.join(dir_path, filename)\n",
    "        raw = mne.io.read_raw_edf(file_path)\n",
    "        match = re.search(r'\\d+', filename)\n",
    "        if match:\n",
    "            number = int(match.group())\n",
    "        my_annot = mne.Annotations(onset=[0],  # in seconds\n",
    "                           duration=[120],  # in seconds, too\n",
    "                           description=[str(labels[number])])\n",
    "        raw.set_annotations(my_annot)\n",
    "        anno = f\"annotation_{number}.edf\"\n",
    "        # Write the Raw object to an EDF file in the current session's directory\n",
    "        anno_path = os.path.join(dir_path, anno)\n",
    "        raw.export(anno_path)"
   ],
   "metadata": {
    "collapsed": false,
    "pycharm": {
     "is_executing": true
    }
   }
  },
  {
   "cell_type": "code",
   "execution_count": 8,
   "outputs": [
    {
     "name": "stdout",
     "output_type": "stream",
     "text": [
      "Extracting EDF parameters from C:\\Users\\chedl\\OneDrive\\Bureau\\EMSE\\3A\\PE\\files\\S001\\S001R01.edf...\n",
      "EDF file detected\n",
      "Setting channel info structure...\n",
      "Creating raw.info structure...\n"
     ]
    },
    {
     "ename": "ValueError",
     "evalue": "No channels match the selection.",
     "output_type": "error",
     "traceback": [
      "\u001B[1;31m---------------------------------------------------------------------------\u001B[0m",
      "\u001B[1;31mValueError\u001B[0m                                Traceback (most recent call last)",
      "Cell \u001B[1;32mIn[8], line 3\u001B[0m\n\u001B[0;32m      1\u001B[0m path \u001B[38;5;241m=\u001B[39m \u001B[38;5;124m\"\u001B[39m\u001B[38;5;124mC:\u001B[39m\u001B[38;5;130;01m\\\\\u001B[39;00m\u001B[38;5;124mUsers\u001B[39m\u001B[38;5;130;01m\\\\\u001B[39;00m\u001B[38;5;124mchedl\u001B[39m\u001B[38;5;130;01m\\\\\u001B[39;00m\u001B[38;5;124mOneDrive\u001B[39m\u001B[38;5;130;01m\\\\\u001B[39;00m\u001B[38;5;124mBureau\u001B[39m\u001B[38;5;130;01m\\\\\u001B[39;00m\u001B[38;5;124mEMSE\u001B[39m\u001B[38;5;130;01m\\\\\u001B[39;00m\u001B[38;5;124m3A\u001B[39m\u001B[38;5;130;01m\\\\\u001B[39;00m\u001B[38;5;124mPE\u001B[39m\u001B[38;5;130;01m\\\\\u001B[39;00m\u001B[38;5;124mfiles\u001B[39m\u001B[38;5;130;01m\\\\\u001B[39;00m\u001B[38;5;124mS001\u001B[39m\u001B[38;5;130;01m\\\\\u001B[39;00m\u001B[38;5;124mS001R01.edf\u001B[39m\u001B[38;5;124m\"\u001B[39m\n\u001B[0;32m      2\u001B[0m raw \u001B[38;5;241m=\u001B[39m mne\u001B[38;5;241m.\u001B[39mio\u001B[38;5;241m.\u001B[39mread_raw_edf(path)\n\u001B[1;32m----> 3\u001B[0m eeg_data_ch \u001B[38;5;241m=\u001B[39m \u001B[43mraw\u001B[49m\u001B[38;5;241;43m.\u001B[39;49m\u001B[43mcopy\u001B[49m\u001B[43m(\u001B[49m\u001B[43m)\u001B[49m\u001B[38;5;241;43m.\u001B[39;49m\u001B[43mpick_channels\u001B[49m\u001B[43m(\u001B[49m\u001B[43m[\u001B[49m\u001B[38;5;124;43m'\u001B[39;49m\u001B[38;5;124;43mFPZ\u001B[39;49m\u001B[38;5;124;43m'\u001B[39;49m\u001B[43m]\u001B[49m\u001B[43m)\u001B[49m\n\u001B[0;32m      4\u001B[0m eeg_data_ch\u001B[38;5;241m.\u001B[39mplot( start\u001B[38;5;241m=\u001B[39m\u001B[38;5;241m0\u001B[39m, duration\u001B[38;5;241m=\u001B[39m\u001B[38;5;241m1\u001B[39m, scalings\u001B[38;5;241m=\u001B[39m{\u001B[38;5;124m'\u001B[39m\u001B[38;5;124meeg\u001B[39m\u001B[38;5;124m'\u001B[39m: \u001B[38;5;241m60e-3\u001B[39m})\n",
      "File \u001B[1;32m<decorator-gen-47>:12\u001B[0m, in \u001B[0;36mpick_channels\u001B[1;34m(self, ch_names, ordered, verbose)\u001B[0m\n",
      "File \u001B[1;32m~\\AppData\\Local\\Programs\\Python\\Python39\\lib\\site-packages\\mne\\channels\\channels.py:682\u001B[0m, in \u001B[0;36mUpdateChannelsMixin.pick_channels\u001B[1;34m(self, ch_names, ordered, verbose)\u001B[0m\n\u001B[0;32m    647\u001B[0m \u001B[38;5;250m\u001B[39m\u001B[38;5;124;03m\"\"\"Pick some channels.\u001B[39;00m\n\u001B[0;32m    648\u001B[0m \n\u001B[0;32m    649\u001B[0m \u001B[38;5;124;03mParameters\u001B[39;00m\n\u001B[1;32m   (...)\u001B[0m\n\u001B[0;32m    679\u001B[0m \u001B[38;5;124;03m.. versionadded:: 0.9.0\u001B[39;00m\n\u001B[0;32m    680\u001B[0m \u001B[38;5;124;03m\"\"\"\u001B[39;00m\n\u001B[0;32m    681\u001B[0m picks \u001B[38;5;241m=\u001B[39m pick_channels(\u001B[38;5;28mself\u001B[39m\u001B[38;5;241m.\u001B[39minfo[\u001B[38;5;124m'\u001B[39m\u001B[38;5;124mch_names\u001B[39m\u001B[38;5;124m'\u001B[39m], ch_names, ordered\u001B[38;5;241m=\u001B[39mordered)\n\u001B[1;32m--> 682\u001B[0m \u001B[38;5;28;01mreturn\u001B[39;00m \u001B[38;5;28;43mself\u001B[39;49m\u001B[38;5;241;43m.\u001B[39;49m\u001B[43m_pick_drop_channels\u001B[49m\u001B[43m(\u001B[49m\u001B[43mpicks\u001B[49m\u001B[43m)\u001B[49m\n",
      "File \u001B[1;32m<decorator-gen-49>:12\u001B[0m, in \u001B[0;36m_pick_drop_channels\u001B[1;34m(self, idx, verbose)\u001B[0m\n",
      "File \u001B[1;32m~\\AppData\\Local\\Programs\\Python\\Python39\\lib\\site-packages\\mne\\channels\\channels.py:813\u001B[0m, in \u001B[0;36mUpdateChannelsMixin._pick_drop_channels\u001B[1;34m(self, idx, verbose)\u001B[0m\n\u001B[0;32m    810\u001B[0m \u001B[38;5;28;01mif\u001B[39;00m \u001B[38;5;28mhasattr\u001B[39m(\u001B[38;5;28mself\u001B[39m, \u001B[38;5;124m'\u001B[39m\u001B[38;5;124m_cals\u001B[39m\u001B[38;5;124m'\u001B[39m):\n\u001B[0;32m    811\u001B[0m     \u001B[38;5;28mself\u001B[39m\u001B[38;5;241m.\u001B[39m_cals \u001B[38;5;241m=\u001B[39m \u001B[38;5;28mself\u001B[39m\u001B[38;5;241m.\u001B[39m_cals[idx]\n\u001B[1;32m--> 813\u001B[0m \u001B[43mpick_info\u001B[49m\u001B[43m(\u001B[49m\u001B[38;5;28;43mself\u001B[39;49m\u001B[38;5;241;43m.\u001B[39;49m\u001B[43minfo\u001B[49m\u001B[43m,\u001B[49m\u001B[43m \u001B[49m\u001B[43midx\u001B[49m\u001B[43m,\u001B[49m\u001B[43m \u001B[49m\u001B[43mcopy\u001B[49m\u001B[38;5;241;43m=\u001B[39;49m\u001B[38;5;28;43;01mFalse\u001B[39;49;00m\u001B[43m)\u001B[49m\n\u001B[0;32m    815\u001B[0m \u001B[38;5;28;01mfor\u001B[39;00m key \u001B[38;5;129;01min\u001B[39;00m (\u001B[38;5;124m'\u001B[39m\u001B[38;5;124m_comp\u001B[39m\u001B[38;5;124m'\u001B[39m, \u001B[38;5;124m'\u001B[39m\u001B[38;5;124m_projector\u001B[39m\u001B[38;5;124m'\u001B[39m):\n\u001B[0;32m    816\u001B[0m     mat \u001B[38;5;241m=\u001B[39m \u001B[38;5;28mgetattr\u001B[39m(\u001B[38;5;28mself\u001B[39m, key, \u001B[38;5;28;01mNone\u001B[39;00m)\n",
      "File \u001B[1;32m<decorator-gen-11>:12\u001B[0m, in \u001B[0;36mpick_info\u001B[1;34m(info, sel, copy, verbose)\u001B[0m\n",
      "File \u001B[1;32m~\\AppData\\Local\\Programs\\Python\\Python39\\lib\\site-packages\\mne\\io\\pick.py:493\u001B[0m, in \u001B[0;36mpick_info\u001B[1;34m(info, sel, copy, verbose)\u001B[0m\n\u001B[0;32m    491\u001B[0m     \u001B[38;5;28;01mreturn\u001B[39;00m info\n\u001B[0;32m    492\u001B[0m \u001B[38;5;28;01melif\u001B[39;00m \u001B[38;5;28mlen\u001B[39m(sel) \u001B[38;5;241m==\u001B[39m \u001B[38;5;241m0\u001B[39m:\n\u001B[1;32m--> 493\u001B[0m     \u001B[38;5;28;01mraise\u001B[39;00m \u001B[38;5;167;01mValueError\u001B[39;00m(\u001B[38;5;124m'\u001B[39m\u001B[38;5;124mNo channels match the selection.\u001B[39m\u001B[38;5;124m'\u001B[39m)\n\u001B[0;32m    494\u001B[0m n_unique \u001B[38;5;241m=\u001B[39m \u001B[38;5;28mlen\u001B[39m(np\u001B[38;5;241m.\u001B[39munique(np\u001B[38;5;241m.\u001B[39marange(\u001B[38;5;28mlen\u001B[39m(info[\u001B[38;5;124m'\u001B[39m\u001B[38;5;124mch_names\u001B[39m\u001B[38;5;124m'\u001B[39m]))[sel]))\n\u001B[0;32m    495\u001B[0m \u001B[38;5;28;01mif\u001B[39;00m n_unique \u001B[38;5;241m!=\u001B[39m \u001B[38;5;28mlen\u001B[39m(sel):\n",
      "\u001B[1;31mValueError\u001B[0m: No channels match the selection."
     ]
    }
   ],
   "source": [
    "path = \"C:\\\\Users\\\\chedl\\\\OneDrive\\\\Bureau\\\\EMSE\\\\3A\\\\PE\\\\essai\\\\2\\\\recording_132_raw.edf\"\n",
    "raw = mne.io.read_raw_edf(path)\n",
    "eeg_data_ch = raw.copy().pick_channels(['O2'])\n",
    "eeg_data_ch.plot( start=0, duration=1, scalings={'eeg': 60e-3})"
   ],
   "metadata": {
    "collapsed": false
   }
  },
  {
   "cell_type": "code",
   "execution_count": 11,
   "outputs": [
    {
     "name": "stdout",
     "output_type": "stream",
     "text": [
      "Extracting EDF parameters from C:\\Users\\chedl\\OneDrive\\Bureau\\EMSE\\3A\\PE\\essai\\1\\annotation_2.edf...\n",
      "EDF file detected\n",
      "Setting channel info structure...\n",
      "Creating raw.info structure...\n",
      "Used Annotations descriptions: ['[4. 3.]']\n"
     ]
    },
    {
     "data": {
      "text/plain": "(array([[0, 0, 1]]), {'[4. 3.]': 1})"
     },
     "execution_count": 11,
     "metadata": {},
     "output_type": "execute_result"
    }
   ],
   "source": [
    "path = \"C:\\\\Users\\\\chedl\\\\OneDrive\\\\Bureau\\EMSE\\\\3A\\\\PE\\\\essai\\\\1\\\\annotation_2.edf\"\n",
    "raw = mne.io.read_raw_edf(path)\n",
    "event = mne.events_from_annotations(raw)"
   ],
   "metadata": {
    "collapsed": false
   }
  },
  {
   "cell_type": "code",
   "execution_count": 16,
   "outputs": [
    {
     "name": "stdout",
     "output_type": "stream",
     "text": [
      "[0.00000000e+00 3.90625000e-03 7.81250000e-03 ... 1.19988281e+02\n",
      " 1.19992188e+02 1.19996094e+02]\n"
     ]
    }
   ],
   "source": [
    "print(raw.times)"
   ],
   "metadata": {
    "collapsed": false
   }
  },
  {
   "cell_type": "code",
   "execution_count": 19,
   "outputs": [
    {
     "name": "stdout",
     "output_type": "stream",
     "text": [
      "Extracting EDF parameters from C:\\Users\\chedl\\OneDrive\\Bureau\\EMSE\\3A\\PE\\essai\\1\\annotation_2.edf...\n",
      "EDF file detected\n",
      "Setting channel info structure...\n",
      "Creating raw.info structure...\n",
      "Reading 0 ... 30719  =      0.000 ...   119.996 secs...\n",
      "Creating RawArray with float64 data, n_channels=1, n_times=30720\n",
      "    Range : 0 ... 30719 =      0.000 ...   119.996 secs\n",
      "Ready.\n",
      "['Fp1', 'AF3', 'F3', 'F7', 'FC5', 'FC1', 'C3', 'T7', 'CP5', 'CP1', 'P3', 'P7', 'PO3', 'O1', 'Oz', 'Pz', 'Fp2', 'AF4', 'Fz', 'F4', 'F8', 'FC6', 'FC2', 'Cz', 'C4', 'T8', 'CP6', 'CP2', 'P4', 'P8', 'PO4', 'O2', 'STI']\n",
      "Overwriting existing file.\n"
     ]
    }
   ],
   "source": [
    "pithpath = \"C:\\\\Users\\\\chedl\\\\OneDrive\\\\Bureau\\EMSE\\\\3A\\\\PE\\\\essai\\\\1\\\\annotation_2.edf\"\n",
    "dir_pithpath = \"C:\\\\Users\\\\chedl\\\\OneDrive\\\\Bureau\\EMSE\\\\3A\\\\PE\\\\test\"\n",
    "session_data = all_eeg[2]\n",
    "session_data = session_data.reshape(32, -1)\n",
    "rawraw = mne.io.read_raw_edf(pithpath, preload=True)\n",
    "\n",
    "stim_data = np.zeros((1, len(rawraw.times)))\n",
    "info = mne.create_info(['STI'], rawraw.info['sfreq'], ['stim'])\n",
    "stim_raw = mne.io.RawArray(stim_data, info)\n",
    "\n",
    "rawraw.add_channels([stim_raw], force_update_info=True)# Create the filename for the EDF file\n",
    "rawraw.add_events(events=[event])\n",
    "print(rawraw.info['ch_names'])\n",
    "edf_filename = f\"recordingcoco_{2}.edf\"\n",
    "# Write the Raw object to an EDF file in the current session's directory\n",
    "edf_path = os.path.join(dir_pithpath, edf_filename)\n",
    "rawraw.export(edf_path, overwrite=True)"
   ],
   "metadata": {
    "collapsed": false
   }
  }
 ],
 "metadata": {
  "kernelspec": {
   "display_name": "Python 3",
   "language": "python",
   "name": "python3"
  },
  "language_info": {
   "codemirror_mode": {
    "name": "ipython",
    "version": 2
   },
   "file_extension": ".py",
   "mimetype": "text/x-python",
   "name": "python",
   "nbconvert_exporter": "python",
   "pygments_lexer": "ipython2",
   "version": "2.7.6"
  }
 },
 "nbformat": 4,
 "nbformat_minor": 0
}
