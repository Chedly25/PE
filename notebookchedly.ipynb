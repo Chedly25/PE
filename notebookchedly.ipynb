{
 "cells": [
  {
   "cell_type": "code",
   "execution_count": 1,
   "metadata": {},
   "outputs": [
    {
     "name": "stderr",
     "output_type": "stream",
     "text": [
      "C:\\Users\\chedl\\AppData\\Local\\Programs\\Python\\Python39\\lib\\site-packages\\scipy\\__init__.py:173: UserWarning: A NumPy version >=1.19.5 and <1.27.0 is required for this version of SciPy (detected version 1.19.3)\n",
      "  warnings.warn(f\"A NumPy version >={np_minversion} and <{np_maxversion}\"\n"
     ]
    },
    {
     "name": "stdout",
     "output_type": "stream",
     "text": [
      "['DatasetConfig', 'ExperimentConfig', '__builtins__', '__cached__', '__doc__', '__file__', '__loader__', '__name__', '__package__', '__path__', '__spec__', 'config', 'extensions']\n"
     ]
    }
   ],
   "source": [
    "import collections.abc\n",
    "#hyper needs the four following aliases to be done manually.\n",
    "collections.Iterable = collections.abc.Iterable\n",
    "collections.Mapping = collections.abc.Mapping\n",
    "collections.MutableSet = collections.abc.MutableSet\n",
    "collections.MutableMapping = collections.abc.MutableMapping\n",
    "\n",
    "import dn3.configuratron\n",
    "print(dir(dn3.configuratron))"
   ]
  },
  {
   "cell_type": "code",
   "execution_count": 3,
   "metadata": {},
   "outputs": [],
   "source": [
    "from dn3.configuratron import ExperimentConfig\n",
    "from dn3.trainable.processes import StandardClassification\n",
    "from dn3.trainable.models import TIDNet\n",
    "\n",
    "# Since we are doing a lot of loading, this is nice to suppress some tedious information\n",
    "import mne\n",
    "mne.set_log_level(False)"
   ]
  },
  {
   "cell_type": "code",
   "execution_count": 25,
   "metadata": {},
   "outputs": [
    {
     "name": "stdout",
     "output_type": "stream",
     "text": [
      "Adding additional configuration entries: dict_keys(['train_params'])\n",
      "Configuratron found 1 datasets.\n"
     ]
    },
    {
     "name": "stderr",
     "output_type": "stream",
     "text": [
      "Scanning C:\\Users\\chedl\\OneDrive\\Bureau\\EMSE\\3A\\PE\\files. If there are a lot of files, this may take a while...: 100%|██████████| 4/4 [00:00<00:00, 26.23it/s, extension=.gdf]\n"
     ]
    },
    {
     "name": "stdout",
     "output_type": "stream",
     "text": [
      "Creating dataset of 315 Preloaded Epoched recordings from 105 people.\n"
     ]
    },
    {
     "name": "stderr",
     "output_type": "stream",
     "text": [
      "Loading Physionet MMIDB: 100%|██████████| 105/105 [00:09<00:00, 11.15person/s]\n"
     ]
    },
    {
     "name": "stdout",
     "output_type": "stream",
     "text": [
      ">> Physionet MMIDB | DSID: None | 105 people | 4408 trials | 90 channels | 960 samples/trial | 160.0Hz | 0 transforms\n",
      "Constructed 1 channel maps\n",
      "====================\n",
      "Used by 315 recordings:\n",
      "EEG (original(new)): Fc5.(FC5) Fc3.(FC3) Fc1.(FC1) Fcz.(FCZ) Fc2.(FC2) Fc4.(FC4) Fc6.(FC6) C5..(C5) C3..(C3) C1..(C1) Cz..(CZ) C2..(C2) C4..(C4) C6..(C6) Cp5.(CP5) Cp3.(CP3) Cp1.(CP1) Cpz.(CPZ) Cp2.(CP2) Cp4.(CP4) Cp6.(CP6) Fp1.(FP1) Fpz.(FPZ) Fp2.(FP2) Af7.(AF7) Af3.(AF3) Afz.(AFZ) Af4.(AF4) Af8.(AF8) F7..(F7) F5..(F5) F3..(F3) F1..(F1) Fz..(FZ) F2..(F2) F4..(F4) F6..(F6) F8..(F8) Ft7.(FT7) Ft8.(FT8) T7..(T7) T8..(T8) T9..(T9) T10.(T10) Tp7.(TP7) Tp8.(TP8) P7..(P7) P5..(P5) P3..(P3) P1..(P1) Pz..(PZ) P2..(P2) P4..(P4) P6..(P6) P8..(P8) Po7.(PO7) Po3.(PO3) Poz.(POZ) Po4.(PO4) Po8.(PO8) O1..(O1) Oz..(OZ) O2..(O2) Iz..(IZ) \n",
      "EOG (original(new)): \n",
      "REF (original(new)): \n",
      "EXTRA (original(new)): \n",
      "Heuristically Assigned: Fc5.(FC5)  Fc3.(FC3)  Fc1.(FC1)  Fcz.(FCZ)  Fc2.(FC2)  Fc4.(FC4)  Fc6.(FC6)  C5..(C5)  C3..(C3)  C1..(C1)  Cz..(CZ)  C2..(C2)  C4..(C4)  C6..(C6)  Cp5.(CP5)  Cp3.(CP3)  Cp1.(CP1)  Cpz.(CPZ)  Cp2.(CP2)  Cp4.(CP4)  Cp6.(CP6)  Fp1.(FP1)  Fpz.(FPZ)  Fp2.(FP2)  Af7.(AF7)  Af3.(AF3)  Afz.(AFZ)  Af4.(AF4)  Af8.(AF8)  F7..(F7)  F5..(F5)  F3..(F3)  F1..(F1)  Fz..(FZ)  F2..(F2)  F4..(F4)  F6..(F6)  F8..(F8)  Ft7.(FT7)  Ft8.(FT8)  T7..(T7)  T8..(T8)  T9..(T9)  T10.(T10)  Tp7.(TP7)  Tp8.(TP8)  P7..(P7)  P5..(P5)  P3..(P3)  P1..(P1)  Pz..(PZ)  P2..(P2)  P4..(P4)  P6..(P6)  P8..(P8)  Po7.(PO7)  Po3.(PO3)  Poz.(POZ)  Po4.(PO4)  Po8.(PO8)  O1..(O1)  Oz..(OZ)  O2..(O2)  Iz..(IZ) \n",
      "--------------------\n",
      "Excluded []\n",
      "====================\n"
     ]
    }
   ],
   "source": [
    "config_filename = 'my_config.yml'\n",
    "experiment = ExperimentConfig(config_filename)\n",
    "ds_config = experiment.datasets['mmidb']\n",
    "dataset = ds_config.auto_construct_dataset()"
   ]
  },
  {
   "cell_type": "code",
   "execution_count": 29,
   "metadata": {},
   "outputs": [],
   "source": [
    "def make_model_and_process():\n",
    "    tidnet = TIDNet.from_dataset(dataset)\n",
    "    return StandardClassification(tidnet, cuda=experiment.use_gpu, learning_rate=ds_config.train_params.lr)"
   ]
  },
  {
   "cell_type": "code",
   "execution_count": 33,
   "metadata": {},
   "outputs": [
    {
     "name": "stdout",
     "output_type": "stream",
     "text": [
      "Training:   >> Physionet MMIDB | DSID: None | 63 people | 2646 trials | 90 channels | 960 samples/trial | 160.0Hz | 0 transforms\n",
      "Validation: >> Physionet MMIDB | DSID: None | 21 people | 880 trials | 90 channels | 960 samples/trial | 160.0Hz | 0 transforms\n",
      "Test:       >> Physionet MMIDB | DSID: None | 21 people | 882 trials | 90 channels | 960 samples/trial | 160.0Hz | 0 transforms\n",
      "Creating TIDNet using: 90 channels x 960 samples at 160.0Hz | 2 targets\n",
      "Loading data with 0 additional workers\n"
     ]
    },
    {
     "data": {
      "text/plain": "Epoch: 100%|##########| 1/1 [00:00<?, ?epoch/s]",
      "application/vnd.jupyter.widget-view+json": {
       "version_major": 2,
       "version_minor": 0,
       "model_id": "905338c85f874f418db11b2ec472ffdb"
      }
     },
     "metadata": {},
     "output_type": "display_data"
    },
    {
     "data": {
      "text/plain": "Iteration:   0%|          | 1/330 [00:00<?, ?batches/s]",
      "application/vnd.jupyter.widget-view+json": {
       "version_major": 2,
       "version_minor": 0,
       "model_id": "02423c556ad040e9a0505d98947b4226"
      }
     },
     "metadata": {},
     "output_type": "display_data"
    },
    {
     "name": "stdout",
     "output_type": "stream",
     "text": [
      "Training: End of Epoch 1 | Accuracy: 67.65% | loss: 0.633 | lr: 5.024e-05 | momentum: 0.900 | epoch: 1.000 |\n"
     ]
    },
    {
     "data": {
      "text/plain": "Predicting:   0%|          | 0/110 [00:00<?, ?it/s]",
      "application/vnd.jupyter.widget-view+json": {
       "version_major": 2,
       "version_minor": 0,
       "model_id": "fb4e76865d784b05bf43cc21c2792100"
      }
     },
     "metadata": {},
     "output_type": "display_data"
    },
    {
     "name": "stdout",
     "output_type": "stream",
     "text": [
      "Validation: End of Epoch 1 | Accuracy: 79.66% | loss: 0.481 |\n",
      "Best loss. Retaining checkpoint...\n",
      "Loading best model...\n"
     ]
    },
    {
     "data": {
      "text/plain": "Predicting:   0%|          | 0/882 [00:00<?, ?it/s]",
      "application/vnd.jupyter.widget-view+json": {
       "version_major": 2,
       "version_minor": 0,
       "model_id": "5f2eb5f9bcc4467fadfcd806ddc80255"
      }
     },
     "metadata": {},
     "output_type": "display_data"
    },
    {
     "name": "stdout",
     "output_type": "stream",
     "text": [
      "Training:   >> Physionet MMIDB | DSID: None | 63 people | 2644 trials | 90 channels | 960 samples/trial | 160.0Hz | 0 transforms\n",
      "Validation: >> Physionet MMIDB | DSID: None | 21 people | 882 trials | 90 channels | 960 samples/trial | 160.0Hz | 0 transforms\n",
      "Test:       >> Physionet MMIDB | DSID: None | 21 people | 882 trials | 90 channels | 960 samples/trial | 160.0Hz | 0 transforms\n",
      "Creating TIDNet using: 90 channels x 960 samples at 160.0Hz | 2 targets\n",
      "Loading data with 0 additional workers\n"
     ]
    },
    {
     "data": {
      "text/plain": "Epoch: 100%|##########| 1/1 [00:00<?, ?epoch/s]",
      "application/vnd.jupyter.widget-view+json": {
       "version_major": 2,
       "version_minor": 0,
       "model_id": "dcf6ed94ff184f469f3e0bdab15cf0ec"
      }
     },
     "metadata": {},
     "output_type": "display_data"
    },
    {
     "data": {
      "text/plain": "Iteration:   0%|          | 1/330 [00:00<?, ?batches/s]",
      "application/vnd.jupyter.widget-view+json": {
       "version_major": 2,
       "version_minor": 0,
       "model_id": "36f2078398de44b4bcc01625ffdd8f74"
      }
     },
     "metadata": {},
     "output_type": "display_data"
    },
    {
     "name": "stdout",
     "output_type": "stream",
     "text": [
      "Training: End of Epoch 1 | Accuracy: 66.29% | loss: 0.690 | lr: 5.024e-05 | momentum: 0.900 | epoch: 1.000 |\n"
     ]
    },
    {
     "data": {
      "text/plain": "Predicting:   0%|          | 0/111 [00:00<?, ?it/s]",
      "application/vnd.jupyter.widget-view+json": {
       "version_major": 2,
       "version_minor": 0,
       "model_id": "bfe435feb4f4421aadb6676e6e0aa7d2"
      }
     },
     "metadata": {},
     "output_type": "display_data"
    },
    {
     "name": "stdout",
     "output_type": "stream",
     "text": [
      "Validation: End of Epoch 1 | Accuracy: 82.77% | loss: 0.451 |\n",
      "Best loss. Retaining checkpoint...\n",
      "Loading best model...\n"
     ]
    },
    {
     "data": {
      "text/plain": "Predicting:   0%|          | 0/882 [00:00<?, ?it/s]",
      "application/vnd.jupyter.widget-view+json": {
       "version_major": 2,
       "version_minor": 0,
       "model_id": "9636801a7e394766859c9d01b9f72bb1"
      }
     },
     "metadata": {},
     "output_type": "display_data"
    },
    {
     "name": "stdout",
     "output_type": "stream",
     "text": [
      "Training:   >> Physionet MMIDB | DSID: None | 63 people | 2644 trials | 90 channels | 960 samples/trial | 160.0Hz | 0 transforms\n",
      "Validation: >> Physionet MMIDB | DSID: None | 21 people | 882 trials | 90 channels | 960 samples/trial | 160.0Hz | 0 transforms\n",
      "Test:       >> Physionet MMIDB | DSID: None | 21 people | 882 trials | 90 channels | 960 samples/trial | 160.0Hz | 0 transforms\n",
      "Creating TIDNet using: 90 channels x 960 samples at 160.0Hz | 2 targets\n",
      "Loading data with 0 additional workers\n"
     ]
    },
    {
     "data": {
      "text/plain": "Epoch: 100%|##########| 1/1 [00:00<?, ?epoch/s]",
      "application/vnd.jupyter.widget-view+json": {
       "version_major": 2,
       "version_minor": 0,
       "model_id": "c8f57ecd0a0547939486e7b212e76011"
      }
     },
     "metadata": {},
     "output_type": "display_data"
    },
    {
     "data": {
      "text/plain": "Iteration:   0%|          | 1/330 [00:00<?, ?batches/s]",
      "application/vnd.jupyter.widget-view+json": {
       "version_major": 2,
       "version_minor": 0,
       "model_id": "5949e6f474444a3b81da425cdb6575fc"
      }
     },
     "metadata": {},
     "output_type": "display_data"
    },
    {
     "name": "stdout",
     "output_type": "stream",
     "text": [
      "Training: End of Epoch 1 | Accuracy: 66.93% | loss: 0.667 | lr: 5.024e-05 | momentum: 0.900 | epoch: 1.000 |\n"
     ]
    },
    {
     "data": {
      "text/plain": "Predicting:   0%|          | 0/111 [00:00<?, ?it/s]",
      "application/vnd.jupyter.widget-view+json": {
       "version_major": 2,
       "version_minor": 0,
       "model_id": "d1ac2598bc7f486c819d587ee100bad0"
      }
     },
     "metadata": {},
     "output_type": "display_data"
    },
    {
     "name": "stdout",
     "output_type": "stream",
     "text": [
      "Validation: End of Epoch 1 | Accuracy: 79.71% | loss: 0.480 |\n",
      "Best loss. Retaining checkpoint...\n",
      "Loading best model...\n"
     ]
    },
    {
     "data": {
      "text/plain": "Predicting:   0%|          | 0/882 [00:00<?, ?it/s]",
      "application/vnd.jupyter.widget-view+json": {
       "version_major": 2,
       "version_minor": 0,
       "model_id": "8593f5b9920143d09395b06bf916263c"
      }
     },
     "metadata": {},
     "output_type": "display_data"
    },
    {
     "name": "stdout",
     "output_type": "stream",
     "text": [
      "Training:   >> Physionet MMIDB | DSID: None | 63 people | 2644 trials | 90 channels | 960 samples/trial | 160.0Hz | 0 transforms\n",
      "Validation: >> Physionet MMIDB | DSID: None | 21 people | 882 trials | 90 channels | 960 samples/trial | 160.0Hz | 0 transforms\n",
      "Test:       >> Physionet MMIDB | DSID: None | 21 people | 882 trials | 90 channels | 960 samples/trial | 160.0Hz | 0 transforms\n",
      "Creating TIDNet using: 90 channels x 960 samples at 160.0Hz | 2 targets\n",
      "Loading data with 0 additional workers\n"
     ]
    },
    {
     "data": {
      "text/plain": "Epoch: 100%|##########| 1/1 [00:00<?, ?epoch/s]",
      "application/vnd.jupyter.widget-view+json": {
       "version_major": 2,
       "version_minor": 0,
       "model_id": "2c2acdd7a0354d2eb1f5fb8ffb4ec2b6"
      }
     },
     "metadata": {},
     "output_type": "display_data"
    },
    {
     "data": {
      "text/plain": "Iteration:   0%|          | 1/330 [00:00<?, ?batches/s]",
      "application/vnd.jupyter.widget-view+json": {
       "version_major": 2,
       "version_minor": 0,
       "model_id": "9f84ecb608594802a71a3009d761245c"
      }
     },
     "metadata": {},
     "output_type": "display_data"
    },
    {
     "name": "stdout",
     "output_type": "stream",
     "text": [
      "Training: End of Epoch 1 | Accuracy: 65.00% | loss: 0.665 | lr: 5.024e-05 | momentum: 0.900 | epoch: 1.000 |\n"
     ]
    },
    {
     "data": {
      "text/plain": "Predicting:   0%|          | 0/111 [00:00<?, ?it/s]",
      "application/vnd.jupyter.widget-view+json": {
       "version_major": 2,
       "version_minor": 0,
       "model_id": "6117262a3ecc488e895ed5c09e67111b"
      }
     },
     "metadata": {},
     "output_type": "display_data"
    },
    {
     "name": "stdout",
     "output_type": "stream",
     "text": [
      "Validation: End of Epoch 1 | Accuracy: 81.52% | loss: 0.456 |\n",
      "Best loss. Retaining checkpoint...\n",
      "Loading best model...\n"
     ]
    },
    {
     "data": {
      "text/plain": "Predicting:   0%|          | 0/882 [00:00<?, ?it/s]",
      "application/vnd.jupyter.widget-view+json": {
       "version_major": 2,
       "version_minor": 0,
       "model_id": "a98094e2d8df4ac9a14681f457fb5540"
      }
     },
     "metadata": {},
     "output_type": "display_data"
    },
    {
     "name": "stdout",
     "output_type": "stream",
     "text": [
      "Training:   >> Physionet MMIDB | DSID: None | 63 people | 2646 trials | 90 channels | 960 samples/trial | 160.0Hz | 0 transforms\n",
      "Validation: >> Physionet MMIDB | DSID: None | 21 people | 882 trials | 90 channels | 960 samples/trial | 160.0Hz | 0 transforms\n",
      "Test:       >> Physionet MMIDB | DSID: None | 21 people | 880 trials | 90 channels | 960 samples/trial | 160.0Hz | 0 transforms\n",
      "Creating TIDNet using: 90 channels x 960 samples at 160.0Hz | 2 targets\n",
      "Loading data with 0 additional workers\n"
     ]
    },
    {
     "data": {
      "text/plain": "Epoch: 100%|##########| 1/1 [00:00<?, ?epoch/s]",
      "application/vnd.jupyter.widget-view+json": {
       "version_major": 2,
       "version_minor": 0,
       "model_id": "95627688d2a34e0ea53ac83f9d0e60bb"
      }
     },
     "metadata": {},
     "output_type": "display_data"
    },
    {
     "data": {
      "text/plain": "Iteration:   0%|          | 1/330 [00:00<?, ?batches/s]",
      "application/vnd.jupyter.widget-view+json": {
       "version_major": 2,
       "version_minor": 0,
       "model_id": "09ba8c8f49dc42a3b8a817b42153368c"
      }
     },
     "metadata": {},
     "output_type": "display_data"
    },
    {
     "name": "stdout",
     "output_type": "stream",
     "text": [
      "Training: End of Epoch 1 | Accuracy: 67.65% | loss: 0.627 | lr: 5.024e-05 | momentum: 0.900 | epoch: 1.000 |\n"
     ]
    },
    {
     "data": {
      "text/plain": "Predicting:   0%|          | 0/111 [00:00<?, ?it/s]",
      "application/vnd.jupyter.widget-view+json": {
       "version_major": 2,
       "version_minor": 0,
       "model_id": "0fe82ea7a4894bc7a5c59cc2c8f7c539"
      }
     },
     "metadata": {},
     "output_type": "display_data"
    },
    {
     "name": "stdout",
     "output_type": "stream",
     "text": [
      "Validation: End of Epoch 1 | Accuracy: 76.76% | loss: 0.464 |\n",
      "Best loss. Retaining checkpoint...\n",
      "Loading best model...\n"
     ]
    },
    {
     "data": {
      "text/plain": "Predicting:   0%|          | 0/880 [00:00<?, ?it/s]",
      "application/vnd.jupyter.widget-view+json": {
       "version_major": 2,
       "version_minor": 0,
       "model_id": "81e6dbcd6f1240a88d80fb82f1a5988a"
      }
     },
     "metadata": {},
     "output_type": "display_data"
    },
    {
     "name": "stdout",
     "output_type": "stream",
     "text": [
      "[0.8378684520721436, 0.7947846055030823, 0.8492063283920288, 0.774376392364502, 0.7954545617103577]\n",
      "Average accuracy: 81.03%\n"
     ]
    }
   ],
   "source": [
    "results = list()\n",
    "for training, validation, test in dataset.lmso(ds_config.train_params.folds):\n",
    "    process = make_model_and_process()\n",
    "\n",
    "    process.fit(training_dataset=training, validation_dataset=validation)\n",
    "\n",
    "    results.append(process.evaluate(test)['Accuracy'])\n",
    "\n",
    "print(results)\n",
    "print(\"Average accuracy: {:.2%}\".format(sum(results)/len(results)))"
   ]
  },
  {
   "cell_type": "code",
   "execution_count": 34,
   "metadata": {},
   "outputs": [
    {
     "ename": "AttributeError",
     "evalue": "'ExperimentConfig' object has no attribute 'training_configuration'",
     "output_type": "error",
     "traceback": [
      "\u001B[1;31m---------------------------------------------------------------------------\u001B[0m",
      "\u001B[1;31mAttributeError\u001B[0m                            Traceback (most recent call last)",
      "Cell \u001B[1;32mIn[34], line 2\u001B[0m\n\u001B[0;32m      1\u001B[0m results \u001B[38;5;241m=\u001B[39m \u001B[38;5;28mdict\u001B[39m()\n\u001B[1;32m----> 2\u001B[0m \u001B[38;5;28;01mfor\u001B[39;00m training, validation, test \u001B[38;5;129;01min\u001B[39;00m dataset\u001B[38;5;241m.\u001B[39mlmso(\u001B[43mexperiment\u001B[49m\u001B[38;5;241;43m.\u001B[39;49m\u001B[43mtraining_configuration\u001B[49m\u001B[38;5;241m.\u001B[39mfolds):\n\u001B[0;32m      3\u001B[0m     process \u001B[38;5;241m=\u001B[39m make_model_and_process()\n\u001B[0;32m      5\u001B[0m     process\u001B[38;5;241m.\u001B[39mfit(training_dataset\u001B[38;5;241m=\u001B[39mtraining, validation_dataset\u001B[38;5;241m=\u001B[39mvalidation,\n\u001B[0;32m      6\u001B[0m                 epochs\u001B[38;5;241m=\u001B[39mexperiment\u001B[38;5;241m.\u001B[39mtraining_configuration\u001B[38;5;241m.\u001B[39mepochs,\n\u001B[0;32m      7\u001B[0m                 batch_size\u001B[38;5;241m=\u001B[39mexperiment\u001B[38;5;241m.\u001B[39mtraining_configuration\u001B[38;5;241m.\u001B[39mbatch_size)\n",
      "\u001B[1;31mAttributeError\u001B[0m: 'ExperimentConfig' object has no attribute 'training_configuration'"
     ]
    }
   ],
   "source": [
    "results = dict()\n",
    "for training, validation, test in dataset.lmso(experiment.training_configuration.folds):\n",
    "    process = make_model_and_process()\n",
    "\n",
    "    process.fit(training_dataset=training, validation_dataset=validation,\n",
    "                epochs=experiment.training_configuration.epochs,\n",
    "                batch_size=experiment.training_configuration.batch_size)\n",
    "\n",
    "    for _, _, test_thinker in test.loso():\n",
    "        results[test_thinker.person_id] = process.evaluate(test_thinker)\n",
    "\n",
    "print(results)\n",
    "print(\"Average accuracy: {:.2%}\".format(sum(results.values())/len(results)))"
   ]
  }
 ],
 "metadata": {
  "kernelspec": {
   "display_name": "Python 3",
   "language": "python",
   "name": "python3"
  },
  "language_info": {
   "name": "python",
   "version": "3.9.7"
  },
  "orig_nbformat": 4
 },
 "nbformat": 4,
 "nbformat_minor": 2
}
